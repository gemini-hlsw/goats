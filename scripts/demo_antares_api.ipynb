{
 "cells": [
  {
   "cell_type": "code",
   "execution_count": 1,
   "id": "2c770863-0549-4f9d-af58-070c1e839416",
   "metadata": {},
   "outputs": [],
   "source": [
    "__author__='Monika Soraisam'\n",
    "__email__='monika.soraisam@noirlab.edu'"
   ]
  },
  {
   "cell_type": "code",
   "execution_count": 2,
   "id": "3667a520-7d3e-4bda-9d11-ee9df54aa054",
   "metadata": {},
   "outputs": [],
   "source": [
    "from antares_client.search import get_by_id, get_by_ztf_object_id\n",
    "import numpy as np\n",
    "from astropy import units as u"
   ]
  },
  {
   "cell_type": "markdown",
   "id": "6d6b9d1c-ee9a-4b6a-b1f2-ef778a2e928e",
   "metadata": {},
   "source": [
    "In ANTARES lingo, an astronomical target/object is also referred to as a *locus*.<br> \n",
    "When pulling the information of a target/locus from the ANTARES database, we can use either the *ANTARES-generated* ID (an alphanumeric ID that starts with *ANT*) or the ID from the ZTF survey. Note that ANTARES is currently serving data from the ongoing ZTF survey.  "
   ]
  },
  {
   "cell_type": "markdown",
   "id": "e50df37a-cb3e-493e-9ede-2e046a6c2cac",
   "metadata": {},
   "source": [
    "**Below, let's retrieve information of this target https://antares.noirlab.edu/loci/ANT20235eaqaaecpcrm via its ANTARES ID.**"
   ]
  },
  {
   "cell_type": "code",
   "execution_count": 3,
   "id": "c97998d7-dc3c-4787-a443-0ce550caead2",
   "metadata": {},
   "outputs": [],
   "source": [
    "# Lookup by ANTARES ID\n",
    "locus = get_by_id(\"ANT20235eaqaaecpcrm\")"
   ]
  },
  {
   "cell_type": "code",
   "execution_count": 4,
   "id": "4e523140-db84-4d55-bcb5-25315c6094dd",
   "metadata": {},
   "outputs": [
    {
     "name": "stdout",
     "output_type": "stream",
     "text": [
      "properties of this locus:\n",
      "\n"
     ]
    },
    {
     "data": {
      "text/plain": [
       "{'num_alerts': 24,\n",
       " 'num_mag_values': 6,\n",
       " 'brightest_alert_id': 'ztf_candidate:2424258846315015011',\n",
       " 'brightest_alert_magnitude': 18.821800231933594,\n",
       " 'brightest_alert_observation_time': 60178.258842600044,\n",
       " 'newest_alert_id': 'ztf_candidate:2432184156315015009',\n",
       " 'newest_alert_magnitude': 19.34956169128418,\n",
       " 'newest_alert_observation_time': 60186.184155100025,\n",
       " 'oldest_alert_id': 'ztf_candidate:2424258846315015011',\n",
       " 'oldest_alert_magnitude': 18.821800231933594,\n",
       " 'oldest_alert_observation_time': 60178.258842600044,\n",
       " 'is_corrected': 'false',\n",
       " 'ztf_object_id': 'ZTF23aazjwtl',\n",
       " 'ztf_ssnamenr': 'null',\n",
       " 'survey': {'ztf': {'id': ['ZTF23aazjwtl'],\n",
       "   'rcid': [63],\n",
       "   'field': [826],\n",
       "   'ssnamenr': ['null']}}}"
      ]
     },
     "execution_count": 4,
     "metadata": {},
     "output_type": "execute_result"
    }
   ],
   "source": [
    "# Here is a summary of some handy properties of this locus -- returns a nested dictionary, where the keys are generally self-explanatory \n",
    "\n",
    "print (f'properties of this locus:\\n') \n",
    "locus.properties"
   ]
  },
  {
   "cell_type": "code",
   "execution_count": 5,
   "id": "14b2a7da-7047-447d-aa0e-b13ef31ec17b",
   "metadata": {},
   "outputs": [
    {
     "data": {
      "text/plain": [
       "<SkyCoord (ICRS): (ra, dec) in deg\n",
       "    (268.58061034, 64.22561702)>"
      ]
     },
     "execution_count": 5,
     "metadata": {},
     "output_type": "execute_result"
    }
   ],
   "source": [
    "# To access the co-ordinates of this locus (format is `astropy.coordinates.sky_coordinate.SkyCoord`). Co-ordinates are not folded in with \n",
    "locus.coordinates"
   ]
  },
  {
   "cell_type": "code",
   "execution_count": 6,
   "id": "67ab5b09-3369-4ce6-a224-205110c34ad0",
   "metadata": {},
   "outputs": [
    {
     "name": "stdout",
     "output_type": "stream",
     "text": [
      "RA:17:54:19.35, DEC:64:13:32.22\n"
     ]
    }
   ],
   "source": [
    "# If we want to display the RA and DEC as HMS and DMS\n",
    "print (f'RA:{locus.coordinates.ra.to_string(unit=u.hour, sep=\":\", precision=2)}, DEC:{locus.coordinates.dec.to_string(unit=u.deg, sep=\":\", precision=2)}')"
   ]
  },
  {
   "cell_type": "code",
   "execution_count": 7,
   "id": "08da23ff-58ff-4e56-8b85-93fae0ce96ba",
   "metadata": {},
   "outputs": [
    {
     "name": "stdout",
     "output_type": "stream",
     "text": [
      "The locus has matches/counterparts in these legacy catalogs: ['tns_public_objects', '2mass_xsc']\n"
     ]
    }
   ],
   "source": [
    "# ANTARES when processing the target (i.e., running through various science filtering algorithms), cross-matches it with a number of legacy catalogs. To access the result of the cross-matching\n",
    "print (f'The locus has matches/counterparts in these legacy catalogs: {locus.catalogs}')"
   ]
  },
  {
   "cell_type": "code",
   "execution_count": null,
   "id": "36a9be41-e651-4b30-a3cc-cded7936301f",
   "metadata": {},
   "outputs": [],
   "source": []
  },
  {
   "cell_type": "code",
   "execution_count": null,
   "id": "a6681986-7e39-40dd-862a-bff1d713d73f",
   "metadata": {},
   "outputs": [],
   "source": []
  },
  {
   "cell_type": "code",
   "execution_count": null,
   "id": "ce2a965c-bc19-489a-8e24-38d218a2c02c",
   "metadata": {},
   "outputs": [],
   "source": []
  }
 ],
 "metadata": {
  "kernelspec": {
   "display_name": "Python 3 (ipykernel)",
   "language": "python",
   "name": "python3"
  },
  "language_info": {
   "codemirror_mode": {
    "name": "ipython",
    "version": 3
   },
   "file_extension": ".py",
   "mimetype": "text/x-python",
   "name": "python",
   "nbconvert_exporter": "python",
   "pygments_lexer": "ipython3",
   "version": "3.10.12"
  }
 },
 "nbformat": 4,
 "nbformat_minor": 5
}
