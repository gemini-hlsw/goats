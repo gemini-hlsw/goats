{
 "cells": [
  {
   "cell_type": "code",
   "execution_count": 1,
   "id": "2c770863-0549-4f9d-af58-070c1e839416",
   "metadata": {},
   "outputs": [],
   "source": [
    "__author__='Monika Soraisam'\n",
    "__email__='monika.soraisam@noirlab.edu'"
   ]
  },
  {
   "cell_type": "code",
   "execution_count": 2,
   "id": "3667a520-7d3e-4bda-9d11-ee9df54aa054",
   "metadata": {},
   "outputs": [],
   "source": [
    "from antares_client.search import get_by_id, get_by_ztf_object_id\n",
    "import numpy as np\n",
    "from astropy import units as u"
   ]
  },
  {
   "cell_type": "markdown",
   "id": "6d6b9d1c-ee9a-4b6a-b1f2-ef778a2e928e",
   "metadata": {},
   "source": [
    "In ANTARES lingo, an astronomical target/object is also referred to as a *locus*.<br> \n",
    "When pulling the information of a target/locus from the ANTARES database, we can use either the *ANTARES-generated* ID (an alphanumeric ID that starts with *ANT*) or the ID from the ZTF survey. Note that ANTARES is currently serving data from the ongoing ZTF survey.  "
   ]
  },
  {
   "cell_type": "markdown",
   "id": "e50df37a-cb3e-493e-9ede-2e046a6c2cac",
   "metadata": {},
   "source": [
    "**Below, let's retrieve information of this target https://antares.noirlab.edu/loci/ANT20235eaqaaecpcrm via its ANTARES ID.**"
   ]
  },
  {
   "cell_type": "code",
   "execution_count": 3,
   "id": "c97998d7-dc3c-4787-a443-0ce550caead2",
   "metadata": {},
   "outputs": [],
   "source": [
    "# Lookup by ANTARES ID\n",
    "locus = get_by_id(\"ANT20235eaqaaecpcrm\")"
   ]
  },
  {
   "cell_type": "code",
   "execution_count": 4,
   "id": "4e523140-db84-4d55-bcb5-25315c6094dd",
   "metadata": {},
   "outputs": [
    {
     "name": "stdout",
     "output_type": "stream",
     "text": [
      "properties of this locus:\n",
      "\n"
     ]
    },
    {
     "data": {
      "text/plain": [
       "{'num_alerts': 26,\n",
       " 'num_mag_values': 8,\n",
       " 'brightest_alert_id': 'ztf_candidate:2437157246315015020',\n",
       " 'brightest_alert_magnitude': 18.604951858520508,\n",
       " 'brightest_alert_observation_time': 60191.157245399896,\n",
       " 'newest_alert_id': 'ztf_candidate:2437157246315015020',\n",
       " 'newest_alert_magnitude': 18.604951858520508,\n",
       " 'newest_alert_observation_time': 60191.157245399896,\n",
       " 'oldest_alert_id': 'ztf_candidate:2424258846315015011',\n",
       " 'oldest_alert_magnitude': 18.821800231933594,\n",
       " 'oldest_alert_observation_time': 60178.258842600044,\n",
       " 'is_corrected': 'false',\n",
       " 'ztf_object_id': 'ZTF23aazjwtl',\n",
       " 'ztf_ssnamenr': 'null',\n",
       " 'survey': {'ztf': {'id': ['ZTF23aazjwtl'],\n",
       "   'rcid': [63],\n",
       "   'field': [826],\n",
       "   'ssnamenr': ['null']}},\n",
       " 'feature_amplitude_magn_r': 0.38857364654541016,\n",
       " 'feature_anderson_darling_normal_magn_r': 0.12289039611318825,\n",
       " 'feature_beyond_1_std_magn_r': 0.4,\n",
       " 'feature_beyond_2_std_magn_r': 0.0,\n",
       " 'feature_cusum_magn_r': 0.38748149577005836,\n",
       " 'feature_eta_e_magn_r': 1.266384321927523,\n",
       " 'feature_inter_percentile_range_2_magn_r': 0.7771472930908203,\n",
       " 'feature_inter_percentile_range_10_magn_r': 0.7771472930908203,\n",
       " 'feature_inter_percentile_range_25_magn_r': 0.4894113540649414,\n",
       " 'feature_kurtosis_magn_r': -1.265570297633107,\n",
       " 'feature_linear_fit_slope_magn_r': -0.023061471163081493,\n",
       " 'feature_linear_fit_slope_sigma_magn_r': 0.009475983745155493,\n",
       " 'feature_linear_fit_reduced_chi2_magn_r': 8.850989806853532,\n",
       " 'feature_linear_trend_magn_r': -0.027109500254239294,\n",
       " 'feature_linear_trend_sigma_magn_r': 0.03384635970170405,\n",
       " 'feature_linear_trend_noise_magn_r': 0.32337566015475916,\n",
       " 'feature_magnitude_percentage_ratio_40_5_magn_r': 0.2531691082810364,\n",
       " 'feature_magnitude_percentage_ratio_20_5_magn_r': 0.7531691082810364,\n",
       " 'feature_maximum_slope_magn_r': 0.1391003044634305,\n",
       " 'feature_mean_magn_r': 18.999810028076173,\n",
       " 'feature_median_absolute_deviation_magn_r': 0.2404003143310547,\n",
       " 'feature_percent_amplitude_magn_r': 0.4071998596191406,\n",
       " 'feature_percent_difference_magnitude_percentile_5_magn_r': 0.04095659645576054,\n",
       " 'feature_percent_difference_magnitude_percentile_10_magn_r': 0.04095659645576054,\n",
       " 'feature_median_buffer_range_percentage_10_magn_r': 0.2,\n",
       " 'feature_median_buffer_range_percentage_20_magn_r': 0.2,\n",
       " 'feature_period_0_magn_r': 14.657275908922944,\n",
       " 'feature_period_s_to_n_0_magn_r': 2.3937443901908977,\n",
       " 'feature_period_1_magn_r': 5.9714827777093475,\n",
       " 'feature_period_s_to_n_1_magn_r': 0.7370946598381387,\n",
       " 'feature_period_2_magn_r': 4.03075087495381,\n",
       " 'feature_period_s_to_n_2_magn_r': -0.431618605004983,\n",
       " 'feature_period_3_magn_r': 3.2904088775133142,\n",
       " 'feature_period_s_to_n_3_magn_r': -0.6026045761166765,\n",
       " 'feature_period_4_magn_r': 0.0,\n",
       " 'feature_period_s_to_n_4_magn_r': 0.0,\n",
       " 'feature_periodogram_amplitude_magn_r': 0.9137924516013044,\n",
       " 'feature_periodogram_beyond_2_std_magn_r': 0.078125,\n",
       " 'feature_periodogram_beyond_3_std_magn_r': 0.0,\n",
       " 'feature_periodogram_standard_deviation_magn_r': 0.525160178658536,\n",
       " 'feature_chi2_magn_r': 8.11893668119087,\n",
       " 'feature_skew_magn_r': -0.019058968010919334,\n",
       " 'feature_standard_deviation_magn_r': 0.30854567679121514,\n",
       " 'feature_stetson_k_magn_r': 0.8650918163692691,\n",
       " 'feature_weighted_mean_magn_r': 18.91190375639681,\n",
       " 'feature_anderson_darling_normal_flux_r': 0.1337404610119446,\n",
       " 'feature_cusum_flux_r': 0.37842449722750515,\n",
       " 'feature_eta_e_flux_r': 1.0582807760687682,\n",
       " 'feature_excess_variance_flux_r': 0.06992265736445932,\n",
       " 'feature_kurtosis_flux_r': -0.8239610430265545,\n",
       " 'feature_mean_variance_flux_r': 0.28226141241884833,\n",
       " 'feature_chi2_flux_r': 8.419792879842497,\n",
       " 'feature_skew_flux_r': 0.4143909856199373,\n",
       " 'feature_stetson_k_flux_r': 0.8705559068205493,\n",
       " 'anomaly_type': 'TBD'}"
      ]
     },
     "execution_count": 4,
     "metadata": {},
     "output_type": "execute_result"
    }
   ],
   "source": [
    "# Here is a summary of some handy properties of this locus -- returns a nested dictionary, where the keys are generally self-explanatory \n",
    "\n",
    "print (f'properties of this locus:\\n') \n",
    "locus.properties"
   ]
  },
  {
   "cell_type": "code",
   "execution_count": 5,
   "id": "14b2a7da-7047-447d-aa0e-b13ef31ec17b",
   "metadata": {},
   "outputs": [
    {
     "data": {
      "text/plain": [
       "<SkyCoord (ICRS): (ra, dec) in deg\n",
       "    (268.58058154, 64.22561674)>"
      ]
     },
     "execution_count": 5,
     "metadata": {},
     "output_type": "execute_result"
    }
   ],
   "source": [
    "# To access the co-ordinates of this locus (format is `astropy.coordinates.sky_coordinate.SkyCoord`). Co-ordinates are not folded in with \n",
    "locus.coordinates"
   ]
  },
  {
   "cell_type": "code",
   "execution_count": 6,
   "id": "67ab5b09-3369-4ce6-a224-205110c34ad0",
   "metadata": {},
   "outputs": [
    {
     "name": "stdout",
     "output_type": "stream",
     "text": [
      "RA 17:54:19.34, DEC 64:13:32.22\n"
     ]
    }
   ],
   "source": [
    "# If we want to display the RA and DEC as HMS and DMS\n",
    "print (f'RA {locus.coordinates.ra.to_string(unit=u.hour, sep=\":\", precision=2)}, DEC {locus.coordinates.dec.to_string(unit=u.deg, sep=\":\", precision=2)}')"
   ]
  },
  {
   "cell_type": "code",
   "execution_count": 7,
   "id": "08da23ff-58ff-4e56-8b85-93fae0ce96ba",
   "metadata": {},
   "outputs": [
    {
     "name": "stdout",
     "output_type": "stream",
     "text": [
      "The locus has matches/counterparts in these legacy catalogs: ['2mass_xsc', 'tns_public_objects']\n"
     ]
    }
   ],
   "source": [
    "# ANTARES, when processing the target (i.e., running through various science filtering algorithms), cross-matches it with a number of legacy catalogs. To access the result of the cross-matching\n",
    "print (f'The locus has matches/counterparts in these legacy catalogs: {locus.catalogs}')"
   ]
  },
  {
   "cell_type": "code",
   "execution_count": 8,
   "id": "36a9be41-e651-4b30-a3cc-cded7936301f",
   "metadata": {},
   "outputs": [
    {
     "name": "stdout",
     "output_type": "stream",
     "text": [
      "The entries of those matched objects in their respective legacy catalogs: \n"
     ]
    },
    {
     "data": {
      "text/plain": [
       "defaultdict(list,\n",
       "            {'tns_public_objects': [{'objid': 134431,\n",
       "               'creationdate': '2023-08-18 11:13:04',\n",
       "               'declination': 64.2256052,\n",
       "               'discmagfilter': 71.0,\n",
       "               'discoverydate': '2023-08-18 07:53:51.648000',\n",
       "               'discoverymag': 18.538000106811523,\n",
       "               'internal_names': 'ATLAS23rjk, ZTF23aazjwtl',\n",
       "               'lastmodified': '2023-08-26 15:25:37',\n",
       "               'name': '2023psq',\n",
       "               'name_prefix': 'AT',\n",
       "               'ra': 268.580536,\n",
       "               'redshift': None,\n",
       "               'reporting_group': 'ATLAS',\n",
       "               'reporting_groupid': '18',\n",
       "               'reports': None,\n",
       "               'source_group': 'ATLAS',\n",
       "               'source_groupid': '18',\n",
       "               'time_received': '2023-08-18 11:13:03',\n",
       "               'type': '',\n",
       "               'typeid': ''}],\n",
       "             '2mass_xsc': [{'sid': 830149,\n",
       "               'cx': -0.010768779374025,\n",
       "               'cy': -0.434707763290415,\n",
       "               'cz': 0.900507187048409,\n",
       "               'decl': 64.224815,\n",
       "               'designation': '17541942+6413293',\n",
       "               'h_flg_k20fe': 0,\n",
       "               'h_m_ext': 12.901,\n",
       "               'h_m_k20fe': 13.072,\n",
       "               'h_msig_ext': 0.121,\n",
       "               'h_msig_k20fe': 0.082,\n",
       "               'htm16ID': 57522742833,\n",
       "               'htm20ID': 14725822165442,\n",
       "               'id': 1175419421641329300,\n",
       "               'j_flg_k20fe': 0,\n",
       "               'j_m_ext': 13.367,\n",
       "               'j_m_k20fe': 13.73,\n",
       "               'j_msig_ext': 0.077,\n",
       "               'j_msig_k20fe': 0.064,\n",
       "               'k_ba': 0.68,\n",
       "               'k_flg_k20fe': 5,\n",
       "               'k_m_ext': 12.217,\n",
       "               'k_m_k20fe': 12.679,\n",
       "               'k_msig_ext': 0.114,\n",
       "               'k_msig_k20fe': 0.11,\n",
       "               'k_phi': 50,\n",
       "               'r_ext': 26.94,\n",
       "               'r_k20fe': 12.6,\n",
       "               'ra': 268.580933,\n",
       "               'sup_ba': 0.74,\n",
       "               'sup_phi': 55}]})"
      ]
     },
     "execution_count": 8,
     "metadata": {},
     "output_type": "execute_result"
    }
   ],
   "source": [
    "# We can also access the contents/properties of the matched object in a given legacy catalog. They are in the form of a dictionary\n",
    "print ('The entries of those matched objects in their respective legacy catalogs: ')\n",
    "locus.catalog_objects"
   ]
  },
  {
   "cell_type": "code",
   "execution_count": 9,
   "id": "f2d6078d-364c-4726-87cb-a9659538350e",
   "metadata": {},
   "outputs": [
    {
     "name": "stdout",
     "output_type": "stream",
     "text": [
      "The TNS_ID of ANTARES target ANT20235eaqaaecpcrm with ZTF_ID ZTF23aazjwtl is 2023psq\n"
     ]
    }
   ],
   "source": [
    "print (f'The TNS_ID of ANTARES target {locus.locus_id} with ZTF_ID {locus.properties[\"ztf_object_id\"]} is {locus.catalog_objects[\"tns_public_objects\"][0][\"name\"]}')"
   ]
  },
  {
   "cell_type": "markdown",
   "id": "9a911d9d-fbae-488a-8191-565d4ab936e8",
   "metadata": {},
   "source": [
    "## We can also create the same `locus` object and retrieve the information of the target using its ZTF id"
   ]
  },
  {
   "cell_type": "code",
   "execution_count": 10,
   "id": "ce2a965c-bc19-489a-8e24-38d218a2c02c",
   "metadata": {},
   "outputs": [
    {
     "name": "stdout",
     "output_type": "stream",
     "text": [
      "RA 17:54:19.34, DEC 64:13:32.22\n",
      "The locus has matches/counterparts in these legacy catalogs: ['2mass_xsc', 'tns_public_objects']\n"
     ]
    }
   ],
   "source": [
    "# Lookup by ZTF ID\n",
    "locus = get_by_ztf_object_id(\"ZTF23aazjwtl\")\n",
    "\n",
    "print (f'RA {locus.coordinates.ra.to_string(unit=u.hour, sep=\":\", precision=2)}, DEC {locus.coordinates.dec.to_string(unit=u.deg, sep=\":\", precision=2)}')\n",
    "print (f'The locus has matches/counterparts in these legacy catalogs: {locus.catalogs}')"
   ]
  },
  {
   "cell_type": "markdown",
   "id": "b6d891c8-ab15-4e55-a0f8-29db4d174d0b",
   "metadata": {},
   "source": [
    "## Below are examples of more advanced searches using the ElasticSearch API of ANTARES"
   ]
  },
  {
   "cell_type": "code",
   "execution_count": 11,
   "id": "49929cda-4dd3-4819-bb7d-55cc1484d1d0",
   "metadata": {},
   "outputs": [],
   "source": [
    "from antares_client.search import search"
   ]
  },
  {
   "cell_type": "code",
   "execution_count": 19,
   "id": "fe2f20ef-74eb-42cd-86bc-22acc54b80e5",
   "metadata": {},
   "outputs": [],
   "source": [
    "## We will retrieve loci, which: \n",
    "## (1) which have been tagged \"nuclear_transient\"\n",
    "## (2) first alert was sent by ZTF within the last month \n",
    "## (3) number of alerts (think of it as data points on its light curve) is greater than 10\n",
    "## (4) latest alert is brighter than 18.5 mag\n",
    "\n",
    "query1 = {\n",
    "    \"query\": {\n",
    "        \"bool\": {\n",
    "            \"filter\": {\n",
    "                \"bool\": {\n",
    "                    \"must\": [\n",
    "                        {\n",
    "                            \"range\": {\n",
    "                                \"properties.oldest_alert_observation_time\": {\n",
    "                                    \"gte\": 60161.8123530671\n",
    "                                }\n",
    "                            }\n",
    "                        },\n",
    "                        {\n",
    "                            \"range\": {\n",
    "                                \"properties.num_mag_values\": {\n",
    "                                    \"gte\": 10\n",
    "                                }\n",
    "                            }\n",
    "                        },\n",
    "                        {\n",
    "                            \"terms\": {\n",
    "                                \"tags\": [\n",
    "                                    \"nuclear_transient\"\n",
    "                                ]\n",
    "                            }\n",
    "                        },\n",
    "                        {\n",
    "                            \"range\": {\n",
    "                                \"properties.brightest_alert_magnitude\": {\n",
    "                                    \"lte\": 18.5\n",
    "                                }\n",
    "                            }\n",
    "                        }\n",
    "                    ]\n",
    "                }\n",
    "            }\n",
    "        }\n",
    "    }\n",
    "}\n"
   ]
  },
  {
   "cell_type": "code",
   "execution_count": 29,
   "id": "f3a33fb4-ee45-4965-bebf-88fb56038df3",
   "metadata": {},
   "outputs": [
    {
     "name": "stdout",
     "output_type": "stream",
     "text": [
      "1 ZTF_ID ZTF23abaspqd, RA 9:00:26.33,    DEC 39:55:59.60, its Antares link is https://antares.noirlab.edu/loci/ANT20237rkde6tg6tqa\n",
      "2 ZTF_ID ZTF23aawwcuu, RA 21:11:20.26,    DEC 31:05:42.69, its Antares link is https://antares.noirlab.edu/loci/ANT20238hk246ek921t\n",
      "3 ZTF_ID ZTF23aaynddf, RA 0:48:53.72,    DEC 18:37:44.72, its Antares link is https://antares.noirlab.edu/loci/ANT2023s2pxc5r7o0j2\n",
      "4 ZTF_ID ZTF23aawqydv, RA 1:17:52.44,    DEC 0:46:50.88, its Antares link is https://antares.noirlab.edu/loci/ANT2023qo98v9g8wp66\n",
      "5 ZTF_ID ZTF23aaxuvkn, RA 7:17:03.17,    DEC 24:57:31.64, its Antares link is https://antares.noirlab.edu/loci/ANT20234vk5r46b40wf\n",
      "6 ZTF_ID ZTF23aaxfnwp, RA 17:43:44.86,    DEC 33:31:48.68, its Antares link is https://antares.noirlab.edu/loci/ANT2023n0h5y0mmfiza\n",
      "7 ZTF_ID ZTF23aawkjdx, RA 23:44:54.94,    DEC 12:21:21.45, its Antares link is https://antares.noirlab.edu/loci/ANT2023x6thwrc65f0q\n",
      "8 ZTF_ID ZTF23aawnewu, RA 6:51:15.27,    DEC 43:23:19.52, its Antares link is https://antares.noirlab.edu/loci/ANT202310zqklevpnsf\n"
     ]
    }
   ],
   "source": [
    "for i,locus in enumerate(search(query1)):\n",
    "    print (i+1, f\"ZTF_ID {locus.properties['ztf_object_id']}, RA {locus.coordinates.ra.to_string(unit=u.hour, sep=':', precision=2)},\\\n",
    "    DEC {locus.coordinates.dec.to_string(unit=u.deg, sep=':', precision=2)}, its Antares link is https://antares.noirlab.edu/loci/{locus.locus_id}\")"
   ]
  },
  {
   "cell_type": "code",
   "execution_count": 37,
   "id": "7a99fd63-6997-4f41-bc1b-ff19c73ca100",
   "metadata": {},
   "outputs": [],
   "source": [
    "## In this query, we will find loci tagged \"nova_test\", whose latest alerts are between 17.95 and 18 mag\n",
    "\n",
    "\n",
    "query2 = {\n",
    "    \"query\": {\n",
    "        \"bool\": {\n",
    "            \"filter\": {\n",
    "                \"bool\": {\n",
    "                    \"must\": [\n",
    "                        {\n",
    "                            \"terms\": {\n",
    "                                \"tags\": [\n",
    "                                    \"nova_test\"\n",
    "                                ]\n",
    "                            }\n",
    "                        },\n",
    "                        {\n",
    "                            \"range\": {\n",
    "                                \"properties.brightest_alert_magnitude\": {\n",
    "                                    \"lte\": 18.0,\n",
    "                                    \"gte\": 17.95\n",
    "                                }\n",
    "                            }\n",
    "                        }\n",
    "                    ]\n",
    "                }\n",
    "            }\n",
    "        }\n",
    "    }\n",
    "}\n"
   ]
  },
  {
   "cell_type": "code",
   "execution_count": 38,
   "id": "4e58ca39-f990-4b3f-8883-e95ee1f1c5d0",
   "metadata": {},
   "outputs": [
    {
     "name": "stdout",
     "output_type": "stream",
     "text": [
      "1 ZTF_ID ZTF23aavugvk, RA 0:23:56.40,    DEC 28:50:57.56, latest alert is 17.96 mag,    its Antares link is https://antares.noirlab.edu/loci/ANT2023hzwf3yeqqee0\n",
      "2 ZTF_ID ZTF23aawieyi, RA 16:21:52.56,    DEC -0:57:03.56, latest alert is 17.98 mag,    its Antares link is https://antares.noirlab.edu/loci/ANT2023ddz9xzl3bur4\n",
      "3 ZTF_ID ZTF18abgivbz, RA 18:06:16.94,    DEC 25:21:37.84, latest alert is 17.98 mag,    its Antares link is https://antares.noirlab.edu/loci/ANT2018enfoq\n",
      "4 ZTF_ID ZTF23aaqkpwb, RA 22:11:08.57,    DEC -24:27:56.49, latest alert is 17.97 mag,    its Antares link is https://antares.noirlab.edu/loci/ANT20236t9eur7u6xht\n",
      "5 ZTF_ID ZTF19adcppsg, RA 18:34:43.69,    DEC -25:18:21.42, latest alert is 17.95 mag,    its Antares link is https://antares.noirlab.edu/loci/ANT2020gzzqy\n",
      "6 ZTF_ID ZTF20abpiaxy, RA 0:44:55.16,    DEC 36:41:32.41, latest alert is 17.99 mag,    its Antares link is https://antares.noirlab.edu/loci/ANT2020nhj6g\n",
      "7 ZTF_ID ZTF23aaxvppp, RA 18:11:32.91,    DEC -18:36:48.94, latest alert is 17.95 mag,    its Antares link is https://antares.noirlab.edu/loci/ANT2023tmh65d1xfc2r\n",
      "8 ZTF_ID ZTF18adamzbd, RA 6:00:21.42,    DEC 42:58:05.72, latest alert is 17.98 mag,    its Antares link is https://antares.noirlab.edu/loci/ANT2019evlco\n",
      "9 ZTF_ID ZTF20abjrtek, RA 19:24:07.65,    DEC -5:22:04.13, latest alert is 17.96 mag,    its Antares link is https://antares.noirlab.edu/loci/ANT2020esif6\n",
      "10 ZTF_ID ZTF19aauxfaw, RA 15:27:39.97,    DEC -19:48:46.04, latest alert is 17.96 mag,    its Antares link is https://antares.noirlab.edu/loci/ANT2020cgoro\n",
      "11 ZTF_ID ZTF23aahyznf, RA 13:26:19.12,    DEC 1:32:29.18, latest alert is 18.00 mag,    its Antares link is https://antares.noirlab.edu/loci/ANT2023rxbdu9hzdvd7\n",
      "12 ZTF_ID ZTF19abdolkk, RA 19:21:46.43,    DEC -27:54:53.85, latest alert is 17.96 mag,    its Antares link is https://antares.noirlab.edu/loci/ANT2019r742y\n",
      "13 ZTF_ID ZTF20abjedaz, RA 19:00:15.84,    DEC -3:36:57.17, latest alert is 17.98 mag,    its Antares link is https://antares.noirlab.edu/loci/ANT2021lyybc\n",
      "14 ZTF_ID ZTF22abjrboo, RA 18:26:07.00,    DEC 30:14:03.43, latest alert is 17.99 mag,    its Antares link is https://antares.noirlab.edu/loci/ANT2021shmog\n",
      "15 ZTF_ID ZTF20aaxahpk, RA 11:18:21.43,    DEC 42:18:14.53, latest alert is 17.96 mag,    its Antares link is https://antares.noirlab.edu/loci/ANT2020ebfny\n",
      "16 ZTF_ID ZTF19abudzwk, RA 17:00:15.23,    DEC -26:17:15.49, latest alert is 17.95 mag,    its Antares link is https://antares.noirlab.edu/loci/ANT2019nbn2i\n",
      "17 ZTF_ID ZTF18acxgsyg, RA 20:19:37.71,    DEC 57:08:25.93, latest alert is 17.97 mag,    its Antares link is https://antares.noirlab.edu/loci/ANT2020vfrki\n",
      "18 ZTF_ID ZTF18aauekse, RA 19:17:56.79,    DEC 29:05:16.70, latest alert is 17.99 mag,    its Antares link is https://antares.noirlab.edu/loci/ANT2020aefzezq\n",
      "19 ZTF_ID ZTF23aaelbgl, RA 7:38:19.66,    DEC 42:06:13.56, latest alert is 17.96 mag,    its Antares link is https://antares.noirlab.edu/loci/ANT2023lgymk9pu913n\n",
      "20 ZTF_ID ZTF19abcmcea, RA 19:51:09.78,    DEC 3:16:14.89, latest alert is 17.96 mag,    its Antares link is https://antares.noirlab.edu/loci/ANT2020xepve\n",
      "21 ZTF_ID ZTF23aaapozo, RA 11:26:35.24,    DEC 17:14:14.90, latest alert is 17.99 mag,    its Antares link is https://antares.noirlab.edu/loci/ANT20195bez4\n",
      "22 ZTF_ID ZTF23aaarwbd, RA 11:32:37.73,    DEC 68:23:48.66, latest alert is 17.98 mag,    its Antares link is https://antares.noirlab.edu/loci/ANT2023i8o16h0t77hl\n",
      "23 ZTF_ID ZTF22abixopl, RA 2:10:53.18,    DEC 54:34:17.72, latest alert is 17.98 mag,    its Antares link is https://antares.noirlab.edu/loci/ANT2022bajqkfogmqbh\n",
      "24 ZTF_ID ZTF18abjyflg, RA 17:11:41.92,    DEC -18:49:15.07, latest alert is 17.97 mag,    its Antares link is https://antares.noirlab.edu/loci/ANT2019s56ia\n",
      "25 ZTF_ID ZTF22abyrovo, RA 0:27:10.09,    DEC 51:03:57.89, latest alert is 17.98 mag,    its Antares link is https://antares.noirlab.edu/loci/ANT2022lj4vvlodndrc\n",
      "26 ZTF_ID ZTF19aadqnrq, RA 7:23:28.85,    DEC -5:21:02.49, latest alert is 17.95 mag,    its Antares link is https://antares.noirlab.edu/loci/ANT2019jtuzo\n",
      "27 ZTF_ID ZTF22abmcono, RA 23:05:01.22,    DEC -21:24:35.45, latest alert is 17.97 mag,    its Antares link is https://antares.noirlab.edu/loci/ANT2022si2qv04wxq7g\n",
      "28 ZTF_ID ZTF19abosmuu, RA 20:15:21.05,    DEC 30:18:28.94, latest alert is 17.97 mag,    its Antares link is https://antares.noirlab.edu/loci/ANT2020okxjc\n",
      "29 ZTF_ID ZTF22abhvfio, RA 0:46:09.01,    DEC 29:26:34.43, latest alert is 17.96 mag,    its Antares link is https://antares.noirlab.edu/loci/ANT20227p3fbfxhb80c\n",
      "30 ZTF_ID ZTF22abmcfbh, RA 22:00:34.81,    DEC 12:00:19.22, latest alert is 17.99 mag,    its Antares link is https://antares.noirlab.edu/loci/ANT2022v4tfhotxp2rs\n",
      "31 ZTF_ID ZTF22aayprcr, RA 23:16:32.38,    DEC 21:24:23.16, latest alert is 18.00 mag,    its Antares link is https://antares.noirlab.edu/loci/ANT2022ecb1dryu0ewe\n",
      "32 ZTF_ID ZTF20acodlcv, RA 6:24:34.96,    DEC 42:38:30.83, latest alert is 17.99 mag,    its Antares link is https://antares.noirlab.edu/loci/ANT2020aetnoqy\n",
      "33 ZTF_ID ZTF19aadmluu, RA 5:27:46.40,    DEC -13:52:56.01, latest alert is 17.97 mag,    its Antares link is https://antares.noirlab.edu/loci/ANT20194icbm\n",
      "34 ZTF_ID ZTF22abfbxop, RA 19:33:04.48,    DEC -20:39:53.30, latest alert is 17.99 mag,    its Antares link is https://antares.noirlab.edu/loci/ANT2022727dkmpa0cgb\n",
      "35 ZTF_ID ZTF19aavauke, RA 19:37:21.08,    DEC 7:31:53.97, latest alert is 17.99 mag,    its Antares link is https://antares.noirlab.edu/loci/ANT2019vttsm\n",
      "36 ZTF_ID ZTF22aalsabr, RA 21:43:05.14,    DEC -17:32:43.70, latest alert is 18.00 mag,    its Antares link is https://antares.noirlab.edu/loci/ANT2022ro5v7ck38i49\n",
      "37 ZTF_ID ZTF21abtdvpg, RA 14:00:44.84,    DEC 49:22:22.71, latest alert is 17.98 mag,    its Antares link is https://antares.noirlab.edu/loci/ANT2021wxz62\n",
      "38 ZTF_ID ZTF22aahaufu, RA 10:57:51.51,    DEC 21:03:23.81, latest alert is 17.96 mag,    its Antares link is https://antares.noirlab.edu/loci/ANT2022yf10icxlf1lq\n",
      "39 ZTF_ID ZTF22aafuqms, RA 20:10:59.33,    DEC 86:29:34.53, latest alert is 17.98 mag,    its Antares link is https://antares.noirlab.edu/loci/ANT2022bwwry\n",
      "40 ZTF_ID ZTF22aaafqzd, RA 15:51:43.01,    DEC 34:02:42.81, latest alert is 17.98 mag,    its Antares link is https://antares.noirlab.edu/loci/ANT2022ag53m\n",
      "41 ZTF_ID ZTF21acjosnp, RA 12:32:09.51,    DEC 68:47:06.58, latest alert is 17.99 mag,    its Antares link is https://antares.noirlab.edu/loci/ANT20216lztk\n",
      "42 ZTF_ID ZTF21abubxmc, RA 1:33:17.19,    DEC 38:29:04.96, latest alert is 17.96 mag,    its Antares link is https://antares.noirlab.edu/loci/ANT2021xb7jm\n",
      "43 ZTF_ID ZTF21acasloo, RA 17:33:11.00,    DEC 22:26:27.12, latest alert is 17.99 mag,    its Antares link is https://antares.noirlab.edu/loci/ANT20212eqzm\n",
      "44 ZTF_ID ZTF20acewgge, RA 5:00:11.54,    DEC 34:42:04.41, latest alert is 18.00 mag,    its Antares link is https://antares.noirlab.edu/loci/ANT202032s7k\n",
      "45 ZTF_ID ZTF19aatvlwv, RA 20:15:42.68,    DEC 8:45:10.86, latest alert is 17.96 mag,    its Antares link is https://antares.noirlab.edu/loci/ANT2020dqrg4\n",
      "46 ZTF_ID ZTF19abdhfhr, RA 19:44:14.51,    DEC -16:07:42.00, latest alert is 18.00 mag,    its Antares link is https://antares.noirlab.edu/loci/ANT2019rzato\n",
      "47 ZTF_ID ZTF19aaptexw, RA 18:18:37.81,    DEC 13:07:05.74, latest alert is 17.97 mag,    its Antares link is https://antares.noirlab.edu/loci/ANT2020eswxu\n",
      "48 ZTF_ID ZTF21abdlrpr, RA 14:26:17.74,    DEC 73:21:19.48, latest alert is 17.97 mag,    its Antares link is https://antares.noirlab.edu/loci/ANT2021olix2\n",
      "49 ZTF_ID ZTF21abqqqtu, RA 0:20:45.19,    DEC -1:01:57.56, latest alert is 17.96 mag,    its Antares link is https://antares.noirlab.edu/loci/ANT2021vmnlu\n",
      "50 ZTF_ID ZTF21abduvqo, RA 19:06:34.31,    DEC -10:00:33.02, latest alert is 18.00 mag,    its Antares link is https://antares.noirlab.edu/loci/ANT2021ouj74\n",
      "51 ZTF_ID ZTF21abjwtrk, RA 14:04:52.53,    DEC 21:38:01.59, latest alert is 17.97 mag,    its Antares link is https://antares.noirlab.edu/loci/ANT2021sygiq\n",
      "52 ZTF_ID ZTF21abbcdtd, RA 18:13:20.19,    DEC 6:21:24.70, latest alert is 17.99 mag,    its Antares link is https://antares.noirlab.edu/loci/ANT2021nhwiu\n",
      "53 ZTF_ID ZTF21aanrvcq, RA 16:33:11.58,    DEC 9:34:01.87, latest alert is 17.98 mag,    its Antares link is https://antares.noirlab.edu/loci/ANT2021hheua\n",
      "54 ZTF_ID ZTF21aaynrdc, RA 11:23:51.43,    DEC -12:20:49.61, latest alert is 17.97 mag,    its Antares link is https://antares.noirlab.edu/loci/ANT2021mdn42\n",
      "55 ZTF_ID ZTF21aagtqgz, RA 17:03:03.84,    DEC 33:32:37.70, latest alert is 17.96 mag,    its Antares link is https://antares.noirlab.edu/loci/ANT2021dntje\n",
      "56 ZTF_ID ZTF21aagmoqw, RA 5:22:14.61,    DEC -13:33:45.45, latest alert is 17.98 mag,    its Antares link is https://antares.noirlab.edu/loci/ANT2021dgmsk\n",
      "57 ZTF_ID ZTF21aakylsb, RA 5:06:09.16,    DEC 58:01:33.73, latest alert is 17.96 mag,    its Antares link is https://antares.noirlab.edu/loci/ANT2021fsy3o\n",
      "58 ZTF_ID ZTF20acgoxns, RA 10:47:06.55,    DEC 30:03:14.55, latest alert is 17.98 mag,    its Antares link is https://antares.noirlab.edu/loci/ANT2020aek4hry\n",
      "59 ZTF_ID ZTF20acwozwz, RA 11:02:08.24,    DEC 58:39:27.32, latest alert is 17.97 mag,    its Antares link is https://antares.noirlab.edu/loci/ANT2020afhegyi\n",
      "60 ZTF_ID ZTF20acpuwbf, RA 6:45:59.24,    DEC 35:36:11.91, latest alert is 17.98 mag,    its Antares link is https://antares.noirlab.edu/loci/ANT2020aeycdci\n",
      "61 ZTF_ID ZTF20acqelhh, RA 4:56:03.77,    DEC -25:09:03.95, latest alert is 17.96 mag,    its Antares link is https://antares.noirlab.edu/loci/ANT2020aeza65i\n",
      "62 ZTF_ID ZTF21aabioux, RA 3:50:47.23,    DEC 6:15:38.74, latest alert is 18.00 mag,    its Antares link is https://antares.noirlab.edu/loci/ANT2021axrsa\n",
      "63 ZTF_ID ZTF20acowddo, RA 1:54:05.89,    DEC 7:08:58.69, latest alert is 17.99 mag,    its Antares link is https://antares.noirlab.edu/loci/ANT2020aevulca\n",
      "64 ZTF_ID ZTF20acnsgdb, RA 18:15:14.99,    DEC 76:55:09.07, latest alert is 17.97 mag,    its Antares link is https://antares.noirlab.edu/loci/ANT2020aesmoeq\n",
      "65 ZTF_ID ZTF20abtkjfw, RA 4:04:38.83,    DEC 33:48:30.65, latest alert is 17.95 mag,    its Antares link is https://antares.noirlab.edu/loci/ANT2020x6gfu\n",
      "66 ZTF_ID ZTF19abegxfs, RA 1:10:20.42,    DEC -9:34:29.05, latest alert is 17.99 mag,    its Antares link is https://antares.noirlab.edu/loci/ANT2019gf3vs\n",
      "67 ZTF_ID ZTF19abypwgj, RA 2:53:14.93,    DEC 29:37:26.79, latest alert is 17.99 mag,    its Antares link is https://antares.noirlab.edu/loci/ANT2019lbnca\n",
      "68 ZTF_ID ZTF19aaqcqkv, RA 13:04:18.45,    DEC 33:28:15.74, latest alert is 17.97 mag,    its Antares link is https://antares.noirlab.edu/loci/ANT2019tjip6\n",
      "69 ZTF_ID ZTF19aasfsoi, RA 18:48:52.71,    DEC 21:21:19.11, latest alert is 17.99 mag,    its Antares link is https://antares.noirlab.edu/loci/ANT2019uz7og\n",
      "70 ZTF_ID ZTF19aakobov, RA 13:23:25.10,    DEC 70:51:56.03, latest alert is 17.98 mag,    its Antares link is https://antares.noirlab.edu/loci/ANT2019v3eom\n",
      "71 ZTF_ID ZTF18acbyoft, RA 6:08:13.00,    DEC 22:10:36.20, latest alert is 17.97 mag,    its Antares link is https://antares.noirlab.edu/loci/ANT2018mt3nk\n"
     ]
    }
   ],
   "source": [
    "for i,locus in enumerate(search(query2)):\n",
    "    print (i+1, f\"ZTF_ID {locus.properties['ztf_object_id']}, RA {locus.coordinates.ra.to_string(unit=u.hour, sep=':', precision=2)},\\\n",
    "    DEC {locus.coordinates.dec.to_string(unit=u.deg, sep=':', precision=2)}, latest alert is {locus.properties['brightest_alert_magnitude']:.2f} mag,\\\n",
    "    its Antares link is https://antares.noirlab.edu/loci/{locus.locus_id}\")"
   ]
  },
  {
   "cell_type": "code",
   "execution_count": null,
   "id": "a78b402b-0e00-435f-bdd4-ee4942bd98ee",
   "metadata": {},
   "outputs": [],
   "source": []
  }
 ],
 "metadata": {
  "kernelspec": {
   "display_name": "Python 3 (ipykernel)",
   "language": "python",
   "name": "python3"
  },
  "language_info": {
   "codemirror_mode": {
    "name": "ipython",
    "version": 3
   },
   "file_extension": ".py",
   "mimetype": "text/x-python",
   "name": "python",
   "nbconvert_exporter": "python",
   "pygments_lexer": "ipython3",
   "version": "3.10.12"
  }
 },
 "nbformat": 4,
 "nbformat_minor": 5
}
