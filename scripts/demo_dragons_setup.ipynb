{
 "cells": [
  {
   "cell_type": "code",
   "execution_count": 1,
   "id": "a8e1f6d5-6a25-4299-97df-ecdfd436d842",
   "metadata": {},
   "outputs": [],
   "source": [
    "__author__ = 'Monika Soraisam'\n",
    "__email__ = 'monika.soraisam@noirlab.edu'"
   ]
  },
  {
   "cell_type": "markdown",
   "id": "e4f8d189-2375-48d8-a6c1-de35a235f8a7",
   "metadata": {},
   "source": [
    "## Once DRAGONS is installed, it needs to be *set up*, which entails generating a config file. Presently, this config file only deals with calibrations. See https://dragons.readthedocs.io/projects/recipe-system-prog-manual/en/v3.1.0/appendices/caldb.html"
   ]
  },
  {
   "cell_type": "code",
   "execution_count": 2,
   "id": "35f9e49b-3bca-4058-a6b1-39cd4bef8844",
   "metadata": {},
   "outputs": [],
   "source": [
    "import os\n",
    "from pathlib import Path"
   ]
  },
  {
   "cell_type": "markdown",
   "id": "4f3f12cb-b532-41a4-9cb2-a532903f881e",
   "metadata": {},
   "source": [
    "## The default config file for dragons (with path) is `~/.dragons/dragonsrc`. For GOATS application it is best to set up a config file per data set being reduced. The location for the config file can be changed by setting an environment variable $DRAGONSRC. This has to be done before importing dragons libraries because the config file is determined during import.   "
   ]
  },
  {
   "cell_type": "code",
   "execution_count": 3,
   "id": "e0c67aa1-8aed-45b0-aaeb-5ef0ea54e11d",
   "metadata": {},
   "outputs": [
    {
     "name": "stdout",
     "output_type": "stream",
     "text": [
      "directory for dragons reduction created\n"
     ]
    }
   ],
   "source": [
    "## Best to do the reduction in a subfolder of the location where the data for a given observation ID have been downloaded\n",
    "data_path = \"/home/monika.soraisam/Desktop/goats_dev/goats_data/data/ZTF23abuwrzn/GEM/GS-2021A-DD-102-9/\" # an example \n",
    "\n",
    "## make a reduction folder \n",
    "reduction_path = Path(f\"{data_path}/reduction\")\n",
    "\n",
    "if not reduction_path.exists():\n",
    "    os.mkdir(reduction_path.as_posix())\n",
    "    print (f\"directory for dragons reduction created\")"
   ]
  },
  {
   "cell_type": "code",
   "execution_count": 4,
   "id": "36161b6e-8bf1-4ee7-8ce2-7cd94b045435",
   "metadata": {},
   "outputs": [
    {
     "name": "stdout",
     "output_type": "stream",
     "text": [
      "/home/monika.soraisam/Desktop/goats_dev/goats_data/data/ZTF23abuwrzn/GEM/GS-2021A-DD-102-9/reduction/dragons_for_goats.db\n",
      "/home/monika.soraisam/Desktop/goats_dev/goats_data/data/ZTF23abuwrzn/GEM/GS-2021A-DD-102-9/reduction/dragonsrc\n"
     ]
    }
   ],
   "source": [
    "mydb = \"dragons_for_goats.db\" \n",
    "mydb_path = reduction_path.as_posix() + '/' + mydb\n",
    "print (mydb_path)\n",
    "\n",
    "\n",
    "dragons_rc = reduction_path.as_posix() + '/dragonsrc'\n",
    "print (dragons_rc)\n",
    "\n",
    "with open(dragons_rc, \"w\") as f:\n",
    "    f.write(\"[calibs]\\ndatabases = {0} get store\".format(mydb_path))"
   ]
  },
  {
   "cell_type": "code",
   "execution_count": 5,
   "id": "0e3e22d6-68e7-4654-ad7b-0ed5cb38df87",
   "metadata": {},
   "outputs": [
    {
     "name": "stdout",
     "output_type": "stream",
     "text": [
      "$DRAGONSRC value is /home/monika.soraisam/Desktop/goats_dev/goats_data/data/ZTF23abuwrzn/GEM/GS-2021A-DD-102-9/reduction/dragonsrc\n"
     ]
    }
   ],
   "source": [
    "## we will put the config file in the reduction path\n",
    "\n",
    "os.environ[\"DRAGONSRC\"] = dragons_rc\n",
    "print (f\"$DRAGONSRC value is {os.environ.get('DRAGONSRC')}\")"
   ]
  },
  {
   "cell_type": "markdown",
   "id": "29146d38-7ba5-4fa2-b58b-61ae2c662939",
   "metadata": {},
   "source": [
    "## Next we create and initialize `mydb` from above as the calibration database (caldb)"
   ]
  },
  {
   "cell_type": "code",
   "execution_count": 6,
   "id": "d7a279f6-5cfc-4835-ad5c-e219a236c03b",
   "metadata": {},
   "outputs": [],
   "source": [
    "# Let's import DRAGONS libraries\n",
    "\n",
    "import astrodata\n",
    "import gemini_instruments\n",
    "from recipe_system import cal_service\n",
    "from gempy.adlibrary import dataselect\n",
    "from gempy.utils import logutils"
   ]
  },
  {
   "cell_type": "code",
   "execution_count": 7,
   "id": "04c08c62-54fe-415f-a2cd-8a9728f408d3",
   "metadata": {},
   "outputs": [
    {
     "name": "stderr",
     "output_type": "stream",
     "text": [
      "2024-02-26 15:46:28 STDINFO  - Local database file /home/monika.soraisam/Desktop/goats_dev/goats_data/data/ZTF23abuwrzn/GEM/GS-2021A-DD-102-9/reduction/dragons_for_goats.db does not exist. Initializing.\n",
      "Local database file /home/monika.soraisam/Desktop/goats_dev/goats_data/data/ZTF23abuwrzn/GEM/GS-2021A-DD-102-9/reduction/dragons_for_goats.db does not exist. Initializing.\n"
     ]
    }
   ],
   "source": [
    "caldb = cal_service.LocalDB(mydb_path, force_init=True) # this will create the db and initialize it with the tables for handling the calibrations\n",
    "\n",
    "## Below is how you can access the calibration files registered in the caldb (calibration database)\n",
    "for F in caldb.list_files():\n",
    "    print (F)\n",
    "\n",
    "## we can also remove existing calibrations in the caldb with the following \n",
    "## caldb.init(wipe=True)"
   ]
  },
  {
   "cell_type": "code",
   "execution_count": 10,
   "id": "7b15e36b-f251-4679-80ba-53647944e621",
   "metadata": {},
   "outputs": [
    {
     "name": "stdout",
     "output_type": "stream",
     "text": [
      "/home/monika.soraisam/Desktop/goats_dev/goats_data/data/ZTF23abuwrzn/GEM/GS-2021A-DD-102-9/reduction/dragons_for_goats.db\n"
     ]
    }
   ],
   "source": [
    "## verify that the correct cal db is loaded\n",
    "cal_service.load_config()\n",
    "print (cal_service.get_db_path_from_config())"
   ]
  },
  {
   "cell_type": "markdown",
   "id": "e26314e8-c4de-4b9b-9540-943a738c58b1",
   "metadata": {},
   "source": [
    "## During DRAGONS reduction, the \"processed\" calibration files will automatically be ingested in the caldb. But I'm manually adding some dummy procssed calibration for another observation ID by hand just to explore some of the methods of the `cal_service.LocalDB` class"
   ]
  },
  {
   "cell_type": "code",
   "execution_count": 16,
   "id": "40e5b1ea-7e05-44f2-9e23-413dbfdd2870",
   "metadata": {},
   "outputs": [],
   "source": [
    "fits_files = os.listdir(data_path)"
   ]
  },
  {
   "cell_type": "code",
   "execution_count": 17,
   "id": "9e7f3ecb-93dd-4035-a513-de76e905f2d5",
   "metadata": {},
   "outputs": [
    {
     "data": {
      "text/plain": [
       "['S20210217S0120.fits',\n",
       " 'S20210221S0282.fits',\n",
       " 'S20210219S0075.fits',\n",
       " 'S20210219S0078.fits',\n",
       " 'S20210219S0076.fits',\n",
       " 'S20210219S0077.fits',\n",
       " 'S20210219S0079.fits',\n",
       " 'S20210217S0118.fits',\n",
       " 'S20210217S0117.fits',\n",
       " 'S20210221S0278.fits',\n",
       " 'S20210221S0280.fits',\n",
       " 'S20210221S0286.fits',\n",
       " 'S20210216S0123.fits',\n",
       " 'S20210216S0122.fits',\n",
       " 'S20210216S0121.fits',\n",
       " 'S20210216S0120.fits',\n",
       " 'S20210216S0119.fits',\n",
       " 'S20210223S0104.fits',\n",
       " 'S20210223S0105.fits',\n",
       " 'S20210223S0106.fits',\n",
       " 'S20210223S0107.fits',\n",
       " 'S20210223S0108.fits',\n",
       " 'S20210214S0042.fits',\n",
       " 'S20210214S0041.fits',\n",
       " 'S20210214S0040.fits',\n",
       " 'S20210214S0039.fits',\n",
       " 'S20210214S0038.fits',\n",
       " 'S20210213S0060.fits',\n",
       " 'S20210213S0059.fits',\n",
       " 'S20210213S0058.fits',\n",
       " 'S20210213S0057.fits',\n",
       " 'S20210213S0056.fits',\n",
       " 'S20210211S0072.fits',\n",
       " 'S20210211S0071.fits',\n",
       " 'S20210211S0070.fits',\n",
       " 'S20210211S0069.fits',\n",
       " 'S20210211S0068.fits',\n",
       " 'S20210219S0102.fits',\n",
       " 'S20210219S0101.fits',\n",
       " 'S20210218S0029.fits',\n",
       " 'reduction',\n",
       " 'N20190331S0154_bias.fits',\n",
       " 'S20210219S0123.fits',\n",
       " 'S20210219S0120.fits',\n",
       " 'S20210219S0124.fits',\n",
       " 'S20210218S0139.fits',\n",
       " 'S20210219S0121.fits',\n",
       " 'S20210218S0138.fits',\n",
       " 'S20210218S0136.fits',\n",
       " 'S20210219S0122.fits',\n",
       " 'S20210218S0135.fits',\n",
       " 'S20210218S0137.fits',\n",
       " 'S20210220S0361.fits',\n",
       " 'S20210220S0362.fits',\n",
       " 'S20210220S0363.fits',\n",
       " 'S20210220S0364.fits',\n",
       " 'S20210220S0365.fits',\n",
       " 'S20210217S0121.fits',\n",
       " 'S20210217S0119.fits',\n",
       " 'S20210221S0284.fits']"
      ]
     },
     "execution_count": 17,
     "metadata": {},
     "output_type": "execute_result"
    }
   ],
   "source": [
    "fits_files"
   ]
  },
  {
   "cell_type": "code",
   "execution_count": 18,
   "id": "db58934f-b86f-43b3-8561-879a6db6a8f6",
   "metadata": {},
   "outputs": [],
   "source": [
    "caldb.add_cal(f\"{data_path}/N20190331S0154_bias.fits\")"
   ]
  },
  {
   "cell_type": "code",
   "execution_count": 19,
   "id": "03e794e2-6a01-46df-b48a-9e446efffd1c",
   "metadata": {},
   "outputs": [
    {
     "name": "stdout",
     "output_type": "stream",
     "text": [
      "FileData(name='N20190331S0154_bias.fits', path='/home/monika.soraisam/Desktop/goats_dev/goats_data/data/ZTF23abuwrzn/GEM/GS-2021A-DD-102-9')\n"
     ]
    }
   ],
   "source": [
    "for F in caldb.list_files():\n",
    "    print (F)"
   ]
  },
  {
   "cell_type": "markdown",
   "id": "06cc7109-5ca5-4d2e-acca-a3cac068773c",
   "metadata": {},
   "source": [
    "### Let's reinitialize the calibration database to explore how one can use an existing database"
   ]
  },
  {
   "cell_type": "code",
   "execution_count": 20,
   "id": "fc9bba23-3675-40d8-b723-4cb0c83daa96",
   "metadata": {},
   "outputs": [
    {
     "name": "stdout",
     "output_type": "stream",
     "text": [
      "FileData(name='N20190331S0154_bias.fits', path='/home/monika.soraisam/Desktop/goats_dev/goats_data/data/ZTF23abuwrzn/GEM/GS-2021A-DD-102-9')\n"
     ]
    }
   ],
   "source": [
    "caldb = cal_service.LocalDB(mydb_path)\n",
    "\n",
    "## Below is how you can access the calibration files registered in the caldb (calibration database)\n",
    "for F in caldb.list_files():\n",
    "    print (F)"
   ]
  },
  {
   "cell_type": "markdown",
   "id": "6db6a30e-4d4e-48d7-b3f1-5ebd59bce24a",
   "metadata": {},
   "source": [
    "**For whatever reason if the user wants to delete all the registered calibration files in the database, then one can do the following**"
   ]
  },
  {
   "cell_type": "code",
   "execution_count": 21,
   "id": "9a721bbc-4a87-44ba-bf45-cfee7189a186",
   "metadata": {},
   "outputs": [],
   "source": [
    "caldb.init(wipe=True)\n",
    "\n",
    "for F in caldb.list_files():\n",
    "    print (F)"
   ]
  },
  {
   "cell_type": "code",
   "execution_count": null,
   "id": "3b05df3e-2ae8-42ca-8ab7-02c15ef91b10",
   "metadata": {},
   "outputs": [],
   "source": []
  }
 ],
 "metadata": {
  "kernelspec": {
   "display_name": "Python 3 (ipykernel)",
   "language": "python",
   "name": "python3"
  },
  "language_info": {
   "codemirror_mode": {
    "name": "ipython",
    "version": 3
   },
   "file_extension": ".py",
   "mimetype": "text/x-python",
   "name": "python",
   "nbconvert_exporter": "python",
   "pygments_lexer": "ipython3",
   "version": "3.11.7"
  }
 },
 "nbformat": 4,
 "nbformat_minor": 5
}
