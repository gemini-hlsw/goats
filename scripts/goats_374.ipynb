{
 "cells": [
  {
   "cell_type": "code",
   "execution_count": 1,
   "id": "9fdeee2b-8e99-4050-8d88-63cc59d6a13c",
   "metadata": {},
   "outputs": [],
   "source": [
    "__author__ = 'Monika Soraisam'\n",
    "__email__ = 'monika.soraisam@noirlab.edu'"
   ]
  },
  {
   "cell_type": "markdown",
   "id": "e8d8db90-d368-4d17-a630-89cadf701c9b",
   "metadata": {},
   "source": [
    "# This notebook is meant for generating trimmed files (NIRI imaging) for unit testing for Dan (https://noirlab.atlassian.net/jira/software/projects/GOATS/boards/57?selectedIssue=GOATS-372)"
   ]
  },
  {
   "cell_type": "code",
   "execution_count": 2,
   "id": "186d641b-19c0-4a3b-ac16-bb618ac3879b",
   "metadata": {},
   "outputs": [],
   "source": [
    "import os\n",
    "import sys\n",
    "from pathlib import Path\n",
    "import pandas as pd\n",
    "%matplotlib inline\n",
    "import matplotlib.pyplot as plt\n",
    "import numpy as np\n",
    "import datetime\n",
    "import types"
   ]
  },
  {
   "cell_type": "code",
   "execution_count": 3,
   "id": "0def4a53-7f83-42ad-8395-67ae0e955b0a",
   "metadata": {},
   "outputs": [],
   "source": [
    "# Now import the DRAGONS libraries \n",
    "import astrodata\n",
    "import gemini_instruments\n",
    "from recipe_system import cal_service\n",
    "from gempy.adlibrary import dataselect\n",
    "from gempy.utils import logutils\n",
    "\n",
    "from recipe_system.reduction.coreReduce import Reduce\n",
    "from gempy.scripts import showpars\n",
    "from gempy.utils.showrecipes import showrecipes\n",
    "from gempy.utils.showrecipes import showprims"
   ]
  },
  {
   "cell_type": "code",
   "execution_count": 4,
   "id": "bcfaf348-caed-4345-a659-b668edc6cebb",
   "metadata": {},
   "outputs": [],
   "source": [
    "## prep the reduction folder\n",
    "def prep_reduction_folder(data_root, obsid):\n",
    "    reduction_path = Path(f\"{data_root}/{obsid}/reduction\")\n",
    "\n",
    "    if not reduction_path.exists():\n",
    "        os.mkdir(reduction_path.as_posix())\n",
    "        print (f\"directory for dragons reduction created\")\n",
    "    \n",
    "    ## change the cwd to the reduction folder\n",
    "    os.chdir(reduction_path.as_posix())\n",
    "    print(f\"Current working directory is: {os.getcwd()}\")\n",
    "\n",
    "    ## write the configuration file \n",
    "    mydb = \"dragons_for_goats.db\" \n",
    "    mydb_path = reduction_path.as_posix() + '/' + mydb\n",
    "    print (mydb_path)\n",
    "    \n",
    "    dragons_rc = reduction_path.as_posix() + '/dragonsrc'\n",
    "    print (dragons_rc)\n",
    "    \n",
    "    with open(dragons_rc, \"w\") as f:\n",
    "        f.write(\"[calibs]\\ndatabases = {0} get store\".format(mydb_path))\n",
    "\n",
    "    return dragons_rc, mydb_path\n"
   ]
  },
  {
   "cell_type": "code",
   "execution_count": 5,
   "id": "3eef1a68-936f-4e8e-9f74-e4997b0ddd40",
   "metadata": {},
   "outputs": [
    {
     "name": "stdout",
     "output_type": "stream",
     "text": [
      "Current working directory is: /Users/monika.soraisam/Desktop/tomdev/real_goats/goats_data/ZTF18abtvjfy/GEM/GN-2016B-FT-16-9/reduction\n",
      "/Users/monika.soraisam/Desktop/tomdev/real_goats/goats_data/ZTF18abtvjfy/GEM/GN-2016B-FT-16-9/reduction/dragons_for_goats.db\n",
      "/Users/monika.soraisam/Desktop/tomdev/real_goats/goats_data/ZTF18abtvjfy/GEM/GN-2016B-FT-16-9/reduction/dragonsrc\n"
     ]
    }
   ],
   "source": [
    "data_path = \"/Users/monika.soraisam/Desktop/tomdev/real_goats/goats_data/ZTF18abtvjfy/GEM\"\n",
    "obsid = 'GN-2016B-FT-16-9'  # NIRI imaging example \n",
    "dragons_rc, mydb_path = prep_reduction_folder(data_path, obsid)"
   ]
  },
  {
   "cell_type": "code",
   "execution_count": 6,
   "id": "4c6fcd16-ecd2-4d6a-8570-87729c02841f",
   "metadata": {},
   "outputs": [],
   "source": [
    "def generate_filelists(location, obsid):\n",
    "    \"\"\"\n",
    "    Parameters\n",
    "    ----------\n",
    "    location: str\n",
    "        Root folder where the Gemini data for a given target is located\n",
    "    obsid: str\n",
    "        Gemini observation ID \n",
    "    \"\"\"\n",
    "\n",
    "    \n",
    "    all_files = [str(pp) for pp in list(Path(location+\"/\"+obsid).glob('*.fits'))]\n",
    "    all_files.sort()\n",
    "    print (f'The total number of files for observation ID {obsid} is {len(all_files)}')\n",
    "\n",
    "    obs_types = ['OBJECT','BIAS','DARK','FLAT','ARC','PINHOLE','RONCHI','CAL','FRINGE','MOS MASK', 'BPM'] #fetched from Obs Type search field on GOA, which is relevant for DRAGONS\n",
    "\n",
    "    all_meta = {}\n",
    "\n",
    "    # Note that even if a few keywords are extracted below, thiis is just meant for demonstration purposes. \n",
    "    # If onyl these keywords are extracted in production, it will not align with  \n",
    "    # implementation of item (2), allowing users to group/select preferred header keywords\n",
    "    for K in obs_types:\n",
    "        all_meta[K] = {'file':[],\n",
    "                        'obs_class':[],\n",
    "                        'group_id':[],\n",
    "                        'exp':[],\n",
    "                        'object':[],\n",
    "                        'wave':[],\n",
    "                        'waveband':[],\n",
    "                        'date':[],\n",
    "                        'roi':[],\n",
    "                        }\n",
    "\n",
    "    object_files = []\n",
    "    for i,F in enumerate(all_files):\n",
    "        ad = astrodata.open(F)\n",
    "\n",
    "        if \"BPM\" in ad.tags or \"UNPREPARED\" in ad.tags: ## want only raw, i.e., \"unprepared\" files, but BPM is an exception, which is processed/prepared \n",
    "            K = ad.observation_type() ## astrodata header also has the observation type, which should match what's in the archive drop-down menu\n",
    "        \n",
    "        elif \"PREPARED\" in ad.tags or \"PROCESSED\" in ad.tags: ## skip all \"prepared\"/\"processed\" files\n",
    "            continue\n",
    "            \n",
    "        all_meta[K]['file'].append(F)\n",
    "        all_meta[K]['obs_class'].append(ad.observation_class())\n",
    "        \n",
    "        # group_id seems to be not implemented for GNIRS spectroscopy yet\n",
    "        if \"GNIRS\" in ad.instrument():\n",
    "            all_meta[K]['group_id'].append(None)\n",
    "        else:\n",
    "            all_meta[K]['group_id'].append(ad.group_id())\n",
    "        all_meta[K]['exp'].append(ad.exposure_time())\n",
    "        all_meta[K]['object'].append(ad.object())\n",
    "        all_meta[K]['wave'].append(ad.central_wavelength())\n",
    "        all_meta[K]['waveband'].append(ad.wavelength_band())\n",
    "        all_meta[K]['date'].append(ad.ut_date())\n",
    "        all_meta[K]['roi'].append(ad.detector_roi_setting()) \n",
    "        #print (F.split('/')[-1], ad.object(), ad.tags)\n",
    "    \n",
    "    return all_meta\n"
   ]
  },
  {
   "cell_type": "code",
   "execution_count": 7,
   "id": "1b3a6a2a-d577-4a54-846d-21e132c017c4",
   "metadata": {},
   "outputs": [
    {
     "name": "stdout",
     "output_type": "stream",
     "text": [
      "The total number of files for observation ID GN-2016B-FT-16-9 is 109\n",
      "There are 42 files for observation type OBJECT\n",
      "There are 10 files for observation type DARK\n",
      "There are 56 files for observation type FLAT\n",
      "There are 1 files for observation type BPM\n"
     ]
    }
   ],
   "source": [
    "all_meta = generate_filelists(data_path, obsid)\n",
    "\n",
    "for K,V in all_meta.items():\n",
    "    if len(V['file'])==0:\n",
    "        continue\n",
    "    print (f\"There are {len(V['file'])} files for observation type {K}\") "
   ]
  },
  {
   "cell_type": "code",
   "execution_count": 8,
   "id": "4f6e6545-92ae-4d5b-9316-620cc11bf8a6",
   "metadata": {},
   "outputs": [],
   "source": [
    "DF_object = pd.DataFrame(all_meta['OBJECT'])\n",
    "DF_dark = pd.DataFrame(all_meta['DARK'])\n",
    "DF_flat = pd.DataFrame(all_meta['FLAT'])\n",
    "DF_bpm = pd.DataFrame(all_meta['BPM'])"
   ]
  },
  {
   "cell_type": "code",
   "execution_count": 9,
   "id": "242f4abd-ce76-4b6a-b029-9fdd54bad1a5",
   "metadata": {},
   "outputs": [
    {
     "name": "stdout",
     "output_type": "stream",
     "text": [
      "There are 3 unique objects in this observation set, namely ['FS 3' 'FS-103' 'iPTF-16fnl']\n"
     ]
    }
   ],
   "source": [
    "print (f\"There are {len(np.unique(DF_object['object'].values))} unique objects in this observation set, namely {np.unique(DF_object['object'].values)}\")"
   ]
  },
  {
   "cell_type": "markdown",
   "id": "9c3bf364-ea70-42c2-952d-73aac56d9691",
   "metadata": {},
   "source": [
    "## We will use astrodata to \"write\" the trimmed arrary files for each observation type but retaining the same header info. "
   ]
  },
  {
   "cell_type": "code",
   "execution_count": 10,
   "id": "beabfe60-ca16-4e3f-8efc-668a5e212ccc",
   "metadata": {},
   "outputs": [
    {
     "name": "stdout",
     "output_type": "stream",
     "text": [
      "Filename: /Users/monika.soraisam/Desktop/tomdev/real_goats/goats_data/ZTF18abtvjfy/GEM/GN-2016B-FT-16-9/N20161012S0380.fits\n",
      "Tags: AT_ZENITH AZEL_TARGET CAL DARK GEMINI NIRI NON_SIDEREAL NORTH RAW\n",
      "    UNPREPARED\n",
      "\n",
      "Pixels Extensions\n",
      "Index  Content                  Type              Dimensions     Format\n",
      "[ 0]   science                  NDAstroData       (1024, 1024)   float32\n"
     ]
    }
   ],
   "source": [
    "## for dark\n",
    "\n",
    "ad = astrodata.open(DF_dark['file'].values[0])\n",
    "ad.info()"
   ]
  },
  {
   "cell_type": "code",
   "execution_count": 12,
   "id": "b98e28cd-c4b0-413b-868d-890a932c3426",
   "metadata": {},
   "outputs": [],
   "source": [
    "# Let's reduce the data array size by a factor 8\n",
    "for i in ad.indices:\n",
    "    temp = ad[i].data\n",
    "    ad[i].data = temp[0:int(temp.shape[0]/8), 0:int(temp.shape[1]/8)]"
   ]
  },
  {
   "cell_type": "code",
   "execution_count": 13,
   "id": "25ade72a-72bf-4d80-a574-c31e372da7d9",
   "metadata": {},
   "outputs": [],
   "source": [
    "# write it to a test file\n",
    "ad.write('/Users/monika.soraisam/Desktop/tomdev/real_goats/goats/scripts/test_files/niri_imaging_dark.fits', overwrite=True)"
   ]
  },
  {
   "cell_type": "code",
   "execution_count": 14,
   "id": "c7aea129-0a89-4e7c-813a-53817ca373f2",
   "metadata": {},
   "outputs": [
    {
     "name": "stdout",
     "output_type": "stream",
     "text": [
      "Filename: /Users/monika.soraisam/Desktop/tomdev/real_goats/goats/scripts/test_files/niri_imaging_dark.fits\n",
      "Tags: AT_ZENITH AZEL_TARGET CAL DARK GEMINI NIRI NON_SIDEREAL NORTH RAW\n",
      "    UNPREPARED\n",
      "\n",
      "Pixels Extensions\n",
      "Index  Content                  Type              Dimensions     Format\n",
      "[ 0]   science                  NDAstroData       (128, 128)     float32\n"
     ]
    }
   ],
   "source": [
    "# check the header is all good\n",
    "AD = astrodata.open('/Users/monika.soraisam/Desktop/tomdev/real_goats/goats/scripts/test_files/niri_imaging_dark.fits')\n",
    "AD.info()"
   ]
  },
  {
   "cell_type": "code",
   "execution_count": 15,
   "id": "f8496d1c-df02-4d54-b6b5-b7443e5d63e1",
   "metadata": {},
   "outputs": [
    {
     "name": "stdout",
     "output_type": "stream",
     "text": [
      "Filename: /Users/monika.soraisam/Desktop/tomdev/real_goats/goats_data/ZTF18abtvjfy/GEM/GN-2016B-FT-16-9/N20161012S0344.fits\n",
      "Tags: AT_ZENITH AZEL_TARGET CAL FLAT GCALFLAT GCAL_IR_OFF GEMINI IMAGE LAMPOFF\n",
      "    NIRI NON_SIDEREAL NORTH RAW UNPREPARED\n",
      "\n",
      "Pixels Extensions\n",
      "Index  Content                  Type              Dimensions     Format\n",
      "[ 0]   science                  NDAstroData       (1024, 1024)   float32\n"
     ]
    }
   ],
   "source": [
    "## for flat\n",
    "ad = astrodata.open(DF_flat['file'].values[0])\n",
    "ad.info()\n"
   ]
  },
  {
   "cell_type": "code",
   "execution_count": 16,
   "id": "89611694-b67d-441d-9b08-63d879b41449",
   "metadata": {},
   "outputs": [
    {
     "name": "stdout",
     "output_type": "stream",
     "text": [
      "Filename: /Users/monika.soraisam/Desktop/tomdev/real_goats/goats/scripts/test_files/niri_imaging_flat.fits\n",
      "Tags: AT_ZENITH AZEL_TARGET CAL FLAT GCALFLAT GCAL_IR_OFF GEMINI IMAGE LAMPOFF\n",
      "    NIRI NON_SIDEREAL NORTH RAW UNPREPARED\n",
      "\n",
      "Pixels Extensions\n",
      "Index  Content                  Type              Dimensions     Format\n",
      "[ 0]   science                  NDAstroData       (128, 128)     float32\n"
     ]
    }
   ],
   "source": [
    "for i in ad.indices:\n",
    "    temp = ad[i].data\n",
    "    ad[i].data = temp[0:int(temp.shape[0]/8), 0:int(temp.shape[1]/8)]\n",
    "# write it to a test file\n",
    "ad.write('/Users/monika.soraisam/Desktop/tomdev/real_goats/goats/scripts/test_files/niri_imaging_flat.fits', overwrite=True)\n",
    "# check the header is all good\n",
    "AD = astrodata.open('/Users/monika.soraisam/Desktop/tomdev/real_goats/goats/scripts/test_files/niri_imaging_flat.fits')\n",
    "AD.info()"
   ]
  },
  {
   "cell_type": "code",
   "execution_count": 18,
   "id": "3d5cff93-fa0e-4758-a786-834f766af552",
   "metadata": {},
   "outputs": [
    {
     "name": "stdout",
     "output_type": "stream",
     "text": [
      "Filename: /Users/monika.soraisam/Desktop/tomdev/real_goats/goats_data/ZTF18abtvjfy/GEM/GN-2016B-FT-16-9/bpm_20010317_niri_niri_11_full_1amp.fits\n",
      "Tags: BPM CAL GEMINI NIRI NORTH PREPARED PROCESSED\n",
      "\n",
      "Pixels Extensions\n",
      "Index  Content                  Type              Dimensions     Format\n",
      "[ 0]   science                  NDAstroData       (1024, 1024)   int32\n"
     ]
    }
   ],
   "source": [
    "## for bpm\n",
    "ad = astrodata.open(DF_bpm['file'].values[0])\n",
    "ad.info()\n"
   ]
  },
  {
   "cell_type": "code",
   "execution_count": 19,
   "id": "dc208b92-d350-4d5f-a3e0-c9be85424bce",
   "metadata": {},
   "outputs": [
    {
     "name": "stdout",
     "output_type": "stream",
     "text": [
      "Filename: /Users/monika.soraisam/Desktop/tomdev/real_goats/goats/scripts/test_files/niri_imaging_bpm.fits\n",
      "Tags: BPM CAL GEMINI NIRI NORTH PREPARED PROCESSED\n",
      "\n",
      "Pixels Extensions\n",
      "Index  Content                  Type              Dimensions     Format\n",
      "[ 0]   science                  NDAstroData       (128, 128)     int32\n"
     ]
    }
   ],
   "source": [
    "for i in ad.indices:\n",
    "    temp = ad[i].data\n",
    "    ad[i].data = temp[0:int(temp.shape[0]/8), 0:int(temp.shape[1]/8)]\n",
    "# write it to a test file\n",
    "ad.write('/Users/monika.soraisam/Desktop/tomdev/real_goats/goats/scripts/test_files/niri_imaging_bpm.fits', overwrite=True)\n",
    "# check the header is all good\n",
    "AD = astrodata.open('/Users/monika.soraisam/Desktop/tomdev/real_goats/goats/scripts/test_files/niri_imaging_bpm.fits')\n",
    "AD.info()"
   ]
  },
  {
   "cell_type": "code",
   "execution_count": 20,
   "id": "e9d9ba4a-0cdb-489d-81a5-629bcfad5261",
   "metadata": {},
   "outputs": [
    {
     "name": "stdout",
     "output_type": "stream",
     "text": [
      "Object is FS 3\n",
      "Filename: /Users/monika.soraisam/Desktop/tomdev/real_goats/goats_data/ZTF18abtvjfy/GEM/GN-2016B-FT-16-9/N20161013S0230.fits\n",
      "Tags: GEMINI IMAGE NIRI NORTH RAW SIDEREAL UNPREPARED\n",
      "\n",
      "Pixels Extensions\n",
      "Index  Content                  Type              Dimensions     Format\n",
      "[ 0]   science                  NDAstroData       (1024, 1024)   float32\n"
     ]
    }
   ],
   "source": [
    "## for object FS 3\n",
    "temp = DF_object[DF_object['object']=='FS 3']\n",
    "ad = astrodata.open(temp['file'].values[0])\n",
    "print (f\"Object is {ad.object()}\")\n",
    "ad.info()"
   ]
  },
  {
   "cell_type": "code",
   "execution_count": 21,
   "id": "74e72f15-7cc4-4ef1-a451-5ac06e9149c7",
   "metadata": {},
   "outputs": [
    {
     "name": "stdout",
     "output_type": "stream",
     "text": [
      "Filename: /Users/monika.soraisam/Desktop/tomdev/real_goats/goats/scripts/test_files/niri_imaging_object_FS_3.fits\n",
      "Tags: GEMINI IMAGE NIRI NORTH RAW SIDEREAL UNPREPARED\n",
      "\n",
      "Pixels Extensions\n",
      "Index  Content                  Type              Dimensions     Format\n",
      "[ 0]   science                  NDAstroData       (128, 128)     float32\n"
     ]
    }
   ],
   "source": [
    "for i in ad.indices:\n",
    "    temp = ad[i].data\n",
    "    ad[i].data = temp[0:int(temp.shape[0]/8), 0:int(temp.shape[1]/8)]\n",
    "# write it to a test file\n",
    "ad.write('/Users/monika.soraisam/Desktop/tomdev/real_goats/goats/scripts/test_files/niri_imaging_object_FS_3.fits', overwrite=True)\n",
    "# check the header is all good\n",
    "AD = astrodata.open('/Users/monika.soraisam/Desktop/tomdev/real_goats/goats/scripts/test_files/niri_imaging_object_FS_3.fits')\n",
    "AD.info()"
   ]
  },
  {
   "cell_type": "code",
   "execution_count": 22,
   "id": "4bc214a3-3a0f-4378-8fe6-0e72d02b5fc9",
   "metadata": {},
   "outputs": [
    {
     "name": "stdout",
     "output_type": "stream",
     "text": [
      "Object is FS-103\n",
      "Filename: /Users/monika.soraisam/Desktop/tomdev/real_goats/goats_data/ZTF18abtvjfy/GEM/GN-2016B-FT-16-9/N20161012S0226.fits\n",
      "Tags: GEMINI IMAGE NIRI NORTH RAW SIDEREAL UNPREPARED\n",
      "\n",
      "Pixels Extensions\n",
      "Index  Content                  Type              Dimensions     Format\n",
      "[ 0]   science                  NDAstroData       (1024, 1024)   float32\n"
     ]
    }
   ],
   "source": [
    "## for object FS-103\n",
    "temp = DF_object[DF_object['object']=='FS-103']\n",
    "ad = astrodata.open(temp['file'].values[0])\n",
    "print (f\"Object is {ad.object()}\")\n",
    "ad.info()"
   ]
  },
  {
   "cell_type": "code",
   "execution_count": 23,
   "id": "1809cc97-7201-47df-b0b5-8669399f4ebb",
   "metadata": {},
   "outputs": [
    {
     "name": "stdout",
     "output_type": "stream",
     "text": [
      "Filename: /Users/monika.soraisam/Desktop/tomdev/real_goats/goats/scripts/test_files/niri_imaging_object_FS_103.fits\n",
      "Tags: GEMINI IMAGE NIRI NORTH RAW SIDEREAL UNPREPARED\n",
      "\n",
      "Pixels Extensions\n",
      "Index  Content                  Type              Dimensions     Format\n",
      "[ 0]   science                  NDAstroData       (128, 128)     float32\n"
     ]
    }
   ],
   "source": [
    "for i in ad.indices:\n",
    "    temp = ad[i].data\n",
    "    ad[i].data = temp[0:int(temp.shape[0]/8), 0:int(temp.shape[1]/8)]\n",
    "# write it to a test file\n",
    "ad.write('/Users/monika.soraisam/Desktop/tomdev/real_goats/goats/scripts/test_files/niri_imaging_object_FS_103.fits', overwrite=True)\n",
    "# check the header is all good\n",
    "AD = astrodata.open('/Users/monika.soraisam/Desktop/tomdev/real_goats/goats/scripts/test_files/niri_imaging_object_FS_103.fits')\n",
    "AD.info()"
   ]
  },
  {
   "cell_type": "code",
   "execution_count": 24,
   "id": "281258b6-1e74-4187-ba25-c3ecfeac60ff",
   "metadata": {},
   "outputs": [
    {
     "name": "stdout",
     "output_type": "stream",
     "text": [
      "Object is iPTF-16fnl\n",
      "Filename: /Users/monika.soraisam/Desktop/tomdev/real_goats/goats_data/ZTF18abtvjfy/GEM/GN-2016B-FT-16-9/N20161012S0236.fits\n",
      "Tags: GEMINI IMAGE NIRI NORTH RAW SIDEREAL UNPREPARED\n",
      "\n",
      "Pixels Extensions\n",
      "Index  Content                  Type              Dimensions     Format\n",
      "[ 0]   science                  NDAstroData       (1024, 1024)   float32\n"
     ]
    }
   ],
   "source": [
    "## for object iPTF-16fnl\n",
    "temp = DF_object[DF_object['object']=='iPTF-16fnl']\n",
    "ad = astrodata.open(temp['file'].values[0])\n",
    "print (f\"Object is {ad.object()}\")\n",
    "ad.info()"
   ]
  },
  {
   "cell_type": "code",
   "execution_count": 25,
   "id": "49d8676c-1d15-4bfe-b519-3b015a970e14",
   "metadata": {},
   "outputs": [
    {
     "name": "stdout",
     "output_type": "stream",
     "text": [
      "Filename: /Users/monika.soraisam/Desktop/tomdev/real_goats/goats/scripts/test_files/niri_imaging_object_iPTF-16fnl.fits\n",
      "Tags: GEMINI IMAGE NIRI NORTH RAW SIDEREAL UNPREPARED\n",
      "\n",
      "Pixels Extensions\n",
      "Index  Content                  Type              Dimensions     Format\n",
      "[ 0]   science                  NDAstroData       (128, 128)     float32\n"
     ]
    }
   ],
   "source": [
    "for i in ad.indices:\n",
    "    temp = ad[i].data\n",
    "    ad[i].data = temp[0:int(temp.shape[0]/8), 0:int(temp.shape[1]/8)]\n",
    "# write it to a test file\n",
    "ad.write('/Users/monika.soraisam/Desktop/tomdev/real_goats/goats/scripts/test_files/niri_imaging_object_iPTF-16fnl.fits', overwrite=True)\n",
    "# check the header is all good\n",
    "AD = astrodata.open('/Users/monika.soraisam/Desktop/tomdev/real_goats/goats/scripts/test_files/niri_imaging_object_iPTF-16fnl.fits')\n",
    "AD.info()"
   ]
  },
  {
   "cell_type": "code",
   "execution_count": null,
   "id": "3b5addf4-10c1-4d41-92d4-274ba18ccb8f",
   "metadata": {},
   "outputs": [],
   "source": []
  }
 ],
 "metadata": {
  "kernelspec": {
   "display_name": "Python 3 (ipykernel)",
   "language": "python",
   "name": "python3"
  },
  "language_info": {
   "codemirror_mode": {
    "name": "ipython",
    "version": 3
   },
   "file_extension": ".py",
   "mimetype": "text/x-python",
   "name": "python",
   "nbconvert_exporter": "python",
   "pygments_lexer": "ipython3",
   "version": "3.10.14"
  }
 },
 "nbformat": 4,
 "nbformat_minor": 5
}
