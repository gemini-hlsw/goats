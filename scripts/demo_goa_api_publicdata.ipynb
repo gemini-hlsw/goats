{
 "cells": [
  {
   "cell_type": "code",
   "execution_count": 1,
   "id": "994946e0-0eb8-4316-864b-f46357963099",
   "metadata": {},
   "outputs": [],
   "source": [
    "__author__ = 'Monika Soraisam'\n",
    "__email__ = 'monika.soraisam@noirlab.edu'"
   ]
  },
  {
   "cell_type": "code",
   "execution_count": 3,
   "id": "c6082ea3-6342-4c8f-bbf3-c7131a321939",
   "metadata": {},
   "outputs": [],
   "source": [
    "import numpy as np\n",
    "import glob\n",
    "import astrodata\n",
    "import gemini_instruments\n",
    "from gempy.adlibrary import dataselect\n",
    "import os\n",
    "from pathlib import Path\n",
    "import urllib\n",
    "import json\n",
    "import shutil\n",
    "import subprocess\n",
    "from astropy.coordinates import SkyCoord\n",
    "import astropy.units as uts\n",
    "import pandas as pd\n",
    "from astropy.time import Time\n",
    "\n",
    "# for programmatically querying the GOA with astroquery\n",
    "from astroquery.gemini import Observations\n",
    "from astropy.table import vstack"
   ]
  },
  {
   "cell_type": "code",
   "execution_count": 4,
   "id": "0672065f-4774-4e6b-8e66-9f7f81a0d493",
   "metadata": {},
   "outputs": [],
   "source": [
    "# Construct the URL for getting a summary of the files\n",
    "## Example program_id used here = GS-2021A-DD-102\n",
    "## Specific observation ID of interest for the above program = GS-2021A-DD-102-9 (https://archive.gemini.edu/searchform/GS-2021A-DD-102-9/cols=CTOWBEQ/not_site_monitoring/NotFail/notengineering#)\n",
    "\n",
    "## At Gemini, every successful obeserving proposal is assigned a program ID. Now, the program may have one target or multiple targets, and for each target, a set of observation or sets of observations. \n",
    "## E.g., say we have a program to observe two supernovae X and Y. For X, say we took observations with the instrument GMOS on day 1 and 2. For Y, say we took only one observation on day 3 with instrument NIRI. \n",
    "## Every set of observation is then given an observation ID, typically the program ID suffixed with some running numbers. \n",
    "\n",
    "\n",
    "# Let's get a 'summary' of the observations taken for this observation ID\n",
    "# Open the URL and fetch the JSON document text into a string\n",
    "obs_id = 'GS-2021A-DD-102-9'\n",
    "url = f\"https://archive.gemini.edu/jsonsummary/canonical/NotFail/{obs_id}\" # can use either program ID or observation ID. With the former, you get all the observations under that program\n",
    "\n",
    "u = urllib.request.urlopen(url)\n",
    "jsondoc = u.read()\n",
    "u.close()\n",
    "\n",
    "# Decode the JSON\n",
    "#files_summary = json.loads(jsondoc)  # dict format\n",
    "files_summary = pd.DataFrame.from_dict(json.loads(jsondoc)) # pandas dataframe"
   ]
  },
  {
   "cell_type": "code",
   "execution_count": 5,
   "id": "9c6531e5-d07d-4442-8500-eed5985f026a",
   "metadata": {},
   "outputs": [],
   "source": [
    "# show all columns of the dataframe \n",
    "pd.set_option('display.max_columns', 10)"
   ]
  },
  {
   "cell_type": "code",
   "execution_count": 6,
   "id": "3e9baac7-e85b-46b2-864d-edd2901e0ebf",
   "metadata": {},
   "outputs": [
    {
     "data": {
      "text/html": [
       "<div>\n",
       "<style scoped>\n",
       "    .dataframe tbody tr th:only-of-type {\n",
       "        vertical-align: middle;\n",
       "    }\n",
       "\n",
       "    .dataframe tbody tr th {\n",
       "        vertical-align: top;\n",
       "    }\n",
       "\n",
       "    .dataframe thead th {\n",
       "        text-align: right;\n",
       "    }\n",
       "</style>\n",
       "<table border=\"1\" class=\"dataframe\">\n",
       "  <thead>\n",
       "    <tr style=\"text-align: right;\">\n",
       "      <th></th>\n",
       "      <th>name</th>\n",
       "      <th>filename</th>\n",
       "      <th>path</th>\n",
       "      <th>compressed</th>\n",
       "      <th>file_size</th>\n",
       "      <th>...</th>\n",
       "      <th>qa_state</th>\n",
       "      <th>release</th>\n",
       "      <th>reduction</th>\n",
       "      <th>types</th>\n",
       "      <th>phot_standard</th>\n",
       "    </tr>\n",
       "  </thead>\n",
       "  <tbody>\n",
       "    <tr>\n",
       "      <th>0</th>\n",
       "      <td>S20210219S0075.fits</td>\n",
       "      <td>S20210219S0075.fits.bz2</td>\n",
       "      <td></td>\n",
       "      <td>True</td>\n",
       "      <td>4697027</td>\n",
       "      <td>...</td>\n",
       "      <td>Pass</td>\n",
       "      <td>2021-08-19</td>\n",
       "      <td>RAW</td>\n",
       "      <td>{'SOUTH', 'SIDEREAL', 'UNPREPARED', 'SPECT', '...</td>\n",
       "      <td>None</td>\n",
       "    </tr>\n",
       "    <tr>\n",
       "      <th>1</th>\n",
       "      <td>S20210219S0076.fits</td>\n",
       "      <td>S20210219S0076.fits.bz2</td>\n",
       "      <td></td>\n",
       "      <td>True</td>\n",
       "      <td>4679182</td>\n",
       "      <td>...</td>\n",
       "      <td>Pass</td>\n",
       "      <td>2021-08-19</td>\n",
       "      <td>RAW</td>\n",
       "      <td>{'GEMINI', 'UNPREPARED', 'GMOS', 'SOUTH', 'SPE...</td>\n",
       "      <td>None</td>\n",
       "    </tr>\n",
       "    <tr>\n",
       "      <th>2</th>\n",
       "      <td>S20210219S0077.fits</td>\n",
       "      <td>S20210219S0077.fits.bz2</td>\n",
       "      <td></td>\n",
       "      <td>True</td>\n",
       "      <td>7639332</td>\n",
       "      <td>...</td>\n",
       "      <td>Pass</td>\n",
       "      <td>2021-02-19</td>\n",
       "      <td>RAW</td>\n",
       "      <td>{'GCALFLAT', 'SOUTH', 'LS', 'FLAT', 'RAW', 'GM...</td>\n",
       "      <td>None</td>\n",
       "    </tr>\n",
       "    <tr>\n",
       "      <th>3</th>\n",
       "      <td>S20210219S0078.fits</td>\n",
       "      <td>S20210219S0078.fits.bz2</td>\n",
       "      <td></td>\n",
       "      <td>True</td>\n",
       "      <td>7706318</td>\n",
       "      <td>...</td>\n",
       "      <td>Pass</td>\n",
       "      <td>2021-02-19</td>\n",
       "      <td>RAW</td>\n",
       "      <td>{'GCALFLAT', 'SOUTH', 'LS', 'FLAT', 'RAW', 'GM...</td>\n",
       "      <td>None</td>\n",
       "    </tr>\n",
       "    <tr>\n",
       "      <th>4</th>\n",
       "      <td>S20210219S0079.fits</td>\n",
       "      <td>S20210219S0079.fits.bz2</td>\n",
       "      <td></td>\n",
       "      <td>True</td>\n",
       "      <td>4734016</td>\n",
       "      <td>...</td>\n",
       "      <td>Pass</td>\n",
       "      <td>2021-08-19</td>\n",
       "      <td>RAW</td>\n",
       "      <td>{'GEMINI', 'UNPREPARED', 'GMOS', 'SOUTH', 'SPE...</td>\n",
       "      <td>None</td>\n",
       "    </tr>\n",
       "  </tbody>\n",
       "</table>\n",
       "<p>5 rows × 66 columns</p>\n",
       "</div>"
      ],
      "text/plain": [
       "                  name                 filename path  compressed  file_size  \\\n",
       "0  S20210219S0075.fits  S20210219S0075.fits.bz2             True    4697027   \n",
       "1  S20210219S0076.fits  S20210219S0076.fits.bz2             True    4679182   \n",
       "2  S20210219S0077.fits  S20210219S0077.fits.bz2             True    7639332   \n",
       "3  S20210219S0078.fits  S20210219S0078.fits.bz2             True    7706318   \n",
       "4  S20210219S0079.fits  S20210219S0079.fits.bz2             True    4734016   \n",
       "\n",
       "   ...  qa_state     release reduction  \\\n",
       "0  ...      Pass  2021-08-19       RAW   \n",
       "1  ...      Pass  2021-08-19       RAW   \n",
       "2  ...      Pass  2021-02-19       RAW   \n",
       "3  ...      Pass  2021-02-19       RAW   \n",
       "4  ...      Pass  2021-08-19       RAW   \n",
       "\n",
       "                                               types  phot_standard  \n",
       "0  {'SOUTH', 'SIDEREAL', 'UNPREPARED', 'SPECT', '...           None  \n",
       "1  {'GEMINI', 'UNPREPARED', 'GMOS', 'SOUTH', 'SPE...           None  \n",
       "2  {'GCALFLAT', 'SOUTH', 'LS', 'FLAT', 'RAW', 'GM...           None  \n",
       "3  {'GCALFLAT', 'SOUTH', 'LS', 'FLAT', 'RAW', 'GM...           None  \n",
       "4  {'GEMINI', 'UNPREPARED', 'GMOS', 'SOUTH', 'SPE...           None  \n",
       "\n",
       "[5 rows x 66 columns]"
      ]
     },
     "execution_count": 6,
     "metadata": {},
     "output_type": "execute_result"
    }
   ],
   "source": [
    "files_summary"
   ]
  },
  {
   "cell_type": "code",
   "execution_count": 7,
   "id": "90605728-5261-4f70-993d-225d5dc62442",
   "metadata": {},
   "outputs": [
    {
     "data": {
      "text/plain": [
       "Index(['name', 'filename', 'path', 'compressed', 'file_size', 'data_size',\n",
       "       'file_md5', 'data_md5', 'lastmod', 'mdready', 'entrytime', 'size',\n",
       "       'md5', 'pending_ingest', 'program_id', 'engineering',\n",
       "       'science_verification', 'procmode', 'calibration_program',\n",
       "       'observation_id', 'data_label', 'telescope', 'instrument',\n",
       "       'ut_datetime', 'local_time', 'observation_type', 'observation_class',\n",
       "       'object', 'ra', 'dec', 'azimuth', 'elevation', 'cass_rotator_pa',\n",
       "       'airmass', 'filter_name', 'exposure_time', 'disperser', 'camera',\n",
       "       'central_wavelength', 'wavelength_band', 'focal_plane_mask',\n",
       "       'detector_binning', 'detector_gain_setting', 'detector_roi_setting',\n",
       "       'detector_readspeed_setting', 'detector_welldepth_setting',\n",
       "       'detector_readmode_setting', 'spectroscopy', 'mode', 'adaptive_optics',\n",
       "       'laser_guide_star', 'wavefront_sensor', 'gcal_lamp', 'raw_iq', 'raw_cc',\n",
       "       'raw_wv', 'raw_bg', 'requested_iq', 'requested_cc', 'requested_wv',\n",
       "       'requested_bg', 'qa_state', 'release', 'reduction', 'types',\n",
       "       'phot_standard'],\n",
       "      dtype='object')"
      ]
     },
     "execution_count": 7,
     "metadata": {},
     "output_type": "execute_result"
    }
   ],
   "source": [
    "files_summary.columns"
   ]
  },
  {
   "cell_type": "code",
   "execution_count": 8,
   "id": "8e4ef08a-5a75-4dce-a3b2-5776023f0c55",
   "metadata": {},
   "outputs": [
    {
     "name": "stdout",
     "output_type": "stream",
     "text": [
      "1 S20210219S0075.fits.bz2 OBJECT science Pass AT2020caa 900.0\n",
      "2 S20210219S0076.fits.bz2 OBJECT science Pass AT2020caa 900.0\n",
      "3 S20210219S0077.fits.bz2 FLAT partnerCal Pass GCALflat 1.0\n",
      "4 S20210219S0078.fits.bz2 FLAT partnerCal Pass GCALflat 1.0\n",
      "5 S20210219S0079.fits.bz2 OBJECT science Pass AT2020caa 900.0\n"
     ]
    }
   ],
   "source": [
    "# Inspect some useful keywords of the files \n",
    "for i in files_summary.index:\n",
    "    F = files_summary.iloc[i]\n",
    "    print (i+1, F['filename'], F['observation_type'], F['observation_class'], F['qa_state'], F['object'], F['exposure_time'])"
   ]
  },
  {
   "cell_type": "markdown",
   "id": "7d0bfc56-c3d1-4457-9303-ae253eeac9e7",
   "metadata": {},
   "source": [
    "#### A note about associated calibrations for a particular program: a jsonsummary API *feature* doesn't exist for these files like that for the program/object files. "
   ]
  },
  {
   "cell_type": "markdown",
   "id": "50007a23-90cf-47a4-94f4-2c824b0f6f7d",
   "metadata": {},
   "source": [
    "**Let's download the observation data alongwith the required calibration files. Nice thing about the Gemini archive is, it does a smart association of the latter for a specific observation ID, so one doesn't need to scour for them**"
   ]
  },
  {
   "cell_type": "code",
   "execution_count": 9,
   "id": "b7ca5d14-27f7-4189-b4ed-187ec3b43974",
   "metadata": {},
   "outputs": [
    {
     "name": "stdout",
     "output_type": "stream",
     "text": [
      "folder to store data already exists\n"
     ]
    }
   ],
   "source": [
    "if not Path(\"../../goa_download/\").exists():\n",
    "    os.mkdir(\"../../goa_download/\")\n",
    "    print (f\"folder created to store data\")\n",
    "else:\n",
    "    print (f\"folder to store data already exists\")"
   ]
  },
  {
   "cell_type": "code",
   "execution_count": 10,
   "id": "d91c57a0-0797-402f-8a68-a533a7ddf934",
   "metadata": {},
   "outputs": [
    {
     "name": "stdout",
     "output_type": "stream",
     "text": [
      "Raw data for observation ID GS-2021A-DD-102-9 will be stored here /Users/monika.soraisam/Desktop/tomdev/real_goats/goats/scripts/../../goa_download/gmos.tar\n",
      "Associated calibration data for observation ID GS-2021A-DD-102-9 will be stored here /Users/monika.soraisam/Desktop/tomdev/real_goats/goats/scripts/../../goa_download/gmos_cal.tar\n"
     ]
    }
   ],
   "source": [
    "# Let's define the URLs and local paths for downloading the necessary program data in bulk (as a tar archive)\n",
    "\n",
    "url = f\"https://archive.gemini.edu/download/canonical/NotFail/{obs_id}/OBJECT\" \n",
    "tar_local = Path.cwd().as_posix() + \"/../../goa_download/gmos.tar\"\n",
    "print(f\"Raw data for observation ID {obs_id} will be stored here {tar_local}\")\n",
    "\n",
    "# for associated calibration files\n",
    "url_cal = f\"https://archive.gemini.edu/download/associated_calibrations/canonical/NotFail/{obs_id}\"\n",
    "tar_cal_local = Path.cwd().as_posix() + \"/../../goa_download/gmos_cal.tar\"\n",
    "print(f\"Associated calibration data for observation ID {obs_id} will be stored here {tar_cal_local}\")"
   ]
  },
  {
   "cell_type": "code",
   "execution_count": 11,
   "id": "73526c6d-9db1-4ac2-addc-4afc3176c9aa",
   "metadata": {},
   "outputs": [
    {
     "name": "stdout",
     "output_type": "stream",
     "text": [
      "Download of /Users/monika.soraisam/Desktop/tomdev/real_goats/goats/scripts/../../goa_download/gmos.tar completed\n"
     ]
    }
   ],
   "source": [
    "# Download the OBJECT files for the program\n",
    "with urllib.request.urlopen(url) as response:\n",
    "    with open(tar_local, 'wb') as out_file:\n",
    "        shutil.copyfileobj(response, out_file)\n",
    "\n",
    "# untar the file\n",
    "shutil.unpack_archive(tar_local, Path(tar_local).parent) # destination is the parent directory of the tar (see above)\n",
    "os.remove(tar_local)\n",
    "\n",
    "print (f\"Download of {tar_local} completed\")"
   ]
  },
  {
   "cell_type": "code",
   "execution_count": 12,
   "id": "6f429927-ed7c-4cdc-b434-a5a429edae7d",
   "metadata": {},
   "outputs": [
    {
     "name": "stdout",
     "output_type": "stream",
     "text": [
      "Download of /Users/monika.soraisam/Desktop/tomdev/real_goats/goats/scripts/../../goa_download/gmos_cal.tar completed\n"
     ]
    }
   ],
   "source": [
    "# Download the associated calibration files for the observation ID \n",
    "with urllib.request.urlopen(url_cal) as response:\n",
    "    with open(tar_cal_local, 'wb') as out_file:\n",
    "        shutil.copyfileobj(response, out_file)\n",
    "\n",
    "# untar the file \n",
    "shutil.unpack_archive(tar_cal_local, Path(tar_cal_local).parent) # destination is the parent directory of the tar\n",
    "os.remove(tar_cal_local)\n",
    "\n",
    "print (f\"Download of {tar_cal_local} completed\")"
   ]
  },
  {
   "cell_type": "code",
   "execution_count": 13,
   "id": "6724b6a3-39a9-4b94-ac6e-4cd25f44c037",
   "metadata": {},
   "outputs": [
    {
     "name": "stdout",
     "output_type": "stream",
     "text": [
      "The downloaded files: \n",
      " ['S20210220S0363.fits.bz2', 'S20210220S0362.fits.bz2', 'md5sums.txt', 'S20210211S0072.fits.bz2', 'S20210221S0278.fits.bz2', 'S20210221S0280.fits.bz2', 'S20210218S0135.fits.bz2', 'S20210214S0042.fits.bz2', 'S20210213S0060.fits.bz2', 'S20210217S0120.fits.bz2', 'S20210217S0121.fits.bz2', 'S20210223S0105.fits.bz2', 'S20210223S0104.fits.bz2', 'S20210223S0108.fits.bz2', 'S20210217S0119.fits.bz2', 'S20210217S0118.fits.bz2', 'S20210221S0286.fits.bz2', 'S20210213S0058.fits.bz2', 'S20210213S0059.fits.bz2', 'S20210218S0138.fits.bz2', 'S20210218S0139.fits.bz2', 'S20210219S0121.fits.bz2', 'S20210219S0120.fits.bz2', 'S20210214S0038.fits.bz2', 'S20210214S0039.fits.bz2', 'S20210211S0068.fits.bz2', 'S20210211S0069.fits.bz2', 'S20210219S0102.fits.bz2', 'S20210220S0364.fits.bz2', 'S20210220S0365.fits.bz2', 'S20210216S0123.fits.bz2', 'S20210216S0122.fits.bz2', 'S20210219S0077.fits.bz2', 'S20210219S0076.fits.bz2', 'S20210223S0106.fits.bz2', 'S20210223S0107.fits.bz2', 'S20210217S0117.fits.bz2', 'S20210213S0056.fits.bz2', 'S20210213S0057.fits.bz2', 'S20210219S0124.fits.bz2', 'S20210218S0136.fits.bz2', 'S20210218S0137.fits.bz2', 'S20210221S0282.fits.bz2', 'S20210214S0041.fits.bz2', 'S20210214S0040.fits.bz2', 'S20210216S0119.fits.bz2', 'S20210218S0029.fits.bz2', 'S20210220S0361.fits.bz2', 'S20210211S0071.fits.bz2', 'S20210211S0070.fits.bz2', 'S20210219S0079.fits.bz2', 'S20210219S0078.fits.bz2', 'README.txt', 'S20210216S0120.fits.bz2', 'S20210216S0121.fits.bz2', 'S20210219S0075.fits.bz2', 'S20210219S0101.fits.bz2', 'S20210219S0122.fits.bz2', 'S20210219S0123.fits.bz2', 'S20210221S0284.fits.bz2']\n"
     ]
    }
   ],
   "source": [
    "print (f'The downloaded files: \\n {os.listdir(\"../../goa_download/\")}')"
   ]
  },
  {
   "cell_type": "code",
   "execution_count": 14,
   "id": "9526c3c4-b7ef-40d4-a9fc-c46b05c3fe84",
   "metadata": {},
   "outputs": [
    {
     "name": "stdout",
     "output_type": "stream",
     "text": [
      "Downloaded fits files decompressed\n"
     ]
    }
   ],
   "source": [
    "# Note that the downloaded fits files are compressed (as bz2 files) as listed above. Let's decompress them\n",
    "subp = subprocess.Popen(('bunzip2 {0}'.format(str(Path(tar_local).parent) + '/*.bz2')), shell=True).communicate()[0]\n",
    "print (f\"Downloaded fits files decompressed\")"
   ]
  },
  {
   "cell_type": "markdown",
   "id": "55421b32-fc08-4075-a068-00a661970e20",
   "metadata": {},
   "source": [
    "### Let's inspect the metadata of these fits files using astrodata -- a library created by the DRAGONS team for working with fits files "
   ]
  },
  {
   "cell_type": "code",
   "execution_count": 15,
   "id": "8d92a556-746b-4b3e-96a7-8e3163516833",
   "metadata": {
    "tags": []
   },
   "outputs": [
    {
     "name": "stdout",
     "output_type": "stream",
     "text": [
      "S20210221S0286.fits Bias {'BIAS', 'GEMINI', 'UNPREPARED', 'SOUTH', 'CAL', 'GMOS', 'RAW'}\n",
      "S20210219S0121.fits Bias {'BIAS', 'GEMINI', 'UNPREPARED', 'SOUTH', 'CAL', 'GMOS', 'RAW'}\n",
      "S20210211S0071.fits Bias {'BIAS', 'GEMINI', 'SOUTH', 'AZEL_TARGET', 'RAW', 'UNPREPARED', 'CAL', 'NON_SIDEREAL', 'AT_ZENITH', 'GMOS'}\n",
      "S20210219S0101.fits CuAr {'GEMINI', 'SOUTH', 'SPECT', 'RAW', 'UNPREPARED', 'CAL', 'ARC', 'LS', 'GMOS'}\n",
      "S20210213S0059.fits Bias {'BIAS', 'GEMINI', 'SOUTH', 'AZEL_TARGET', 'RAW', 'UNPREPARED', 'CAL', 'NON_SIDEREAL', 'AT_ZENITH', 'GMOS'}\n",
      "S20210217S0119.fits Bias {'BIAS', 'GEMINI', 'UNPREPARED', 'SOUTH', 'CAL', 'GMOS', 'RAW'}\n",
      "S20210223S0105.fits Bias {'BIAS', 'GEMINI', 'SOUTH', 'AZEL_TARGET', 'RAW', 'UNPREPARED', 'CAL', 'NON_SIDEREAL', 'AT_ZENITH', 'GMOS'}\n",
      "S20210223S0104.fits Bias {'BIAS', 'GEMINI', 'SOUTH', 'AZEL_TARGET', 'RAW', 'UNPREPARED', 'CAL', 'NON_SIDEREAL', 'AT_ZENITH', 'GMOS'}\n",
      "S20210217S0118.fits Bias {'BIAS', 'GEMINI', 'UNPREPARED', 'SOUTH', 'CAL', 'GMOS', 'RAW'}\n",
      "S20210213S0058.fits Bias {'BIAS', 'GEMINI', 'SOUTH', 'AZEL_TARGET', 'RAW', 'UNPREPARED', 'CAL', 'NON_SIDEREAL', 'AT_ZENITH', 'GMOS'}\n",
      "S20210219S0120.fits Bias {'BIAS', 'GEMINI', 'UNPREPARED', 'SOUTH', 'CAL', 'GMOS', 'RAW'}\n",
      "S20210223S0108.fits Bias {'BIAS', 'GEMINI', 'SOUTH', 'AZEL_TARGET', 'RAW', 'UNPREPARED', 'CAL', 'NON_SIDEREAL', 'AT_ZENITH', 'GMOS'}\n",
      "S20210211S0070.fits Bias {'BIAS', 'GEMINI', 'SOUTH', 'AZEL_TARGET', 'RAW', 'UNPREPARED', 'CAL', 'NON_SIDEREAL', 'AT_ZENITH', 'GMOS'}\n",
      "S20210219S0078.fits GCALflat {'GEMINI', 'SOUTH', 'SPECT', 'RAW', 'GCALFLAT', 'UNPREPARED', 'SIDEREAL', 'CAL', 'LS', 'GMOS', 'FLAT'}\n",
      "S20210218S0137.fits Bias {'BIAS', 'GEMINI', 'UNPREPARED', 'SOUTH', 'CAL', 'GMOS', 'RAW'}\n",
      "S20210214S0042.fits Bias {'BIAS', 'GEMINI', 'SOUTH', 'AZEL_TARGET', 'RAW', 'UNPREPARED', 'CAL', 'NON_SIDEREAL', 'AT_ZENITH', 'GMOS'}\n",
      "S20210216S0119.fits Bias {'BIAS', 'GEMINI', 'SOUTH', 'AZEL_TARGET', 'RAW', 'UNPREPARED', 'CAL', 'NON_SIDEREAL', 'AT_ZENITH', 'GMOS'}\n",
      "S20210216S0123.fits Bias {'BIAS', 'GEMINI', 'SOUTH', 'AZEL_TARGET', 'RAW', 'UNPREPARED', 'CAL', 'NON_SIDEREAL', 'AT_ZENITH', 'GMOS'}\n",
      "S20210214S0039.fits Bias {'BIAS', 'GEMINI', 'SOUTH', 'AZEL_TARGET', 'RAW', 'UNPREPARED', 'CAL', 'NON_SIDEREAL', 'AT_ZENITH', 'GMOS'}\n",
      "S20210221S0280.fits Bias {'BIAS', 'GEMINI', 'UNPREPARED', 'SOUTH', 'CAL', 'GMOS', 'RAW'}\n",
      "S20210220S0361.fits Bias {'BIAS', 'GEMINI', 'UNPREPARED', 'SOUTH', 'CAL', 'GMOS', 'RAW'}\n",
      "S20210218S0029.fits Twilight {'GEMINI', 'SLITILLUM', 'SOUTH', 'SPECT', 'RAW', 'TWILIGHT', 'UNPREPARED', 'SIDEREAL', 'CAL', 'LS', 'GMOS'}\n",
      "S20210214S0038.fits Bias {'BIAS', 'GEMINI', 'SOUTH', 'AZEL_TARGET', 'RAW', 'UNPREPARED', 'CAL', 'NON_SIDEREAL', 'AT_ZENITH', 'GMOS'}\n",
      "S20210221S0278.fits Bias {'BIAS', 'GEMINI', 'UNPREPARED', 'SOUTH', 'CAL', 'GMOS', 'RAW'}\n",
      "S20210216S0122.fits Bias {'BIAS', 'GEMINI', 'SOUTH', 'AZEL_TARGET', 'RAW', 'UNPREPARED', 'CAL', 'NON_SIDEREAL', 'AT_ZENITH', 'GMOS'}\n",
      "S20210219S0075.fits AT2020caa {'GEMINI', 'UNPREPARED', 'SIDEREAL', 'SOUTH', 'SPECT', 'LS', 'GMOS', 'RAW'}\n",
      "S20210218S0136.fits Bias {'BIAS', 'GEMINI', 'UNPREPARED', 'SOUTH', 'CAL', 'GMOS', 'RAW'}\n",
      "S20210219S0079.fits AT2020caa {'GEMINI', 'UNPREPARED', 'SIDEREAL', 'SOUTH', 'SPECT', 'LS', 'GMOS', 'RAW'}\n",
      "S20210218S0135.fits Bias {'BIAS', 'GEMINI', 'UNPREPARED', 'SOUTH', 'CAL', 'GMOS', 'RAW'}\n",
      "S20210218S0139.fits Bias {'BIAS', 'GEMINI', 'UNPREPARED', 'SOUTH', 'CAL', 'GMOS', 'RAW'}\n",
      "S20210220S0363.fits Bias {'BIAS', 'GEMINI', 'UNPREPARED', 'SOUTH', 'CAL', 'GMOS', 'RAW'}\n",
      "S20210221S0282.fits Bias {'BIAS', 'GEMINI', 'UNPREPARED', 'SOUTH', 'CAL', 'GMOS', 'RAW'}\n",
      "S20210216S0121.fits Bias {'BIAS', 'GEMINI', 'SOUTH', 'AZEL_TARGET', 'RAW', 'UNPREPARED', 'CAL', 'NON_SIDEREAL', 'AT_ZENITH', 'GMOS'}\n",
      "S20210219S0076.fits AT2020caa {'GEMINI', 'UNPREPARED', 'SIDEREAL', 'SOUTH', 'SPECT', 'LS', 'GMOS', 'RAW'}\n",
      "S20210214S0040.fits Bias {'BIAS', 'GEMINI', 'SOUTH', 'AZEL_TARGET', 'RAW', 'UNPREPARED', 'CAL', 'NON_SIDEREAL', 'AT_ZENITH', 'GMOS'}\n",
      "S20210214S0041.fits Bias {'BIAS', 'GEMINI', 'SOUTH', 'AZEL_TARGET', 'RAW', 'UNPREPARED', 'CAL', 'NON_SIDEREAL', 'AT_ZENITH', 'GMOS'}\n",
      "S20210219S0077.fits GCALflat {'GEMINI', 'SOUTH', 'SPECT', 'RAW', 'GCALFLAT', 'UNPREPARED', 'SIDEREAL', 'CAL', 'LS', 'GMOS', 'FLAT'}\n",
      "S20210216S0120.fits Bias {'BIAS', 'GEMINI', 'SOUTH', 'AZEL_TARGET', 'RAW', 'UNPREPARED', 'CAL', 'NON_SIDEREAL', 'AT_ZENITH', 'GMOS'}\n",
      "S20210218S0138.fits Bias {'BIAS', 'GEMINI', 'UNPREPARED', 'SOUTH', 'CAL', 'GMOS', 'RAW'}\n",
      "S20210220S0362.fits Bias {'BIAS', 'GEMINI', 'UNPREPARED', 'SOUTH', 'CAL', 'GMOS', 'RAW'}\n",
      "S20210219S0124.fits Bias {'BIAS', 'GEMINI', 'UNPREPARED', 'SOUTH', 'CAL', 'GMOS', 'RAW'}\n",
      "S20210219S0123.fits Bias {'BIAS', 'GEMINI', 'UNPREPARED', 'SOUTH', 'CAL', 'GMOS', 'RAW'}\n",
      "S20210220S0365.fits Bias {'BIAS', 'GEMINI', 'UNPREPARED', 'SOUTH', 'CAL', 'GMOS', 'RAW'}\n",
      "S20210221S0284.fits Bias {'BIAS', 'GEMINI', 'UNPREPARED', 'SOUTH', 'CAL', 'GMOS', 'RAW'}\n",
      "S20210217S0117.fits Bias {'BIAS', 'GEMINI', 'UNPREPARED', 'SOUTH', 'CAL', 'GMOS', 'RAW'}\n",
      "S20210213S0057.fits Bias {'BIAS', 'GEMINI', 'SOUTH', 'AZEL_TARGET', 'RAW', 'UNPREPARED', 'CAL', 'NON_SIDEREAL', 'AT_ZENITH', 'GMOS'}\n",
      "S20210223S0107.fits Bias {'BIAS', 'GEMINI', 'SOUTH', 'AZEL_TARGET', 'RAW', 'UNPREPARED', 'CAL', 'NON_SIDEREAL', 'AT_ZENITH', 'GMOS'}\n",
      "S20210217S0121.fits Bias {'BIAS', 'GEMINI', 'UNPREPARED', 'SOUTH', 'CAL', 'GMOS', 'RAW'}\n",
      "S20210211S0069.fits Bias {'BIAS', 'GEMINI', 'SOUTH', 'AZEL_TARGET', 'RAW', 'UNPREPARED', 'CAL', 'NON_SIDEREAL', 'AT_ZENITH', 'GMOS'}\n",
      "S20210219S0102.fits CuAr {'GEMINI', 'SOUTH', 'SPECT', 'RAW', 'UNPREPARED', 'CAL', 'ARC', 'LS', 'GMOS'}\n",
      "S20210211S0068.fits Bias {'BIAS', 'GEMINI', 'SOUTH', 'AZEL_TARGET', 'RAW', 'UNPREPARED', 'CAL', 'NON_SIDEREAL', 'AT_ZENITH', 'GMOS'}\n",
      "S20210217S0120.fits Bias {'BIAS', 'GEMINI', 'UNPREPARED', 'SOUTH', 'CAL', 'GMOS', 'RAW'}\n",
      "S20210213S0060.fits Bias {'BIAS', 'GEMINI', 'SOUTH', 'AZEL_TARGET', 'RAW', 'UNPREPARED', 'CAL', 'NON_SIDEREAL', 'AT_ZENITH', 'GMOS'}\n",
      "S20210223S0106.fits Bias {'BIAS', 'GEMINI', 'SOUTH', 'AZEL_TARGET', 'RAW', 'UNPREPARED', 'CAL', 'NON_SIDEREAL', 'AT_ZENITH', 'GMOS'}\n",
      "S20210213S0056.fits Bias {'BIAS', 'GEMINI', 'SOUTH', 'AZEL_TARGET', 'RAW', 'UNPREPARED', 'CAL', 'NON_SIDEREAL', 'AT_ZENITH', 'GMOS'}\n",
      "S20210220S0364.fits Bias {'BIAS', 'GEMINI', 'UNPREPARED', 'SOUTH', 'CAL', 'GMOS', 'RAW'}\n",
      "S20210211S0072.fits Bias {'BIAS', 'GEMINI', 'SOUTH', 'AZEL_TARGET', 'RAW', 'UNPREPARED', 'CAL', 'NON_SIDEREAL', 'AT_ZENITH', 'GMOS'}\n",
      "S20210219S0122.fits Bias {'BIAS', 'GEMINI', 'UNPREPARED', 'SOUTH', 'CAL', 'GMOS', 'RAW'}\n"
     ]
    }
   ],
   "source": [
    "for F in list(Path(tar_local).parent.glob('*.fits')):\n",
    "    ad = astrodata.open(F)\n",
    "    # if ad.tags.intersection({'ACQUISITION'}):\n",
    "    #     continue\n",
    "    print (F.name, ad.object(), ad.tags) # the tags give an idea of what file is what"
   ]
  },
  {
   "cell_type": "markdown",
   "id": "9640052f-51d3-4291-897c-32ffa53253ab",
   "metadata": {},
   "source": [
    "**Note that DRAGONS reduction happen per observation ID. When using observation ID to retrieve the data from the archive, *sometimes* the *associated calibration files* don't yield the corresponding standard star observations -- generally important for spectroscopic observations. What I've noticed is the latter are generally accessible at the program ID level, but that involves some filtering to get the appropriate standard star if there were multiple standard stars observed for the program.**"
   ]
  },
  {
   "cell_type": "code",
   "execution_count": 16,
   "id": "ebf4590c-ff82-45d6-a92e-a90b6a17e088",
   "metadata": {},
   "outputs": [
    {
     "name": "stdout",
     "output_type": "stream",
     "text": [
      "Is GS-2021A-DD-102-9 in spectroscopy mode? True\n"
     ]
    }
   ],
   "source": [
    "# check if standard star is present in the downloaded files, provided the mode of observations for the given observation ID is spectroscopy\n",
    "\n",
    "## let's first check the mode of observations using the jsonsummary\n",
    "check_mode = files_summary.query('observation_type == \"OBJECT\" and observation_class == \"science\"') ## filtering the science observations\n",
    "\n",
    "print (f\"Is {obs_id} in spectroscopy mode? {np.all(check_mode['spectroscopy'].values==True)}\")"
   ]
  },
  {
   "cell_type": "code",
   "execution_count": 17,
   "id": "0db1675f-597a-4f1d-9069-fb0a0aa88326",
   "metadata": {},
   "outputs": [
    {
     "name": "stdout",
     "output_type": "stream",
     "text": [
      "specphot exists among downloaded raw data: False\n"
     ]
    }
   ],
   "source": [
    "## Now, let's search the 'downloaded' progCal and partnerCal files for a standard star. Note that the latter always has observation_class as progCal or partnerCal\n",
    "specphot_exists = False\n",
    "for F in list(Path(tar_local).parent.glob('*.fits')):\n",
    "    ad = astrodata.open(F)\n",
    "    if (ad.observation_class() == \"progCal\" or ad.observation_class() == \"partnerCal\") and (ad.observation_type() == 'OBJECT'):\n",
    "        specphot_exists = True\n",
    "        break\n",
    "        \n",
    "print (f\"specphot exists among downloaded raw data: {specphot_exists}\")"
   ]
  },
  {
   "cell_type": "markdown",
   "id": "a255ca83-f92b-49f8-ac51-ab9f9e8a5801",
   "metadata": {},
   "source": [
    "**So the example observation ID above, unfortunately, doesn't have the specphot (i.e., the standard star) *associated* with it in the archive in the default calibrations linked to it. So, we need to attempt to find an appropriate one.** "
   ]
  },
  {
   "cell_type": "markdown",
   "id": "33597b45-d7c8-4e80-9ecf-d34a23f49414",
   "metadata": {},
   "source": [
    "## Block below is used to query the archive to find *possible* specphots, aka, standard stars for the spectrosocpic observations"
   ]
  },
  {
   "cell_type": "code",
   "execution_count": 18,
   "id": "6c491d74-1ae9-445b-8ba3-b9ef006fa1f2",
   "metadata": {},
   "outputs": [
    {
     "name": "stdout",
     "output_type": "stream",
     "text": [
      "detector_roi_setting         filename        observation_class  object ...   observation_id     program_id   mode\n",
      "-------------------- ----------------------- ----------------- ------- ... ----------------- --------------- ----\n",
      "    Central Spectrum S20210219S0084.fits.bz2        partnerCal LTT6248 ... GS-2021A-DD-102-5 GS-2021A-DD-102   LS\n",
      "    Central Spectrum S20210219S0089.fits.bz2        partnerCal LTT6248 ...  GS-2021A-Q-301-5  GS-2021A-Q-301   LS\n"
     ]
    }
   ],
   "source": [
    "# Let's use astroquery to get a summary of possible standard stars \n",
    "data1 = Observations.query_criteria(\n",
    "    instrument = check_mode['instrument'].values[0],\n",
    "    observation_class = \"partnerCal\",\n",
    "    observation_type = \"OBJECT\",\n",
    "    utc_date = ((Time(check_mode.ut_datetime.values[0]) - 1.0 * uts.day).to_datetime(), \n",
    "                (Time(check_mode.ut_datetime.values[0]) + 1.0 * uts.day).to_datetime()\n",
    "               ),\n",
    "    mode = check_mode['mode'].values[0]\n",
    ")\n",
    "\n",
    "data2 = Observations.query_criteria(\n",
    "    instrument = check_mode['instrument'].values[0],\n",
    "    observation_class = \"progCal\",\n",
    "    observation_type = \"OBJECT\",\n",
    "    utc_date = ((Time(check_mode.ut_datetime.values[0]) - 1.0 * uts.day).to_datetime(), \n",
    "                (Time(check_mode.ut_datetime.values[0]) + 1.0 * uts.day).to_datetime()\n",
    "               ),\n",
    "    mode = check_mode['mode'].values[0]\n",
    ")\n",
    "\n",
    "query_result = vstack([data1, data2])\n",
    "print (query_result[['detector_roi_setting','filename', \n",
    "             'observation_class', 'object', 'ut_datetime', \n",
    "             'observation_id', 'program_id', 'mode']])"
   ]
  },
  {
   "cell_type": "code",
   "execution_count": 19,
   "id": "cd3bd12a-4795-4e0a-8023-39130ecb50a6",
   "metadata": {},
   "outputs": [
    {
     "data": {
      "text/plain": [
       "'GS-2021A-DD-102-5'"
      ]
     },
     "execution_count": 19,
     "metadata": {},
     "output_type": "execute_result"
    }
   ],
   "source": [
    "## We can see the first spehphot above has the same 'program ID' as our science case. We will need to download the raw data for the observation ID of this specphot -- \n",
    "## note that the specphot also comes with its own associated calibrations. Normally when the specphot is already linked to the science data, i.e., we didn't face this missing specphot case, \n",
    "## then even the calibration files of the specphot would have been automatically pulled from the archive with the science data\n",
    "\n",
    "specphot_obs_id = query_result[query_result['program_id'] == check_mode['program_id'].values[0]]['observation_id'].data[0]\n",
    "specphot_obs_id"
   ]
  },
  {
   "cell_type": "markdown",
   "id": "12b8ec98-0c2a-4826-aacc-1220ed006d91",
   "metadata": {},
   "source": [
    "## Helper download function"
   ]
  },
  {
   "cell_type": "code",
   "execution_count": 25,
   "id": "ce8d906a-7b10-4a39-aa03-574405201331",
   "metadata": {},
   "outputs": [],
   "source": [
    "## Below I'm creating a helper function encompassing the whole download process\n",
    "\n",
    "def download_public_goa(oid=None, dest=None):\n",
    "    \"\"\"\n",
    "    Parameters\n",
    "    ----------\n",
    "    oid: str\n",
    "        Observation ID\n",
    "    dest: str\n",
    "        Path of the local folder to store the downloaded data\n",
    "    \"\"\"\n",
    "    if oid is None or dest is None:\n",
    "        print (\"Required parameters None; doing nothing\")\n",
    "        return\n",
    "        \n",
    "    if not Path(dest).exists():\n",
    "        os.mkdir(dest)\n",
    "        print (f\"{dest} created to store data\")\n",
    "    else:\n",
    "        print (f\"{dest} to store data already exists\")\n",
    "\n",
    "    # Let's define the URLs and local paths for downloading the necessary program data in bulk (as a tar archive)\n",
    "    url = f\"https://archive.gemini.edu/download/canonical/NotFail/{oid}/OBJECT\" \n",
    "    tar_local = Path(dest).as_posix() + \"/gmos.tar\"\n",
    "    print(f\"Raw data for observation ID {oid} will be stored here {tar_local}\")\n",
    "    \n",
    "    # for associated calibration files\n",
    "    url_cal = f\"https://archive.gemini.edu/download/associated_calibrations/canonical/NotFail/{oid}\"\n",
    "    tar_cal_local = Path(dest).as_posix() + \"/gmos_cal.tar\"\n",
    "    print(f\"Associated calibration data for observation ID {oid} will be stored here {tar_cal_local}\")\n",
    "\n",
    "\n",
    "    # Download the OBJECT files for the program\n",
    "    with urllib.request.urlopen(url) as response:\n",
    "        with open(tar_local, 'wb') as out_file:\n",
    "            shutil.copyfileobj(response, out_file)\n",
    "    \n",
    "    # untar the file\n",
    "    shutil.unpack_archive(tar_local, Path(tar_local).parent) # destination is the parent directory of the tar (see above)\n",
    "    os.remove(tar_local)\n",
    "    \n",
    "    print (f\"Download of {tar_local} completed\")\n",
    "\n",
    "\n",
    "    # Download the associated calibration files for the observation ID \n",
    "    with urllib.request.urlopen(url_cal) as response:\n",
    "        with open(tar_cal_local, 'wb') as out_file:\n",
    "            shutil.copyfileobj(response, out_file)\n",
    "    \n",
    "    # untar the file \n",
    "    shutil.unpack_archive(tar_cal_local, Path(tar_cal_local).parent) # destination is the parent directory of the tar\n",
    "    os.remove(tar_cal_local)\n",
    "    \n",
    "    print (f\"Download of {tar_cal_local} completed\")\n",
    "    \n",
    "    # Note that the downloaded fits files are compressed (as bz2 files). Let's decompress them\n",
    "    subp = subprocess.Popen(('bunzip2 {0}'.format(str(Path(tar_local).parent) + '/*.bz2')), shell=True).communicate()[0]\n",
    "    print (f\"Downloaded fits files decompressed\")\n"
   ]
  },
  {
   "cell_type": "markdown",
   "id": "6c9c49d9-5ce0-4ff3-9680-1339240a0bef",
   "metadata": {},
   "source": [
    "## Helper function to check if specphot for a spectroscopic observation ID has been included in the downloaded files from the archive"
   ]
  },
  {
   "cell_type": "code",
   "execution_count": 21,
   "id": "41b78553-d592-478d-a03e-821cc3a43fb9",
   "metadata": {},
   "outputs": [],
   "source": [
    "def check_specphot_present():\n",
    "    check_mode = files_summary.query('observation_type == \"OBJECT\" and observation_class == \"science\"') ## filtering the science observations\n",
    "    if np.all(check_mode['spectroscopy'].values==True) == False:\n",
    "        print (\"This is not a spectroscopic observation. Nothing to do\")\n",
    "        return\n",
    "    \n",
    "    ## Now, let's search the 'downloaded' progCal and partnerCal files for a standard star. Note that the latter always has observation_class as progCal or partnerCal\n",
    "    specphot_exists = False\n",
    "    for F in list(Path(tar_local).parent.glob('*.fits')):\n",
    "        ad = astrodata.open(F)\n",
    "        if (ad.observation_class() == \"progCal\" or ad.observation_class() == \"partnerCal\") and (ad.observation_type() == 'OBJECT'):\n",
    "            specphot_exists = True\n",
    "            break\n",
    "            \n",
    "    print (f\"specphot exists among downloaded raw data: {specphot_exists}\")"
   ]
  },
  {
   "cell_type": "code",
   "execution_count": 22,
   "id": "fb677e58-953d-45ca-99cc-bf19247aaa74",
   "metadata": {},
   "outputs": [
    {
     "name": "stdout",
     "output_type": "stream",
     "text": [
      "specphot exists among downloaded raw data: False\n"
     ]
    }
   ],
   "source": [
    "check_specphot_present()"
   ]
  },
  {
   "cell_type": "markdown",
   "id": "3c920b18-53aa-407b-aeef-690e076f313b",
   "metadata": {},
   "source": [
    "### Let's download the raw data for the specphot identified above, now using the helper function"
   ]
  },
  {
   "cell_type": "code",
   "execution_count": 26,
   "id": "19f9918c-265f-481b-8057-b3b54f8e43d3",
   "metadata": {},
   "outputs": [
    {
     "name": "stdout",
     "output_type": "stream",
     "text": [
      "../../goa_download/ to store data already exists\n",
      "Raw data for observation ID GS-2021A-DD-102-5 will be stored here ../../goa_download/gmos.tar\n",
      "Associated calibration data for observation ID GS-2021A-DD-102-5 will be stored here ../../goa_download/gmos_cal.tar\n",
      "Download of ../../goa_download/gmos.tar completed\n",
      "Download of ../../goa_download/gmos_cal.tar completed\n",
      "Downloaded fits files decompressed\n"
     ]
    }
   ],
   "source": [
    "download_public_goa(oid=specphot_obs_id, dest=\"../../goa_download/\")"
   ]
  },
  {
   "cell_type": "markdown",
   "id": "e6c129c6-fe09-4042-acca-4024343f9353",
   "metadata": {},
   "source": [
    "### Let's confirm that we are NO longer missing the specphot data"
   ]
  },
  {
   "cell_type": "code",
   "execution_count": 27,
   "id": "ba4bad2b-c928-4ed9-b2c0-48723fe6b235",
   "metadata": {},
   "outputs": [
    {
     "name": "stdout",
     "output_type": "stream",
     "text": [
      "specphot exists among downloaded raw data: True\n"
     ]
    }
   ],
   "source": [
    "check_specphot_present()"
   ]
  },
  {
   "cell_type": "code",
   "execution_count": null,
   "id": "8748e969-eca7-4eca-8354-9480f29f0fd4",
   "metadata": {},
   "outputs": [],
   "source": []
  }
 ],
 "metadata": {
  "kernelspec": {
   "display_name": "Python 3 (ipykernel)",
   "language": "python",
   "name": "python3"
  },
  "language_info": {
   "codemirror_mode": {
    "name": "ipython",
    "version": 3
   },
   "file_extension": ".py",
   "mimetype": "text/x-python",
   "name": "python",
   "nbconvert_exporter": "python",
   "pygments_lexer": "ipython3",
   "version": "3.10.12"
  }
 },
 "nbformat": 4,
 "nbformat_minor": 5
}
