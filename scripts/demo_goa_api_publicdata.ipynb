{
 "cells": [
  {
   "cell_type": "code",
   "execution_count": 1,
   "id": "994946e0-0eb8-4316-864b-f46357963099",
   "metadata": {},
   "outputs": [],
   "source": [
    "__author__ = 'Monika Soraisam'\n",
    "__email__ = 'monika.soraisam@noirlab.edu'"
   ]
  },
  {
   "cell_type": "code",
   "execution_count": 2,
   "id": "c6082ea3-6342-4c8f-bbf3-c7131a321939",
   "metadata": {},
   "outputs": [],
   "source": [
    "import numpy as np\n",
    "import glob\n",
    "import astrodata\n",
    "import gemini_instruments\n",
    "from gempy.adlibrary import dataselect\n",
    "import os\n",
    "from pathlib import Path\n",
    "import urllib\n",
    "import json\n",
    "import shutil\n",
    "import subprocess\n",
    "from astropy.coordinates import SkyCoord\n",
    "import astropy.units as u\n",
    "import pandas as pd\n",
    "from astropy.time import Time\n",
    "\n",
    "# for programmatically querying the GOA with astroquery\n",
    "from astroquery.gemini import Observations\n"
   ]
  },
  {
   "cell_type": "code",
   "execution_count": 40,
   "id": "0672065f-4774-4e6b-8e66-9f7f81a0d493",
   "metadata": {},
   "outputs": [],
   "source": [
    "# Construct the URL for getting a summary of the files\n",
    "## Example program_id used here = GS-2021A-DD-102\n",
    "## Specific observation ID of interest for the above program = GS-2021A-DD-102-9\n",
    "## At Gemini, every successful obeserving proposal is assigned a program ID. Now, the program may have one target or multiple targets, and for each target, a set of observation or sets of observations. \n",
    "## E.g., say we have a program to observe two supernovae X and Y. For X, say we took observations with the instrument GMOS on day 1 and 2. For Y, say we took only one observation on day 3 with instrument NIRI. \n",
    "## Every set of observation is then given an observation ID, typically the program ID suffixed with some running numbers. \n",
    "\n",
    "url = \"https://archive.gemini.edu/jsonsummary/canonical/NotFail/GS-2021A-DD-102-9\" # can use either program ID or observation ID. With the former, you get all the observations under that program\n",
    "\n",
    "# Open the URL and fetch the JSON document text into a string\n",
    "u = urllib.request.urlopen(url)\n",
    "jsondoc = u.read()\n",
    "u.close()\n",
    "\n",
    "# Decode the JSON\n",
    "#files_summary = json.loads(jsondoc)  # dict format\n",
    "files_summary = pd.DataFrame.from_dict(json.loads(jsondoc)) # pandas dataframe"
   ]
  },
  {
   "cell_type": "code",
   "execution_count": 41,
   "id": "9c6531e5-d07d-4442-8500-eed5985f026a",
   "metadata": {},
   "outputs": [],
   "source": [
    "# show all columns of the dataframe \n",
    "pd.set_option('display.max_columns', 10)"
   ]
  },
  {
   "cell_type": "code",
   "execution_count": 42,
   "id": "3e9baac7-e85b-46b2-864d-edd2901e0ebf",
   "metadata": {},
   "outputs": [
    {
     "data": {
      "text/html": [
       "<div>\n",
       "<style scoped>\n",
       "    .dataframe tbody tr th:only-of-type {\n",
       "        vertical-align: middle;\n",
       "    }\n",
       "\n",
       "    .dataframe tbody tr th {\n",
       "        vertical-align: top;\n",
       "    }\n",
       "\n",
       "    .dataframe thead th {\n",
       "        text-align: right;\n",
       "    }\n",
       "</style>\n",
       "<table border=\"1\" class=\"dataframe\">\n",
       "  <thead>\n",
       "    <tr style=\"text-align: right;\">\n",
       "      <th></th>\n",
       "      <th>name</th>\n",
       "      <th>filename</th>\n",
       "      <th>path</th>\n",
       "      <th>compressed</th>\n",
       "      <th>file_size</th>\n",
       "      <th>...</th>\n",
       "      <th>qa_state</th>\n",
       "      <th>release</th>\n",
       "      <th>reduction</th>\n",
       "      <th>types</th>\n",
       "      <th>phot_standard</th>\n",
       "    </tr>\n",
       "  </thead>\n",
       "  <tbody>\n",
       "    <tr>\n",
       "      <th>0</th>\n",
       "      <td>S20210219S0075.fits</td>\n",
       "      <td>S20210219S0075.fits.bz2</td>\n",
       "      <td></td>\n",
       "      <td>True</td>\n",
       "      <td>4697027</td>\n",
       "      <td>...</td>\n",
       "      <td>Pass</td>\n",
       "      <td>2021-08-19</td>\n",
       "      <td>RAW</td>\n",
       "      <td>{'SOUTH', 'SIDEREAL', 'UNPREPARED', 'SPECT', '...</td>\n",
       "      <td>None</td>\n",
       "    </tr>\n",
       "    <tr>\n",
       "      <th>1</th>\n",
       "      <td>S20210219S0076.fits</td>\n",
       "      <td>S20210219S0076.fits.bz2</td>\n",
       "      <td></td>\n",
       "      <td>True</td>\n",
       "      <td>4679182</td>\n",
       "      <td>...</td>\n",
       "      <td>Pass</td>\n",
       "      <td>2021-08-19</td>\n",
       "      <td>RAW</td>\n",
       "      <td>{'GEMINI', 'UNPREPARED', 'GMOS', 'SOUTH', 'SPE...</td>\n",
       "      <td>None</td>\n",
       "    </tr>\n",
       "    <tr>\n",
       "      <th>2</th>\n",
       "      <td>S20210219S0077.fits</td>\n",
       "      <td>S20210219S0077.fits.bz2</td>\n",
       "      <td></td>\n",
       "      <td>True</td>\n",
       "      <td>7639332</td>\n",
       "      <td>...</td>\n",
       "      <td>Pass</td>\n",
       "      <td>2021-02-19</td>\n",
       "      <td>RAW</td>\n",
       "      <td>{'GCALFLAT', 'SOUTH', 'LS', 'FLAT', 'RAW', 'GM...</td>\n",
       "      <td>None</td>\n",
       "    </tr>\n",
       "    <tr>\n",
       "      <th>3</th>\n",
       "      <td>S20210219S0078.fits</td>\n",
       "      <td>S20210219S0078.fits.bz2</td>\n",
       "      <td></td>\n",
       "      <td>True</td>\n",
       "      <td>7706318</td>\n",
       "      <td>...</td>\n",
       "      <td>Pass</td>\n",
       "      <td>2021-02-19</td>\n",
       "      <td>RAW</td>\n",
       "      <td>{'GCALFLAT', 'SOUTH', 'LS', 'FLAT', 'RAW', 'GM...</td>\n",
       "      <td>None</td>\n",
       "    </tr>\n",
       "    <tr>\n",
       "      <th>4</th>\n",
       "      <td>S20210219S0079.fits</td>\n",
       "      <td>S20210219S0079.fits.bz2</td>\n",
       "      <td></td>\n",
       "      <td>True</td>\n",
       "      <td>4734016</td>\n",
       "      <td>...</td>\n",
       "      <td>Pass</td>\n",
       "      <td>2021-08-19</td>\n",
       "      <td>RAW</td>\n",
       "      <td>{'GEMINI', 'UNPREPARED', 'GMOS', 'SOUTH', 'SPE...</td>\n",
       "      <td>None</td>\n",
       "    </tr>\n",
       "  </tbody>\n",
       "</table>\n",
       "<p>5 rows × 66 columns</p>\n",
       "</div>"
      ],
      "text/plain": [
       "                  name                 filename path  compressed  file_size  \\\n",
       "0  S20210219S0075.fits  S20210219S0075.fits.bz2             True    4697027   \n",
       "1  S20210219S0076.fits  S20210219S0076.fits.bz2             True    4679182   \n",
       "2  S20210219S0077.fits  S20210219S0077.fits.bz2             True    7639332   \n",
       "3  S20210219S0078.fits  S20210219S0078.fits.bz2             True    7706318   \n",
       "4  S20210219S0079.fits  S20210219S0079.fits.bz2             True    4734016   \n",
       "\n",
       "   ...  qa_state     release reduction  \\\n",
       "0  ...      Pass  2021-08-19       RAW   \n",
       "1  ...      Pass  2021-08-19       RAW   \n",
       "2  ...      Pass  2021-02-19       RAW   \n",
       "3  ...      Pass  2021-02-19       RAW   \n",
       "4  ...      Pass  2021-08-19       RAW   \n",
       "\n",
       "                                               types  phot_standard  \n",
       "0  {'SOUTH', 'SIDEREAL', 'UNPREPARED', 'SPECT', '...           None  \n",
       "1  {'GEMINI', 'UNPREPARED', 'GMOS', 'SOUTH', 'SPE...           None  \n",
       "2  {'GCALFLAT', 'SOUTH', 'LS', 'FLAT', 'RAW', 'GM...           None  \n",
       "3  {'GCALFLAT', 'SOUTH', 'LS', 'FLAT', 'RAW', 'GM...           None  \n",
       "4  {'GEMINI', 'UNPREPARED', 'GMOS', 'SOUTH', 'SPE...           None  \n",
       "\n",
       "[5 rows x 66 columns]"
      ]
     },
     "execution_count": 42,
     "metadata": {},
     "output_type": "execute_result"
    }
   ],
   "source": [
    "files_summary"
   ]
  },
  {
   "cell_type": "code",
   "execution_count": 43,
   "id": "90605728-5261-4f70-993d-225d5dc62442",
   "metadata": {},
   "outputs": [
    {
     "data": {
      "text/plain": [
       "Index(['name', 'filename', 'path', 'compressed', 'file_size', 'data_size',\n",
       "       'file_md5', 'data_md5', 'lastmod', 'mdready', 'entrytime', 'size',\n",
       "       'md5', 'pending_ingest', 'program_id', 'engineering',\n",
       "       'science_verification', 'procmode', 'calibration_program',\n",
       "       'observation_id', 'data_label', 'telescope', 'instrument',\n",
       "       'ut_datetime', 'local_time', 'observation_type', 'observation_class',\n",
       "       'object', 'ra', 'dec', 'azimuth', 'elevation', 'cass_rotator_pa',\n",
       "       'airmass', 'filter_name', 'exposure_time', 'disperser', 'camera',\n",
       "       'central_wavelength', 'wavelength_band', 'focal_plane_mask',\n",
       "       'detector_binning', 'detector_gain_setting', 'detector_roi_setting',\n",
       "       'detector_readspeed_setting', 'detector_welldepth_setting',\n",
       "       'detector_readmode_setting', 'spectroscopy', 'mode', 'adaptive_optics',\n",
       "       'laser_guide_star', 'wavefront_sensor', 'gcal_lamp', 'raw_iq', 'raw_cc',\n",
       "       'raw_wv', 'raw_bg', 'requested_iq', 'requested_cc', 'requested_wv',\n",
       "       'requested_bg', 'qa_state', 'release', 'reduction', 'types',\n",
       "       'phot_standard'],\n",
       "      dtype='object')"
      ]
     },
     "execution_count": 43,
     "metadata": {},
     "output_type": "execute_result"
    }
   ],
   "source": [
    "files_summary.columns"
   ]
  },
  {
   "cell_type": "code",
   "execution_count": 44,
   "id": "8e4ef08a-5a75-4dce-a3b2-5776023f0c55",
   "metadata": {},
   "outputs": [
    {
     "name": "stdout",
     "output_type": "stream",
     "text": [
      "1 S20210219S0075.fits.bz2 OBJECT science Pass AT2020caa 900.0\n",
      "2 S20210219S0076.fits.bz2 OBJECT science Pass AT2020caa 900.0\n",
      "3 S20210219S0077.fits.bz2 FLAT partnerCal Pass GCALflat 1.0\n",
      "4 S20210219S0078.fits.bz2 FLAT partnerCal Pass GCALflat 1.0\n",
      "5 S20210219S0079.fits.bz2 OBJECT science Pass AT2020caa 900.0\n"
     ]
    }
   ],
   "source": [
    "# Inspect some useful keywords of the files \n",
    "for i in files_summary.index:\n",
    "    F = files_summary.iloc[i]\n",
    "    print (i+1, F['filename'], F['observation_type'], F['observation_class'], F['qa_state'], F['object'], F['exposure_time'])"
   ]
  },
  {
   "cell_type": "markdown",
   "id": "9640052f-51d3-4291-897c-32ffa53253ab",
   "metadata": {},
   "source": [
    "**Note that DRAGONS reduction happen per observation ID. When using observation ID to retrieve the data from the archive, sometimes the associated calibrations don't yield the corresponding standard star observations. What I've noticed is the latter are generally accessible at the program ID level, but that involves some filtering to get the appropriate standard star if there were multiple standard stars observed for the program.**"
   ]
  },
  {
   "cell_type": "code",
   "execution_count": 91,
   "id": "cd3bd12a-4795-4e0a-8023-39130ecb50a6",
   "metadata": {},
   "outputs": [
    {
     "name": "stdout",
     "output_type": "stream",
     "text": [
      "detector_roi_setting         filename        observation_class   object         ut_datetime           observation_id    mode \n",
      "-------------------- ----------------------- ----------------- --------- -------------------------- ----------------- -------\n",
      "          Full Frame S20210218S0029.fits.bz2            dayCal  Twilight 2021-02-17 23:39:53.700000 GS-2021A-DD-102-7      LS\n",
      "                CCD2 S20210219S0072.fits.bz2               acq AT2020caa 2021-02-19 08:07:53.700000 GS-2021A-DD-102-8 imaging\n",
      "       Central Stamp S20210219S0073.fits.bz2               acq AT2020caa 2021-02-19 08:09:47.700000 GS-2021A-DD-102-8 imaging\n",
      "       Central Stamp S20210219S0074.fits.bz2               acq AT2020caa 2021-02-19 08:11:24.200000 GS-2021A-DD-102-8 imaging\n",
      "          Full Frame S20210219S0075.fits.bz2           science AT2020caa 2021-02-19 08:14:01.700000 GS-2021A-DD-102-9      LS\n",
      "          Full Frame S20210219S0076.fits.bz2           science AT2020caa 2021-02-19 08:29:40.200000 GS-2021A-DD-102-9      LS\n",
      "          Full Frame S20210219S0079.fits.bz2           science AT2020caa 2021-02-19 08:47:11.700000 GS-2021A-DD-102-9      LS\n",
      "                CCD2 S20210219S0080.fits.bz2            acqCal   LTT6248 2021-02-19 09:07:35.200000 GS-2021A-DD-102-4 imaging\n",
      "       Central Stamp S20210219S0081.fits.bz2            acqCal   LTT6248 2021-02-19 09:09:32.700000 GS-2021A-DD-102-4 imaging\n",
      "       Central Stamp S20210219S0082.fits.bz2            acqCal   LTT6248 2021-02-19 09:11:18.200000 GS-2021A-DD-102-4 imaging\n",
      "       Central Stamp S20210219S0083.fits.bz2            acqCal   LTT6248 2021-02-19 09:13:10.200000 GS-2021A-DD-102-4 imaging\n",
      "    Central Spectrum S20210219S0084.fits.bz2        partnerCal   LTT6248 2021-02-19 09:16:09.700000 GS-2021A-DD-102-5      LS\n",
      "<TableColumns names=('exposure_time','detector_roi_setting','detector_welldepth_setting','telescope','mdready','requested_bg','engineering','cass_rotator_pa','ut_datetime','file_size','types','requested_wv','detector_readspeed_setting','size','laser_guide_star','observation_id','science_verification','raw_cc','filename','instrument','reduction','camera','ra','detector_binning','lastmod','wavelength_band','data_size','mode','raw_iq','airmass','elevation','data_label','requested_iq','object','requested_cc','program_id','file_md5','central_wavelength','raw_wv','compressed','filter_name','detector_gain_setting','path','observation_class','qa_state','observation_type','calibration_program','md5','adaptive_optics','name','focal_plane_mask','data_md5','raw_bg','disperser','wavefront_sensor','gcal_lamp','detector_readmode_setting','phot_standard','local_time','spectroscopy','azimuth','release','dec')>\n"
     ]
    }
   ],
   "source": [
    "# Let's use astroquery to get a summary of the standard stars associated with the program\n",
    "data = Observations.query_criteria(\n",
    "                                #instrument='GMOS-S',\n",
    "                                program_id='GS-2021A-DD-102', ## note that I'm using program ID here\n",
    "                                observation_type = \"OBJECT\",\n",
    "                                )\n",
    "                                \n",
    "print (data[['detector_roi_setting','filename', #'ra', 'dec', \n",
    "             'observation_class', 'object', 'ut_datetime', 'observation_id', 'mode']])\n",
    "print (data.columns)"
   ]
  },
  {
   "cell_type": "code",
   "execution_count": 72,
   "id": "d91c57a0-0797-402f-8a68-a533a7ddf934",
   "metadata": {},
   "outputs": [],
   "source": [
    "# Let's define the URLs and local paths for downloading the necessary program data in bulk (as a tar archive)\n",
    "\n",
    "url = \"https://archive.gemini.edu/download/canonical/GS-2021A-DD-102/OBJECT\" # adding OBJECT selection criterion as cal files are downloaded separately (see below)\n",
    "tar_local = Path.cwd().as_posix() + \"/GMOS_observations/gmos.tar\"\n",
    "\n",
    "# for associated calibration files\n",
    "url_cal = \"https://archive.gemini.edu/download/associated_calibrations/canonical/GS-2021A-DD-102\"\n",
    "tar_cal_local = Path.cwd().as_posix() + \"/GMOS_observations/gmos_cal.tar\""
   ]
  },
  {
   "cell_type": "code",
   "execution_count": 73,
   "id": "ce8d906a-7b10-4a39-aa03-574405201331",
   "metadata": {},
   "outputs": [],
   "source": [
    "# Use the known observation ID and the time of observation to select the standard star observed closest in time above. Then, use the observation ID of the standard star to pull required data for its reduction\n",
    "exclude = 'acq' in data['observation_class']"
   ]
  },
  {
   "cell_type": "code",
   "execution_count": 96,
   "id": "f9bf03fd-8521-408d-bff5-d41ed8d282ad",
   "metadata": {},
   "outputs": [
    {
     "data": {
      "text/plain": [
       "[False, True, True, True, False, False, False, True, True, True, True, False]"
      ]
     },
     "execution_count": 96,
     "metadata": {},
     "output_type": "execute_result"
    }
   ],
   "source": [
    "['ACQUISITION' in A for A in data['types'].data]"
   ]
  },
  {
   "cell_type": "code",
   "execution_count": 99,
   "id": "e848d658-2a21-4b0e-8e04-2d61a5657a3a",
   "metadata": {},
   "outputs": [
    {
     "data": {
      "text/plain": [
       "True"
      ]
     },
     "execution_count": 99,
     "metadata": {},
     "output_type": "execute_result"
    }
   ],
   "source": [
    "'acq' in list(data['observation_class'].data)"
   ]
  },
  {
   "cell_type": "markdown",
   "id": "7d0bfc56-c3d1-4457-9303-ae253eeac9e7",
   "metadata": {},
   "source": [
    "#### A note about associated calibrations for a particular program: a jsonsummary API *feature* doesn't exist for these files like that for the program/object files (see above). "
   ]
  },
  {
   "cell_type": "code",
   "execution_count": 14,
   "id": "73526c6d-9db1-4ac2-addc-4afc3176c9aa",
   "metadata": {},
   "outputs": [],
   "source": [
    "# # Download the OBJECT files for the program\n",
    "# with urllib.request.urlopen(url) as response:\n",
    "#     with open(tar_local, 'wb') as out_file:\n",
    "#         shutil.copyfileobj(response, out_file)"
   ]
  },
  {
   "cell_type": "code",
   "execution_count": 13,
   "id": "7dfbc15f-9c46-47e8-b8b5-f99a32fadfb7",
   "metadata": {},
   "outputs": [],
   "source": [
    "# # untar the file\n",
    "# shutil.unpack_archive(tar_local, Path(tar_local).parent) # destination is the parent directory of the tar (see above)\n",
    "# os.remove(tar_local)"
   ]
  },
  {
   "cell_type": "code",
   "execution_count": 12,
   "id": "6f429927-ed7c-4cdc-b434-a5a429edae7d",
   "metadata": {},
   "outputs": [],
   "source": [
    "# # Download the associated calibration files for the program \n",
    "# with urllib.request.urlopen(url_cal) as response:\n",
    "#     with open(tar_cal_local, 'wb') as out_file:\n",
    "#         shutil.copyfileobj(response, out_file)"
   ]
  },
  {
   "cell_type": "code",
   "execution_count": 11,
   "id": "fa268d09-f487-45e2-ba02-9f30d979666d",
   "metadata": {},
   "outputs": [],
   "source": [
    "# # untar the file \n",
    "# shutil.unpack_archive(tar_cal_local, Path(tar_cal_local).parent) # destination is the parent directory of the tar\n",
    "# os.remove(tar_cal_local)"
   ]
  },
  {
   "cell_type": "code",
   "execution_count": 10,
   "id": "9526c3c4-b7ef-40d4-a9fc-c46b05c3fe84",
   "metadata": {},
   "outputs": [],
   "source": [
    "# # Let's decompress the .bz2 fits files\n",
    "# subp = subprocess.Popen(('bunzip2 {0}'.format(str(Path(tar_local).parent) + '/*.bz2')), shell=True)"
   ]
  },
  {
   "cell_type": "markdown",
   "id": "55421b32-fc08-4075-a068-00a661970e20",
   "metadata": {},
   "source": [
    "### Let's inspect the metadata of these fits files using astrodata"
   ]
  },
  {
   "cell_type": "code",
   "execution_count": 9,
   "id": "8d92a556-746b-4b3e-96a7-8e3163516833",
   "metadata": {
    "tags": []
   },
   "outputs": [],
   "source": [
    "# for F in list(Path(tar_local).parent.glob('*.fits')):\n",
    "#     ad = astrodata.open(F)\n",
    "#     if ad.tags.intersection({'ACQUISITION'}):\n",
    "#         continue\n",
    "#     print (F.name, ad.tags)"
   ]
  },
  {
   "cell_type": "markdown",
   "id": "90676a65-5229-4201-89dc-fdc8de8f4fe3",
   "metadata": {},
   "source": [
    "### Create file lists"
   ]
  },
  {
   "cell_type": "code",
   "execution_count": 8,
   "id": "30166e09-4f9c-4661-b801-e0e6bf37dd81",
   "metadata": {},
   "outputs": [],
   "source": [
    "# #all_files = glob.glob('../gmos/gmosls_tutorial/playdata/*.fits')\n",
    "# all_files = [str(pp) for pp in list(Path(tar_local).parent.glob('*.fits'))]\n",
    "# all_files.sort()\n",
    "# print (f'The total number of files is {len(all_files)}')"
   ]
  },
  {
   "cell_type": "code",
   "execution_count": 7,
   "id": "3d4ca4ef-3b6c-47bd-addc-9537798e9ddd",
   "metadata": {
    "tags": []
   },
   "outputs": [],
   "source": [
    "# # for bias\n",
    "# all_biases = dataselect.select_data(all_files, tags=['BIAS', 'UNPREPARED'])\n",
    "# for bias in all_biases:\n",
    "#     ad = astrodata.open(bias)\n",
    "#     print(bias, '  ', ad.detector_roi_setting())"
   ]
  },
  {
   "cell_type": "code",
   "execution_count": 1,
   "id": "d9f4ca7b-b423-4770-87c0-7fa99516f77e",
   "metadata": {},
   "outputs": [],
   "source": [
    "# # bias list for spectrophotometric standard (central spectrum ROI)\n",
    "# biasstd = dataselect.select_data(\n",
    "#     all_files,\n",
    "#     ['BIAS', 'UNPREPARED'],\n",
    "#     [],\n",
    "#     dataselect.expr_parser('detector_roi_setting==\"Central Spectrum\"')\n",
    "# )\n",
    "# print (f\"The total number of bias files for standard is {len(biasstd)}\")\n",
    "\n",
    "\n",
    "# # bias list for science target (full frame ROI)\n",
    "# biassci = dataselect.select_data(\n",
    "#     all_files,\n",
    "#     ['BIAS', 'UNPREPARED'],\n",
    "#     [],\n",
    "#     dataselect.expr_parser('detector_roi_setting==\"Full Frame\"')\n",
    "# )\n",
    "# print (f\"The total number of bias files for science is {len(biassci)}\")"
   ]
  },
  {
   "cell_type": "code",
   "execution_count": 14,
   "id": "fcf38787-6575-4caa-a289-1197242b90b2",
   "metadata": {},
   "outputs": [],
   "source": [
    "# confirm the bias grouppings\n",
    "# for bias in biassci:\n",
    "#     ad = astrodata.open(bias)\n",
    "#     print(bias, '  ', ad.detector_roi_setting())"
   ]
  },
  {
   "cell_type": "code",
   "execution_count": 6,
   "id": "b5c89af3-b52d-4abf-9129-0432c2180081",
   "metadata": {},
   "outputs": [],
   "source": [
    "# # flats\n",
    "# flats = dataselect.select_data(all_files, ['FLAT','UNPREPARED'])\n",
    "# print (f'Total number of flat files is {len(flats)}')"
   ]
  },
  {
   "cell_type": "code",
   "execution_count": 5,
   "id": "6195fef4-807a-4471-adab-4e4daade33f8",
   "metadata": {},
   "outputs": [],
   "source": [
    "# # arcs\n",
    "# arcs = dataselect.select_data(all_files, ['ARC', 'UNPREPARED'])\n",
    "# print (f'Total number of arcs files is {len(arcs)}')\n",
    "\n",
    "# for F in arcs:\n",
    "#     ad = astrodata.open(F)\n",
    "#     print (f'Central wavelength for arc {F} is {ad.central_wavelength()} m')"
   ]
  },
  {
   "cell_type": "code",
   "execution_count": 4,
   "id": "0e2f9944-82f7-4af9-bc71-e13753327332",
   "metadata": {},
   "outputs": [],
   "source": [
    "# # spectrophotometric standard\n",
    "# stdstar = dataselect.select_data(all_files, ['STANDARD', 'UNPREPARED', 'SPECT'])\n",
    "# print (f'Total number of standard star files is {len(stdstar)}')\n",
    "\n",
    "# for F in stdstar:\n",
    "#     ad = astrodata.open(F)\n",
    "#     print (f'Central wavelegnth for stdstar {F} is {ad.central_wavelength()} m, {ad.object()}')"
   ]
  },
  {
   "cell_type": "code",
   "execution_count": 3,
   "id": "35e5f8bb-29c3-45de-9403-f6609b9fe3e6",
   "metadata": {},
   "outputs": [],
   "source": [
    "# for F in stdstar:\n",
    "#     ad = astrodata.open(F)\n",
    "#     print (f'{F}\\n Tags:\\n{ad.tags}\\n Descriptors:\\n{ad.descriptors}\\n')\n",
    "#     print (f'Central wavelength is {ad.central_wavelength()} m')"
   ]
  },
  {
   "cell_type": "code",
   "execution_count": 2,
   "id": "72447fa3-2610-451f-92c6-2fa75089b368",
   "metadata": {},
   "outputs": [],
   "source": [
    "# # science target list\n",
    "# all_science = dataselect.select_data(all_files, ['UNPREPARED', 'SPECT'], ['CAL'])\n",
    "# for sci in all_science:\n",
    "#     ad = astrodata.open(sci)\n",
    "#     print(sci, '  ', ad.object(), ad.tags, ad.central_wavelength())"
   ]
  },
  {
   "cell_type": "code",
   "execution_count": null,
   "id": "d2bd5ef5-896a-4729-a52a-e03598863667",
   "metadata": {},
   "outputs": [],
   "source": []
  },
  {
   "cell_type": "markdown",
   "id": "0587c1af",
   "metadata": {},
   "source": [
    "### Download the data from GOA"
   ]
  },
  {
   "cell_type": "code",
   "execution_count": 11,
   "id": "757a56df",
   "metadata": {},
   "outputs": [],
   "source": [
    "# if not Path(\"./data_dump/\").exists():\n",
    "#     os.mkdir(\"./data_dump/\")"
   ]
  },
  {
   "cell_type": "code",
   "execution_count": 12,
   "id": "59615948",
   "metadata": {},
   "outputs": [],
   "source": [
    "# obs_id = \"GN-2019A-Q-901-74\"\n",
    "# url = f\"https://archive.gemini.edu/download/canonical/{obs_id}/OBJECT\" # adding OBJECT selection criterion as cal files are downloaded separately (see below)\n",
    "# tar_local = \"./data_dump/gmos.tar\"\n",
    "\n",
    "# # for associated calibration files\n",
    "# url_cal = f\"https://archive.gemini.edu/download/associated_calibrations/canonical/{obs_id}\"\n",
    "# tar_cal_local = \"./data_dump/gmos_cal.tar\""
   ]
  },
  {
   "cell_type": "code",
   "execution_count": 13,
   "id": "989d3df6",
   "metadata": {},
   "outputs": [],
   "source": [
    "# # Download the OBJECT files for the program\n",
    "# with urllib.request.urlopen(url) as response:\n",
    "#     with open(tar_local, 'wb') as out_file:\n",
    "#         shutil.copyfileobj(response, out_file)\n",
    "        \n",
    "# # untar the file\n",
    "# shutil.unpack_archive(tar_local, Path(tar_local).parent) # destination is the parent directory of the tar (see above)\n",
    "# os.remove(tar_local)"
   ]
  },
  {
   "cell_type": "code",
   "execution_count": 14,
   "id": "b8ef1d25",
   "metadata": {},
   "outputs": [],
   "source": [
    "# # Download the associated calibration files for the program \n",
    "# with urllib.request.urlopen(url_cal) as response:\n",
    "#     with open(tar_cal_local, 'wb') as out_file:\n",
    "#         shutil.copyfileobj(response, out_file)\n",
    "        \n",
    "# # untar the file \n",
    "# shutil.unpack_archive(tar_cal_local, Path(tar_cal_local).parent) # destination is the parent directory of the tar\n",
    "# os.remove(tar_cal_local)"
   ]
  },
  {
   "cell_type": "code",
   "execution_count": 15,
   "id": "ad0fc0e4",
   "metadata": {},
   "outputs": [],
   "source": [
    "# # Let's decompress the .bz2 fits files\n",
    "# subp = subprocess.Popen(('bunzip2 {0}'.format(str(Path(tar_local).parent) + '/*.bz2')), shell=True)"
   ]
  },
  {
   "cell_type": "code",
   "execution_count": 16,
   "id": "3278aa6f",
   "metadata": {},
   "outputs": [],
   "source": [
    "# # Inspect the metadata \n",
    "# for F in list(Path(tar_local).parent.glob('*.fits')):\n",
    "#     ad = astrodata.open(F)\n",
    "#     if ad.tags.intersection({'ACQUISITION'}):\n",
    "#         continue\n",
    "#     print (F.name, ad.tags)"
   ]
  },
  {
   "cell_type": "code",
   "execution_count": null,
   "id": "21142816",
   "metadata": {},
   "outputs": [],
   "source": []
  },
  {
   "cell_type": "code",
   "execution_count": null,
   "id": "3d84c849",
   "metadata": {},
   "outputs": [],
   "source": []
  },
  {
   "cell_type": "code",
   "execution_count": null,
   "id": "6ab82756-528b-4e9b-b256-82f6ed0c7e52",
   "metadata": {},
   "outputs": [],
   "source": []
  }
 ],
 "metadata": {
  "kernelspec": {
   "display_name": "Python 3 (ipykernel)",
   "language": "python",
   "name": "python3"
  },
  "language_info": {
   "codemirror_mode": {
    "name": "ipython",
    "version": 3
   },
   "file_extension": ".py",
   "mimetype": "text/x-python",
   "name": "python",
   "nbconvert_exporter": "python",
   "pygments_lexer": "ipython3",
   "version": "3.10.12"
  }
 },
 "nbformat": 4,
 "nbformat_minor": 5
}
