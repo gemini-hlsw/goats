{
 "cells": [
  {
   "cell_type": "markdown",
   "id": "0beec6f1-30ab-4bcb-8726-e207e5debf36",
   "metadata": {},
   "source": [
    "## This notebook is for ticket GOATS-456 https://noirlab.atlassian.net/browse/GOATS-456"
   ]
  },
  {
   "cell_type": "markdown",
   "id": "8ac6d634-80b2-429f-b302-ba0733c50e93",
   "metadata": {},
   "source": [
    "### To use the Astro Data Lab client, install the API https://datalab.noirlab.edu/docs/manual/UsingAstroDataLab/InstallDataLab/InstallDataLab/InstallDataLab.html\n",
    "\n",
    "I have installed it in my `goats-env`\n",
    "\n",
    "More detailed information about interacting with the VOSpace for file storage is available in this notebook from the CSDC Astro Data Lab team https://github.com/astro-datalab/notebooks-latest/blob/master/04_HowTos/StoreClient/How_to_use_the_Data_Lab_StoreClient.ipynb\n",
    "\n",
    "One must create an account on Astro Data Lab first. I already have one so I can proceed. "
   ]
  },
  {
   "cell_type": "code",
   "execution_count": 3,
   "id": "0470f4e7-95c1-4e44-82f7-970128db5433",
   "metadata": {},
   "outputs": [],
   "source": [
    "from dl import authClient as ac\n",
    "from dl import storeClient as sc\n",
    "from getpass import getpass\n",
    "\n"
   ]
  },
  {
   "cell_type": "code",
   "execution_count": 13,
   "id": "a61914d8-2412-493f-bb07-a9381cd12448",
   "metadata": {},
   "outputs": [],
   "source": [
    "# ## Get authentication token \n",
    "# ac.login(input(\"Enter user name: (+ENTER) \"),getpass(\"Enter password: (+ENTER) \")) # credentials to log into datalab"
   ]
  },
  {
   "cell_type": "code",
   "execution_count": 5,
   "id": "f8949b69-2c84-4f79-854f-42cbbeab6c19",
   "metadata": {},
   "outputs": [
    {
     "name": "stdout",
     "output_type": "stream",
     "text": [
      "public,tmp\n"
     ]
    }
   ],
   "source": [
    "## since I'm signed in, I can now list the contents of my VOSpace as follows\n",
    "listing = sc.ls(name='vos://')\n",
    "print (listing)"
   ]
  },
  {
   "cell_type": "code",
   "execution_count": 6,
   "id": "c6600a68-31b1-4572-85cd-24c20c64271d",
   "metadata": {},
   "outputs": [
    {
     "data": {
      "text/plain": [
       "'for_sarah,m31PTFmassivestars,spectra_bumpySNe,test'"
      ]
     },
     "execution_count": 6,
     "metadata": {},
     "output_type": "execute_result"
    }
   ],
   "source": [
    "sc.ls('vos://public')"
   ]
  },
  {
   "cell_type": "code",
   "execution_count": 7,
   "id": "2b074b73-3000-4bf9-ac19-4dd102b8a927",
   "metadata": {},
   "outputs": [],
   "source": [
    "## Let's upload a dragons reduced file to my VOSpace\n",
    "file_to_upload = \"../../goats_data/ZTF18aaaritk/GEM/GS-2021A-DD-102-9/run-20241003010205/S20210219S0075_1D.fits\" "
   ]
  },
  {
   "cell_type": "code",
   "execution_count": 8,
   "id": "6b787592-ec29-48d8-9c33-aa6444fd1df2",
   "metadata": {},
   "outputs": [
    {
     "data": {
      "text/plain": [
       "'OK'"
      ]
     },
     "execution_count": 8,
     "metadata": {},
     "output_type": "execute_result"
    }
   ],
   "source": [
    "## Let's make a directory in my vospace to store the uploaded files\n",
    "sc.mkdir('vos://data_from_goats')"
   ]
  },
  {
   "cell_type": "code",
   "execution_count": 9,
   "id": "c0c1a6b2-9662-4648-a935-8be31ca464ee",
   "metadata": {},
   "outputs": [
    {
     "data": {
      "text/plain": [
       "'data_from_goats,public,tmp'"
      ]
     },
     "execution_count": 9,
     "metadata": {},
     "output_type": "execute_result"
    }
   ],
   "source": [
    "sc.ls('vos://')"
   ]
  },
  {
   "cell_type": "code",
   "execution_count": 10,
   "id": "9feb0018-f8a0-4597-a369-fef0f06fc8a0",
   "metadata": {},
   "outputs": [
    {
     "data": {
      "text/plain": [
       "''"
      ]
     },
     "execution_count": 10,
     "metadata": {},
     "output_type": "execute_result"
    }
   ],
   "source": [
    "sc.ls('vos://data_from_goats')"
   ]
  },
  {
   "cell_type": "code",
   "execution_count": 11,
   "id": "f97e5969-e241-4a07-9fd7-d49130edaed8",
   "metadata": {},
   "outputs": [
    {
     "name": "stdout",
     "output_type": "stream",
     "text": [
      "(1 / 1) ../../goats_data/ZTF18aaaritk/GEM/GS-2021A-DD-102-9/run-20241003010205/S20210219S0075_1D.fits -> vos://data_from_goats/S20210219S0075_1D.fits\n"
     ]
    },
    {
     "data": {
      "text/plain": [
       "['OK']"
      ]
     },
     "execution_count": 11,
     "metadata": {},
     "output_type": "execute_result"
    }
   ],
   "source": [
    "sc.put(to='vos://data_from_goats/', fr = file_to_upload)"
   ]
  },
  {
   "cell_type": "code",
   "execution_count": 12,
   "id": "09d5aa72-0368-4b67-9045-ad458621e0a1",
   "metadata": {},
   "outputs": [
    {
     "data": {
      "text/plain": [
       "'S20210219S0075_1D.fits'"
      ]
     },
     "execution_count": 12,
     "metadata": {},
     "output_type": "execute_result"
    }
   ],
   "source": [
    "sc.ls('vos://data_from_goats')"
   ]
  },
  {
   "cell_type": "markdown",
   "id": "165f4a22-5976-4a9c-bb3a-fbabe1879664",
   "metadata": {},
   "source": [
    "### Users will then be able to access this file on the Jupyter Hub environment of Astro data lab. "
   ]
  }
 ],
 "metadata": {
  "kernelspec": {
   "display_name": "Python 3 (ipykernel)",
   "language": "python",
   "name": "python3"
  },
  "language_info": {
   "codemirror_mode": {
    "name": "ipython",
    "version": 3
   },
   "file_extension": ".py",
   "mimetype": "text/x-python",
   "name": "python",
   "nbconvert_exporter": "python",
   "pygments_lexer": "ipython3",
   "version": "3.10.14"
  }
 },
 "nbformat": 4,
 "nbformat_minor": 5
}
