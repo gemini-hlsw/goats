{
 "cells": [
  {
   "cell_type": "code",
   "execution_count": 1,
   "id": "d368cfd1-c39c-4179-a11d-0dbd5ac91a73",
   "metadata": {},
   "outputs": [],
   "source": [
    "__author__ = 'Monika Soraisam'\n",
    "__email__ = 'monika.soraisam@noirlab.edu'"
   ]
  },
  {
   "cell_type": "code",
   "execution_count": 2,
   "id": "92d36363-dc86-4e83-b572-3bb72df31aa4",
   "metadata": {},
   "outputs": [],
   "source": [
    "import os\n",
    "from pathlib import Path\n",
    "import pandas as pd\n",
    "%matplotlib inline\n",
    "import matplotlib.pyplot as plt\n",
    "import numpy as np\n",
    "import datetime\n",
    "\n",
    "# for bokeh apps to load from the jupyter notebook on a different browser tab\n",
    "import nest_asyncio\n",
    "nest_asyncio.apply()"
   ]
  },
  {
   "cell_type": "code",
   "execution_count": 3,
   "id": "6ce6153f-36c4-481a-bc57-205fc0fa3838",
   "metadata": {},
   "outputs": [
    {
     "name": "stdout",
     "output_type": "stream",
     "text": [
      "Ginga not installed, use other viewer, or no viewer\n"
     ]
    }
   ],
   "source": [
    "# Now import the DRAGONS libraries \n",
    "import astrodata\n",
    "import gemini_instruments\n",
    "from recipe_system import cal_service\n",
    "from gempy.adlibrary import dataselect\n",
    "from gempy.utils import logutils\n",
    "\n",
    "from recipe_system.reduction.coreReduce import Reduce\n",
    "from gempy.scripts import showpars\n",
    "from gempy.utils.showrecipes import showrecipes\n",
    "from gempy.utils.showrecipes import showprims"
   ]
  },
  {
   "cell_type": "markdown",
   "id": "5b1ab82d-c693-48e5-868b-26ef004d0393",
   "metadata": {},
   "source": [
    "# GMOS longslit example"
   ]
  },
  {
   "cell_type": "code",
   "execution_count": 4,
   "id": "14ea5d3e-ff06-465c-8d50-8a93685ac3ca",
   "metadata": {},
   "outputs": [],
   "source": [
    "data_path = \"/data/goats_dev_data/example_data/data/ZTF18acppavh/GEM\"\n",
    "obsid = 'GN-2018B-Q-315-11'"
   ]
  },
  {
   "cell_type": "markdown",
   "id": "c26ddbd9-f124-47e1-9dc3-5027dc437fe7",
   "metadata": {},
   "source": [
    "### Generate filelist for the data reduction"
   ]
  },
  {
   "cell_type": "code",
   "execution_count": 6,
   "id": "e513307a-3e6e-4940-ae8d-f842b45b71fc",
   "metadata": {},
   "outputs": [],
   "source": [
    "def generate_filelists(location, obsid):\n",
    "    \"\"\"\n",
    "    Parameters\n",
    "    ----------\n",
    "    location: str\n",
    "        Root folder where the Gemini data for a given target is located\n",
    "    obsid: str\n",
    "        Gemini observation ID \n",
    "    \"\"\"\n",
    "\n",
    "    \n",
    "    all_files = [str(pp) for pp in list(Path(location+\"/\"+obsid).glob('*.fits'))]\n",
    "    all_files.sort()\n",
    "    print (f'The total number of files for observation ID {obsid} is {len(all_files)}')\n",
    "\n",
    "    cal_file_tags = ['BIAS','DARK','FLAT','ARC','PINHOLE','RONCHI','FRINGE'] #fetched from Obs Type search field on GOA, which is relevant for DRAGONS\n",
    "\n",
    "    meta_keys = cal_file_tags + ['BPM','standard','object','unknown']\n",
    "    all_meta = {}\n",
    "\n",
    "    for K in meta_keys:\n",
    "        all_meta[K] = {'file':[],\n",
    "                        'group_id':[],\n",
    "                        'exp':[],\n",
    "                        'objname':[],\n",
    "                        'wave':[],\n",
    "                        'waveband':[],\n",
    "                        'date':[],\n",
    "                        'roi':[],\n",
    "                        }\n",
    "\n",
    "    object_files = []\n",
    "    for i,F in enumerate(all_files):\n",
    "        ad = astrodata.open(F)\n",
    "\n",
    "        K = \"unknown\"\n",
    "        if \"BPM\" in ad.tags:\n",
    "            K = \"BPM\"\n",
    "        elif \"PREPARED\" in ad.tags:\n",
    "            continue\n",
    "        elif (\"STANDARD\" in ad.tags or ad.observation_class()==\"partnerCal\" or ad.observation_class()==\"progCal\") and (\"UNPREPARED\" in ad.tags) and (ad.observation_type()==\"OBJECT\"):\n",
    "            K = \"standard\"            \n",
    "        elif \"CAL\" in ad.tags and \"UNPREPARED\" in ad.tags:\n",
    "            for tag in cal_file_tags:\n",
    "                if tag in ad.tags:\n",
    "                    K = tag\n",
    "        elif ad.observation_class()==\"science\" and \"UNPREPARED\" in ad.tags:\n",
    "            K = \"object\"\n",
    "            \n",
    "        all_meta[K]['file'].append(F)\n",
    "        # group_id seems to be not implemented for GNIRS yet\n",
    "        if \"GNIRS\" in ad.instrument():\n",
    "            all_meta[K]['group_id'].append(None)\n",
    "        else:\n",
    "            all_meta[K]['group_id'].append(ad.group_id())\n",
    "        all_meta[K]['exp'].append(ad.exposure_time())\n",
    "        all_meta[K]['objname'].append(ad.object())\n",
    "        all_meta[K]['wave'].append(ad.central_wavelength())\n",
    "        all_meta[K]['waveband'].append(ad.wavelength_band())\n",
    "        all_meta[K]['date'].append(ad.ut_date())\n",
    "        all_meta[K]['roi'].append(ad.detector_roi_setting()) \n",
    "        #print (F.split('/')[-1], ad.object(), ad.tags)\n",
    "    \n",
    "    return all_meta\n"
   ]
  },
  {
   "cell_type": "code",
   "execution_count": 7,
   "id": "f1c76241-a601-4bb1-bc33-032ae9177951",
   "metadata": {},
   "outputs": [
    {
     "name": "stdout",
     "output_type": "stream",
     "text": [
      "The total number of files for observation ID GN-2018B-Q-315-11 is 121\n",
      "There are 100 files for observation type BIAS\n",
      "There are 5 files for observation type FLAT\n",
      "There are 6 files for observation type ARC\n",
      "There are 1 files for observation type BPM\n",
      "There are 2 files for observation type standard\n",
      "There are 4 files for observation type object\n",
      "There are 2 files for observation type unknown\n"
     ]
    }
   ],
   "source": [
    "all_meta = generate_filelists(data_path, obsid)\n",
    "\n",
    "for K,V in all_meta.items():\n",
    "    if len(V['file'])==0:\n",
    "        continue\n",
    "    print (f\"There are {len(V['file'])} files for observation type {K}\")\n"
   ]
  },
  {
   "cell_type": "code",
   "execution_count": 8,
   "id": "5065a92e-43af-4519-adfd-8e3dd0003443",
   "metadata": {},
   "outputs": [],
   "source": [
    "DF_bias = pd.DataFrame(all_meta['BIAS'])\n",
    "DF_flat = pd.DataFrame(all_meta['FLAT'])\n",
    "DF_bpm = pd.DataFrame(all_meta['BPM'])\n",
    "DF_arc = pd.DataFrame(all_meta['ARC'])\n",
    "DF_object = pd.DataFrame(all_meta['object'])\n",
    "DF_standard = pd.DataFrame(all_meta['standard'])\n"
   ]
  },
  {
   "cell_type": "code",
   "execution_count": 9,
   "id": "cd005c26-764c-4eed-8f67-7e66265da4de",
   "metadata": {},
   "outputs": [
    {
     "name": "stdout",
     "output_type": "stream",
     "text": [
      "There are 1 science targets in this observation set, namely ['IRAS 05414+5840']\n"
     ]
    }
   ],
   "source": [
    "print (f\"There are {len(np.unique(DF_object['objname'].values))} science targets in this observation set, namely {np.unique(DF_object['objname'].values)}\")"
   ]
  },
  {
   "cell_type": "code",
   "execution_count": 10,
   "id": "a4625e5e-d3b8-418b-b5f7-44996f7889bd",
   "metadata": {},
   "outputs": [],
   "source": [
    "DF_all_objects = pd.concat([DF_object, DF_standard], ignore_index=True) # for GMOS this dataframe concatenation will only include science objects (i.e., standard and object)"
   ]
  },
  {
   "cell_type": "code",
   "execution_count": 11,
   "id": "dd75886e-5b19-457e-92c4-3c2161e48425",
   "metadata": {},
   "outputs": [
    {
     "data": {
      "text/plain": [
       "array([datetime.date(2018, 8, 20), datetime.date(2018, 11, 14),\n",
       "       datetime.date(2018, 11, 15)], dtype=object)"
      ]
     },
     "execution_count": 11,
     "metadata": {},
     "output_type": "execute_result"
    }
   ],
   "source": [
    "np.unique(DF_all_objects['date'].values)"
   ]
  },
  {
   "cell_type": "code",
   "execution_count": 12,
   "id": "c78363ce-341c-4e2f-b5fc-ebf09f6b4feb",
   "metadata": {},
   "outputs": [],
   "source": [
    "temp = pd.DataFrame(np.reshape(DF_bias['date'].values, (-1,1)) - np.unique(DF_all_objects['date'].values))\n",
    "## convert each column to int from timedelta\n",
    "for K in temp.columns:\n",
    "    temp[K] = temp[K].dt.days"
   ]
  },
  {
   "cell_type": "code",
   "execution_count": 13,
   "id": "aeb2c506-2fc6-4f8b-9d61-3ca69bc9074c",
   "metadata": {
    "scrolled": true
   },
   "outputs": [
    {
     "data": {
      "text/html": [
       "<div>\n",
       "<style scoped>\n",
       "    .dataframe tbody tr th:only-of-type {\n",
       "        vertical-align: middle;\n",
       "    }\n",
       "\n",
       "    .dataframe tbody tr th {\n",
       "        vertical-align: top;\n",
       "    }\n",
       "\n",
       "    .dataframe thead th {\n",
       "        text-align: right;\n",
       "    }\n",
       "</style>\n",
       "<table border=\"1\" class=\"dataframe\">\n",
       "  <thead>\n",
       "    <tr style=\"text-align: right;\">\n",
       "      <th></th>\n",
       "      <th>0</th>\n",
       "      <th>1</th>\n",
       "      <th>2</th>\n",
       "    </tr>\n",
       "  </thead>\n",
       "  <tbody>\n",
       "    <tr>\n",
       "      <th>0</th>\n",
       "      <td>-8</td>\n",
       "      <td>-94</td>\n",
       "      <td>-95</td>\n",
       "    </tr>\n",
       "    <tr>\n",
       "      <th>1</th>\n",
       "      <td>-8</td>\n",
       "      <td>-94</td>\n",
       "      <td>-95</td>\n",
       "    </tr>\n",
       "    <tr>\n",
       "      <th>2</th>\n",
       "      <td>-8</td>\n",
       "      <td>-94</td>\n",
       "      <td>-95</td>\n",
       "    </tr>\n",
       "    <tr>\n",
       "      <th>3</th>\n",
       "      <td>-8</td>\n",
       "      <td>-94</td>\n",
       "      <td>-95</td>\n",
       "    </tr>\n",
       "    <tr>\n",
       "      <th>4</th>\n",
       "      <td>-8</td>\n",
       "      <td>-94</td>\n",
       "      <td>-95</td>\n",
       "    </tr>\n",
       "    <tr>\n",
       "      <th>...</th>\n",
       "      <td>...</td>\n",
       "      <td>...</td>\n",
       "      <td>...</td>\n",
       "    </tr>\n",
       "    <tr>\n",
       "      <th>95</th>\n",
       "      <td>92</td>\n",
       "      <td>6</td>\n",
       "      <td>5</td>\n",
       "    </tr>\n",
       "    <tr>\n",
       "      <th>96</th>\n",
       "      <td>92</td>\n",
       "      <td>6</td>\n",
       "      <td>5</td>\n",
       "    </tr>\n",
       "    <tr>\n",
       "      <th>97</th>\n",
       "      <td>92</td>\n",
       "      <td>6</td>\n",
       "      <td>5</td>\n",
       "    </tr>\n",
       "    <tr>\n",
       "      <th>98</th>\n",
       "      <td>92</td>\n",
       "      <td>6</td>\n",
       "      <td>5</td>\n",
       "    </tr>\n",
       "    <tr>\n",
       "      <th>99</th>\n",
       "      <td>92</td>\n",
       "      <td>6</td>\n",
       "      <td>5</td>\n",
       "    </tr>\n",
       "  </tbody>\n",
       "</table>\n",
       "<p>100 rows × 3 columns</p>\n",
       "</div>"
      ],
      "text/plain": [
       "     0   1   2\n",
       "0   -8 -94 -95\n",
       "1   -8 -94 -95\n",
       "2   -8 -94 -95\n",
       "3   -8 -94 -95\n",
       "4   -8 -94 -95\n",
       "..  ..  ..  ..\n",
       "95  92   6   5\n",
       "96  92   6   5\n",
       "97  92   6   5\n",
       "98  92   6   5\n",
       "99  92   6   5\n",
       "\n",
       "[100 rows x 3 columns]"
      ]
     },
     "execution_count": 13,
     "metadata": {},
     "output_type": "execute_result"
    }
   ],
   "source": [
    "temp ## each column corresponds to a unique date of interest"
   ]
  },
  {
   "cell_type": "code",
   "execution_count": 14,
   "id": "e0112450-e2f6-4ad9-847d-d887a8fb63fd",
   "metadata": {},
   "outputs": [],
   "source": [
    "## create a dataframe, which is a copy of \"temp\" but set all values to False\n",
    "mask = temp.copy(deep=True) \n",
    "mask.loc[:,:] = 0\n",
    "mask = mask.astype(bool)\n",
    "\n",
    "## Now find the first 20 bias frames closest in time to a given date of interest \n",
    "for col in temp.columns:\n",
    "    idx = np.argsort(np.abs(temp[col]).values)\n",
    "    mask[col].values[idx[0:20]] = True"
   ]
  },
  {
   "cell_type": "code",
   "execution_count": 15,
   "id": "03f4a4f8-2a30-4b79-8a08-a9faf390f2ce",
   "metadata": {
    "scrolled": true
   },
   "outputs": [
    {
     "data": {
      "text/html": [
       "<div>\n",
       "<style scoped>\n",
       "    .dataframe tbody tr th:only-of-type {\n",
       "        vertical-align: middle;\n",
       "    }\n",
       "\n",
       "    .dataframe tbody tr th {\n",
       "        vertical-align: top;\n",
       "    }\n",
       "\n",
       "    .dataframe thead th {\n",
       "        text-align: right;\n",
       "    }\n",
       "</style>\n",
       "<table border=\"1\" class=\"dataframe\">\n",
       "  <thead>\n",
       "    <tr style=\"text-align: right;\">\n",
       "      <th></th>\n",
       "      <th>0</th>\n",
       "      <th>1</th>\n",
       "      <th>2</th>\n",
       "    </tr>\n",
       "  </thead>\n",
       "  <tbody>\n",
       "    <tr>\n",
       "      <th>0</th>\n",
       "      <td>False</td>\n",
       "      <td>False</td>\n",
       "      <td>False</td>\n",
       "    </tr>\n",
       "    <tr>\n",
       "      <th>1</th>\n",
       "      <td>False</td>\n",
       "      <td>False</td>\n",
       "      <td>False</td>\n",
       "    </tr>\n",
       "    <tr>\n",
       "      <th>2</th>\n",
       "      <td>False</td>\n",
       "      <td>False</td>\n",
       "      <td>False</td>\n",
       "    </tr>\n",
       "    <tr>\n",
       "      <th>3</th>\n",
       "      <td>False</td>\n",
       "      <td>False</td>\n",
       "      <td>False</td>\n",
       "    </tr>\n",
       "    <tr>\n",
       "      <th>4</th>\n",
       "      <td>False</td>\n",
       "      <td>False</td>\n",
       "      <td>False</td>\n",
       "    </tr>\n",
       "    <tr>\n",
       "      <th>...</th>\n",
       "      <td>...</td>\n",
       "      <td>...</td>\n",
       "      <td>...</td>\n",
       "    </tr>\n",
       "    <tr>\n",
       "      <th>95</th>\n",
       "      <td>False</td>\n",
       "      <td>False</td>\n",
       "      <td>False</td>\n",
       "    </tr>\n",
       "    <tr>\n",
       "      <th>96</th>\n",
       "      <td>False</td>\n",
       "      <td>False</td>\n",
       "      <td>False</td>\n",
       "    </tr>\n",
       "    <tr>\n",
       "      <th>97</th>\n",
       "      <td>False</td>\n",
       "      <td>False</td>\n",
       "      <td>False</td>\n",
       "    </tr>\n",
       "    <tr>\n",
       "      <th>98</th>\n",
       "      <td>False</td>\n",
       "      <td>False</td>\n",
       "      <td>False</td>\n",
       "    </tr>\n",
       "    <tr>\n",
       "      <th>99</th>\n",
       "      <td>False</td>\n",
       "      <td>False</td>\n",
       "      <td>False</td>\n",
       "    </tr>\n",
       "  </tbody>\n",
       "</table>\n",
       "<p>100 rows × 3 columns</p>\n",
       "</div>"
      ],
      "text/plain": [
       "        0      1      2\n",
       "0   False  False  False\n",
       "1   False  False  False\n",
       "2   False  False  False\n",
       "3   False  False  False\n",
       "4   False  False  False\n",
       "..    ...    ...    ...\n",
       "95  False  False  False\n",
       "96  False  False  False\n",
       "97  False  False  False\n",
       "98  False  False  False\n",
       "99  False  False  False\n",
       "\n",
       "[100 rows x 3 columns]"
      ]
     },
     "execution_count": 15,
     "metadata": {},
     "output_type": "execute_result"
    }
   ],
   "source": [
    "mask"
   ]
  },
  {
   "cell_type": "code",
   "execution_count": 16,
   "id": "4cd58dee-2337-4117-b8d6-1633f1759db7",
   "metadata": {},
   "outputs": [],
   "source": [
    "mask_final = mask.iloc[:].sum(axis=1).astype(bool)"
   ]
  },
  {
   "cell_type": "code",
   "execution_count": 17,
   "id": "62f4e7cf-2e81-418e-8e0c-0c7369638aad",
   "metadata": {},
   "outputs": [
    {
     "data": {
      "text/plain": [
       "(45, 100, 45)"
      ]
     },
     "execution_count": 17,
     "metadata": {},
     "output_type": "execute_result"
    }
   ],
   "source": [
    "DF_bias = DF_bias[mask_final]\n",
    "len(DF_bias), len(mask_final), np.sum(mask_final)"
   ]
  },
  {
   "cell_type": "markdown",
   "id": "40a92fe3-d999-4b0c-8ec6-b214d049bfbb",
   "metadata": {},
   "source": [
    "# GHOST example"
   ]
  },
  {
   "cell_type": "markdown",
   "id": "7a285da9-207d-4650-83ae-555f1ef277df",
   "metadata": {},
   "source": [
    "**Bias filtering for GHOST** -- unlike GMOS spectroscopy where master bias frames are generated for use with the science target and standard star, for GHOST which is an echelle spectrograph, specific master bias frames are required for science target, standard star, flat and arc (additionally also for slit-viewer camera, but it will be automatically taken care of). So the date filtering for bias needs to account for all of these.\n"
   ]
  },
  {
   "cell_type": "code",
   "execution_count": 23,
   "id": "f7a39bf1-5992-4736-8ed1-012ddb0e508b",
   "metadata": {},
   "outputs": [],
   "source": [
    "data_path = \"/data/goats_dev_data/example_data/data/ZTF18acppavh/GEM\"\n",
    "obsid = 'GS-2024A-Q-414-13'"
   ]
  },
  {
   "cell_type": "code",
   "execution_count": 24,
   "id": "a45201ee-691c-49b0-bbe6-165e24ac474b",
   "metadata": {},
   "outputs": [
    {
     "name": "stdout",
     "output_type": "stream",
     "text": [
      "The total number of files for observation ID GS-2024A-Q-414-13 is 161\n"
     ]
    }
   ],
   "source": [
    "all_meta = generate_filelists(data_path, obsid)"
   ]
  },
  {
   "cell_type": "code",
   "execution_count": 25,
   "id": "5d053d25-0282-4264-a697-017d2bb0f5ac",
   "metadata": {},
   "outputs": [
    {
     "name": "stdout",
     "output_type": "stream",
     "text": [
      "There are 150 files for observation type BIAS\n",
      "There are 2 files for observation type FLAT\n",
      "There are 2 files for observation type ARC\n",
      "There are 2 files for observation type BPM\n",
      "There are 4 files for observation type standard\n",
      "There are 1 files for observation type object\n"
     ]
    }
   ],
   "source": [
    "for K,V in all_meta.items():\n",
    "    if len(V['file'])==0:\n",
    "        continue\n",
    "    print (f\"There are {len(V['file'])} files for observation type {K}\")"
   ]
  },
  {
   "cell_type": "code",
   "execution_count": 28,
   "id": "624f48be-7647-4ad7-81b3-76b6c7542940",
   "metadata": {},
   "outputs": [],
   "source": [
    "DF_bias = pd.DataFrame(all_meta['BIAS'])\n",
    "DF_flat = pd.DataFrame(all_meta['FLAT'])\n",
    "DF_bpm = pd.DataFrame(all_meta['BPM'])\n",
    "DF_arc = pd.DataFrame(all_meta['ARC'])\n",
    "DF_object = pd.DataFrame(all_meta['object'])\n",
    "DF_standard = pd.DataFrame(all_meta['standard'])\n"
   ]
  },
  {
   "cell_type": "code",
   "execution_count": 29,
   "id": "e5e07be2-4890-4129-8e73-35262bf2f69f",
   "metadata": {},
   "outputs": [],
   "source": [
    "DF_all_objects = pd.concat([DF_standard, DF_object, DF_flat, DF_arc], ignore_index=True)"
   ]
  },
  {
   "cell_type": "code",
   "execution_count": 30,
   "id": "3f448491-4449-43ed-a7bb-4bf83be67dd1",
   "metadata": {},
   "outputs": [
    {
     "data": {
      "text/plain": [
       "array([datetime.date(2023, 12, 18), datetime.date(2024, 3, 22),\n",
       "       datetime.date(2024, 5, 10), datetime.date(2024, 5, 12),\n",
       "       datetime.date(2024, 5, 13)], dtype=object)"
      ]
     },
     "execution_count": 30,
     "metadata": {},
     "output_type": "execute_result"
    }
   ],
   "source": [
    "np.unique(DF_all_objects['date'].values)"
   ]
  },
  {
   "cell_type": "code",
   "execution_count": 31,
   "id": "57ed609f-b4cb-4a03-9906-e77368308328",
   "metadata": {},
   "outputs": [],
   "source": [
    "temp = pd.DataFrame(np.reshape(DF_bias['date'].values, (-1,1)) - np.unique(DF_all_objects['date'].values))\n",
    "## convert each column to int from timedelta\n",
    "for K in temp.columns:\n",
    "    temp[K] = temp[K].dt.days"
   ]
  },
  {
   "cell_type": "code",
   "execution_count": 32,
   "id": "4689243d-f632-4942-a5fe-994c263ff761",
   "metadata": {},
   "outputs": [
    {
     "data": {
      "text/html": [
       "<div>\n",
       "<style scoped>\n",
       "    .dataframe tbody tr th:only-of-type {\n",
       "        vertical-align: middle;\n",
       "    }\n",
       "\n",
       "    .dataframe tbody tr th {\n",
       "        vertical-align: top;\n",
       "    }\n",
       "\n",
       "    .dataframe thead th {\n",
       "        text-align: right;\n",
       "    }\n",
       "</style>\n",
       "<table border=\"1\" class=\"dataframe\">\n",
       "  <thead>\n",
       "    <tr style=\"text-align: right;\">\n",
       "      <th></th>\n",
       "      <th>0</th>\n",
       "      <th>1</th>\n",
       "      <th>2</th>\n",
       "      <th>3</th>\n",
       "      <th>4</th>\n",
       "    </tr>\n",
       "  </thead>\n",
       "  <tbody>\n",
       "    <tr>\n",
       "      <th>0</th>\n",
       "      <td>-3</td>\n",
       "      <td>-98</td>\n",
       "      <td>-147</td>\n",
       "      <td>-149</td>\n",
       "      <td>-150</td>\n",
       "    </tr>\n",
       "    <tr>\n",
       "      <th>1</th>\n",
       "      <td>-3</td>\n",
       "      <td>-98</td>\n",
       "      <td>-147</td>\n",
       "      <td>-149</td>\n",
       "      <td>-150</td>\n",
       "    </tr>\n",
       "    <tr>\n",
       "      <th>2</th>\n",
       "      <td>-1</td>\n",
       "      <td>-96</td>\n",
       "      <td>-145</td>\n",
       "      <td>-147</td>\n",
       "      <td>-148</td>\n",
       "    </tr>\n",
       "    <tr>\n",
       "      <th>3</th>\n",
       "      <td>-1</td>\n",
       "      <td>-96</td>\n",
       "      <td>-145</td>\n",
       "      <td>-147</td>\n",
       "      <td>-148</td>\n",
       "    </tr>\n",
       "    <tr>\n",
       "      <th>4</th>\n",
       "      <td>-1</td>\n",
       "      <td>-96</td>\n",
       "      <td>-145</td>\n",
       "      <td>-147</td>\n",
       "      <td>-148</td>\n",
       "    </tr>\n",
       "    <tr>\n",
       "      <th>...</th>\n",
       "      <td>...</td>\n",
       "      <td>...</td>\n",
       "      <td>...</td>\n",
       "      <td>...</td>\n",
       "      <td>...</td>\n",
       "    </tr>\n",
       "    <tr>\n",
       "      <th>145</th>\n",
       "      <td>148</td>\n",
       "      <td>53</td>\n",
       "      <td>4</td>\n",
       "      <td>2</td>\n",
       "      <td>1</td>\n",
       "    </tr>\n",
       "    <tr>\n",
       "      <th>146</th>\n",
       "      <td>148</td>\n",
       "      <td>53</td>\n",
       "      <td>4</td>\n",
       "      <td>2</td>\n",
       "      <td>1</td>\n",
       "    </tr>\n",
       "    <tr>\n",
       "      <th>147</th>\n",
       "      <td>148</td>\n",
       "      <td>53</td>\n",
       "      <td>4</td>\n",
       "      <td>2</td>\n",
       "      <td>1</td>\n",
       "    </tr>\n",
       "    <tr>\n",
       "      <th>148</th>\n",
       "      <td>148</td>\n",
       "      <td>53</td>\n",
       "      <td>4</td>\n",
       "      <td>2</td>\n",
       "      <td>1</td>\n",
       "    </tr>\n",
       "    <tr>\n",
       "      <th>149</th>\n",
       "      <td>148</td>\n",
       "      <td>53</td>\n",
       "      <td>4</td>\n",
       "      <td>2</td>\n",
       "      <td>1</td>\n",
       "    </tr>\n",
       "  </tbody>\n",
       "</table>\n",
       "<p>150 rows × 5 columns</p>\n",
       "</div>"
      ],
      "text/plain": [
       "       0   1    2    3    4\n",
       "0     -3 -98 -147 -149 -150\n",
       "1     -3 -98 -147 -149 -150\n",
       "2     -1 -96 -145 -147 -148\n",
       "3     -1 -96 -145 -147 -148\n",
       "4     -1 -96 -145 -147 -148\n",
       "..   ...  ..  ...  ...  ...\n",
       "145  148  53    4    2    1\n",
       "146  148  53    4    2    1\n",
       "147  148  53    4    2    1\n",
       "148  148  53    4    2    1\n",
       "149  148  53    4    2    1\n",
       "\n",
       "[150 rows x 5 columns]"
      ]
     },
     "execution_count": 32,
     "metadata": {},
     "output_type": "execute_result"
    }
   ],
   "source": [
    "temp ## each column corresponds to a unique date of interest"
   ]
  },
  {
   "cell_type": "code",
   "execution_count": 33,
   "id": "85d2a5c6-5f5b-4801-826a-51c97ca5bbc7",
   "metadata": {},
   "outputs": [],
   "source": [
    "## create a dataframe, which is a copy of \"temp\" but set all values to False\n",
    "mask = temp.copy(deep=True) \n",
    "mask.loc[:,:] = 0\n",
    "mask = mask.astype(bool)\n",
    "\n",
    "## Now find the first 20 bias frames closest in time to a given date of interest \n",
    "for col in temp.columns:\n",
    "    idx = np.argsort(np.abs(temp[col]).values)\n",
    "    mask[col].values[idx[0:20]] = True"
   ]
  },
  {
   "cell_type": "code",
   "execution_count": 34,
   "id": "73c8c47e-d8c5-4d22-87b5-a704d7e797fe",
   "metadata": {},
   "outputs": [
    {
     "data": {
      "text/html": [
       "<div>\n",
       "<style scoped>\n",
       "    .dataframe tbody tr th:only-of-type {\n",
       "        vertical-align: middle;\n",
       "    }\n",
       "\n",
       "    .dataframe tbody tr th {\n",
       "        vertical-align: top;\n",
       "    }\n",
       "\n",
       "    .dataframe thead th {\n",
       "        text-align: right;\n",
       "    }\n",
       "</style>\n",
       "<table border=\"1\" class=\"dataframe\">\n",
       "  <thead>\n",
       "    <tr style=\"text-align: right;\">\n",
       "      <th></th>\n",
       "      <th>0</th>\n",
       "      <th>1</th>\n",
       "      <th>2</th>\n",
       "      <th>3</th>\n",
       "      <th>4</th>\n",
       "    </tr>\n",
       "  </thead>\n",
       "  <tbody>\n",
       "    <tr>\n",
       "      <th>0</th>\n",
       "      <td>False</td>\n",
       "      <td>False</td>\n",
       "      <td>False</td>\n",
       "      <td>False</td>\n",
       "      <td>False</td>\n",
       "    </tr>\n",
       "    <tr>\n",
       "      <th>1</th>\n",
       "      <td>False</td>\n",
       "      <td>False</td>\n",
       "      <td>False</td>\n",
       "      <td>False</td>\n",
       "      <td>False</td>\n",
       "    </tr>\n",
       "    <tr>\n",
       "      <th>2</th>\n",
       "      <td>False</td>\n",
       "      <td>False</td>\n",
       "      <td>False</td>\n",
       "      <td>False</td>\n",
       "      <td>False</td>\n",
       "    </tr>\n",
       "    <tr>\n",
       "      <th>3</th>\n",
       "      <td>False</td>\n",
       "      <td>False</td>\n",
       "      <td>False</td>\n",
       "      <td>False</td>\n",
       "      <td>False</td>\n",
       "    </tr>\n",
       "    <tr>\n",
       "      <th>4</th>\n",
       "      <td>False</td>\n",
       "      <td>False</td>\n",
       "      <td>False</td>\n",
       "      <td>False</td>\n",
       "      <td>False</td>\n",
       "    </tr>\n",
       "    <tr>\n",
       "      <th>...</th>\n",
       "      <td>...</td>\n",
       "      <td>...</td>\n",
       "      <td>...</td>\n",
       "      <td>...</td>\n",
       "      <td>...</td>\n",
       "    </tr>\n",
       "    <tr>\n",
       "      <th>145</th>\n",
       "      <td>False</td>\n",
       "      <td>False</td>\n",
       "      <td>False</td>\n",
       "      <td>False</td>\n",
       "      <td>True</td>\n",
       "    </tr>\n",
       "    <tr>\n",
       "      <th>146</th>\n",
       "      <td>False</td>\n",
       "      <td>False</td>\n",
       "      <td>False</td>\n",
       "      <td>False</td>\n",
       "      <td>True</td>\n",
       "    </tr>\n",
       "    <tr>\n",
       "      <th>147</th>\n",
       "      <td>False</td>\n",
       "      <td>False</td>\n",
       "      <td>False</td>\n",
       "      <td>False</td>\n",
       "      <td>True</td>\n",
       "    </tr>\n",
       "    <tr>\n",
       "      <th>148</th>\n",
       "      <td>False</td>\n",
       "      <td>False</td>\n",
       "      <td>False</td>\n",
       "      <td>True</td>\n",
       "      <td>True</td>\n",
       "    </tr>\n",
       "    <tr>\n",
       "      <th>149</th>\n",
       "      <td>False</td>\n",
       "      <td>False</td>\n",
       "      <td>False</td>\n",
       "      <td>True</td>\n",
       "      <td>True</td>\n",
       "    </tr>\n",
       "  </tbody>\n",
       "</table>\n",
       "<p>150 rows × 5 columns</p>\n",
       "</div>"
      ],
      "text/plain": [
       "         0      1      2      3      4\n",
       "0    False  False  False  False  False\n",
       "1    False  False  False  False  False\n",
       "2    False  False  False  False  False\n",
       "3    False  False  False  False  False\n",
       "4    False  False  False  False  False\n",
       "..     ...    ...    ...    ...    ...\n",
       "145  False  False  False  False   True\n",
       "146  False  False  False  False   True\n",
       "147  False  False  False  False   True\n",
       "148  False  False  False   True   True\n",
       "149  False  False  False   True   True\n",
       "\n",
       "[150 rows x 5 columns]"
      ]
     },
     "execution_count": 34,
     "metadata": {},
     "output_type": "execute_result"
    }
   ],
   "source": [
    "mask"
   ]
  },
  {
   "cell_type": "code",
   "execution_count": 35,
   "id": "cb8e672a-4560-46b3-a503-9057607dd082",
   "metadata": {},
   "outputs": [],
   "source": [
    "mask_final = mask.iloc[:].sum(axis=1).astype(bool)"
   ]
  },
  {
   "cell_type": "code",
   "execution_count": 36,
   "id": "9f92740f-9ae1-432f-9312-f6aede41e18c",
   "metadata": {},
   "outputs": [
    {
     "data": {
      "text/plain": [
       "(76, 150, 76)"
      ]
     },
     "execution_count": 36,
     "metadata": {},
     "output_type": "execute_result"
    }
   ],
   "source": [
    "DF_bias = DF_bias[mask_final]\n",
    "len(DF_bias), len(mask_final), np.sum(mask_final)"
   ]
  },
  {
   "cell_type": "code",
   "execution_count": null,
   "id": "02479fa5-ec94-493f-830e-9f4097eab68d",
   "metadata": {},
   "outputs": [],
   "source": []
  }
 ],
 "metadata": {
  "kernelspec": {
   "display_name": "Python 3 (ipykernel)",
   "language": "python",
   "name": "python3"
  },
  "language_info": {
   "codemirror_mode": {
    "name": "ipython",
    "version": 3
   },
   "file_extension": ".py",
   "mimetype": "text/x-python",
   "name": "python",
   "nbconvert_exporter": "python",
   "pygments_lexer": "ipython3",
   "version": "3.10.14"
  }
 },
 "nbformat": 4,
 "nbformat_minor": 5
}
