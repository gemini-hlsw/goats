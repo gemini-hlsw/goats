{
 "cells": [
  {
   "cell_type": "code",
   "execution_count": 1,
   "id": "9fdeee2b-8e99-4050-8d88-63cc59d6a13c",
   "metadata": {},
   "outputs": [],
   "source": [
    "__author__ = 'Monika Soraisam'\n",
    "__email__ = 'monika.soraisam@noirlab.edu'"
   ]
  },
  {
   "cell_type": "markdown",
   "id": "e8d8db90-d368-4d17-a630-89cadf701c9b",
   "metadata": {},
   "source": [
    "# This notebook is meant for comparing dataselect results with that from the GOATS frontend (https://noirlab.atlassian.net/browse/GOATS-385)"
   ]
  },
  {
   "cell_type": "code",
   "execution_count": 2,
   "id": "186d641b-19c0-4a3b-ac16-bb618ac3879b",
   "metadata": {},
   "outputs": [],
   "source": [
    "import os\n",
    "import sys\n",
    "from pathlib import Path\n",
    "import pandas as pd\n",
    "%matplotlib inline\n",
    "import matplotlib.pyplot as plt\n",
    "import numpy as np\n",
    "import datetime\n",
    "import types"
   ]
  },
  {
   "cell_type": "code",
   "execution_count": 3,
   "id": "0def4a53-7f83-42ad-8395-67ae0e955b0a",
   "metadata": {},
   "outputs": [],
   "source": [
    "# Now import the DRAGONS libraries \n",
    "import astrodata\n",
    "import gemini_instruments\n",
    "from recipe_system import cal_service\n",
    "from gempy.adlibrary import dataselect\n",
    "from gempy.utils import logutils\n",
    "\n",
    "from recipe_system.reduction.coreReduce import Reduce\n",
    "from gempy.scripts import showpars\n",
    "from gempy.utils.showrecipes import showrecipes\n",
    "from gempy.utils.showrecipes import showprims"
   ]
  },
  {
   "cell_type": "code",
   "execution_count": 4,
   "id": "bcfaf348-caed-4345-a659-b668edc6cebb",
   "metadata": {},
   "outputs": [],
   "source": [
    "## prep the reduction folder\n",
    "def prep_reduction_folder(data_root, obsid):\n",
    "    reduction_path = Path(f\"{data_root}/{obsid}/reduction\")\n",
    "\n",
    "    if not reduction_path.exists():\n",
    "        os.mkdir(reduction_path.as_posix())\n",
    "        print (f\"directory for dragons reduction created\")\n",
    "    \n",
    "    ## change the cwd to the reduction folder\n",
    "    os.chdir(reduction_path.as_posix())\n",
    "    print(f\"Current working directory is: {os.getcwd()}\")\n",
    "\n",
    "    ## write the configuration file \n",
    "    mydb = \"dragons_for_goats.db\" \n",
    "    mydb_path = reduction_path.as_posix() + '/' + mydb\n",
    "    print (mydb_path)\n",
    "    \n",
    "    dragons_rc = reduction_path.as_posix() + '/dragonsrc'\n",
    "    print (dragons_rc)\n",
    "    \n",
    "    with open(dragons_rc, \"w\") as f:\n",
    "        f.write(\"[calibs]\\ndatabases = {0} get store\".format(mydb_path))\n",
    "\n",
    "    return dragons_rc, mydb_path\n"
   ]
  },
  {
   "cell_type": "code",
   "execution_count": 5,
   "id": "4c6fcd16-ecd2-4d6a-8570-87729c02841f",
   "metadata": {},
   "outputs": [],
   "source": [
    "def generate_filelists(location, obsid):\n",
    "    \"\"\"\n",
    "    Parameters\n",
    "    ----------\n",
    "    location: str\n",
    "        Root folder where the Gemini data for a given target is located\n",
    "    obsid: str\n",
    "        Gemini observation ID \n",
    "    \"\"\"\n",
    "\n",
    "    \n",
    "    all_files = [str(pp) for pp in list(Path(location+\"/\"+obsid).glob('*.fits'))]\n",
    "    all_files.sort()\n",
    "    print (f'The total number of files for observation ID {obsid} is {len(all_files)}')\n",
    "\n",
    "    obs_types = ['OBJECT','BIAS','DARK','FLAT','ARC','PINHOLE','RONCHI','CAL','FRINGE','MOS MASK', 'BPM'] #fetched from Obs Type search field on GOA, which is relevant for DRAGONS\n",
    "\n",
    "    all_meta = {}\n",
    "\n",
    "    # Note that even if a few keywords are extracted below, thiis is just meant for demonstration purposes. \n",
    "    # If onyl these keywords are extracted in production, it will not align with  \n",
    "    # implementation of item (2), allowing users to group/select preferred header keywords\n",
    "    for K in obs_types:\n",
    "        all_meta[K] = {'file':[],\n",
    "                        'obs_class':[],\n",
    "                        'group_id':[],\n",
    "                        'exp':[],\n",
    "                        'object':[],\n",
    "                        'wave':[],\n",
    "                        'waveband':[],\n",
    "                        'date':[],\n",
    "                        'roi':[],\n",
    "                        }\n",
    "\n",
    "    object_files = []\n",
    "    for i,F in enumerate(all_files):\n",
    "        ad = astrodata.open(F)\n",
    "\n",
    "        if \"BPM\" in ad.tags or \"UNPREPARED\" in ad.tags: ## want only raw, i.e., \"unprepared\" files, but BPM is an exception, which is processed/prepared \n",
    "            K = ad.observation_type() ## astrodata header also has the observation type, which should match what's in the archive drop-down menu\n",
    "        \n",
    "        elif \"PREPARED\" in ad.tags or \"PROCESSED\" in ad.tags: ## skip all \"prepared\"/\"processed\" files\n",
    "            continue\n",
    "            \n",
    "        all_meta[K]['file'].append(F)\n",
    "        all_meta[K]['obs_class'].append(ad.observation_class())\n",
    "        \n",
    "        # group_id seems to be not implemented for GNIRS spectroscopy yet\n",
    "        if \"GNIRS\" in ad.instrument():\n",
    "            all_meta[K]['group_id'].append(None)\n",
    "        else:\n",
    "            all_meta[K]['group_id'].append(ad.group_id())\n",
    "        all_meta[K]['exp'].append(ad.exposure_time())\n",
    "        all_meta[K]['object'].append(ad.object())\n",
    "        all_meta[K]['wave'].append(ad.central_wavelength())\n",
    "        all_meta[K]['waveband'].append(ad.wavelength_band())\n",
    "        all_meta[K]['date'].append(ad.ut_date())\n",
    "        all_meta[K]['roi'].append(ad.detector_roi_setting()) \n",
    "        #print (F.split('/')[-1], ad.object(), ad.tags)\n",
    "    \n",
    "    return all_meta\n"
   ]
  },
  {
   "cell_type": "markdown",
   "id": "6d7d6902-6eea-471a-9f0f-571ec88e3dd7",
   "metadata": {},
   "source": [
    "# GMOS spectroscopy"
   ]
  },
  {
   "cell_type": "code",
   "execution_count": 6,
   "id": "3eef1a68-936f-4e8e-9f74-e4997b0ddd40",
   "metadata": {},
   "outputs": [
    {
     "name": "stdout",
     "output_type": "stream",
     "text": [
      "directory for dragons reduction created\n",
      "Current working directory is: /Users/monika.soraisam/Desktop/tomdev/real_goats/goats_data/ZTF18acppvil/GEM/GS-2021A-DD-102-9/reduction\n",
      "/Users/monika.soraisam/Desktop/tomdev/real_goats/goats_data/ZTF18acppvil/GEM/GS-2021A-DD-102-9/reduction/dragons_for_goats.db\n",
      "/Users/monika.soraisam/Desktop/tomdev/real_goats/goats_data/ZTF18acppvil/GEM/GS-2021A-DD-102-9/reduction/dragonsrc\n"
     ]
    }
   ],
   "source": [
    "data_path = \"/Users/monika.soraisam/Desktop/tomdev/real_goats/goats_data/ZTF18acppvil/GEM\"\n",
    "obsid = 'GS-2021A-DD-102-9'\n",
    "dragons_rc, mydb_path = prep_reduction_folder(data_path, obsid)"
   ]
  },
  {
   "cell_type": "code",
   "execution_count": 7,
   "id": "1b3a6a2a-d577-4a54-846d-21e132c017c4",
   "metadata": {},
   "outputs": [
    {
     "name": "stdout",
     "output_type": "stream",
     "text": [
      "The total number of files for observation ID GS-2021A-DD-102-9 is 113\n",
      "There are 5 files for observation type OBJECT\n",
      "There are 100 files for observation type BIAS\n",
      "There are 3 files for observation type FLAT\n",
      "There are 3 files for observation type ARC\n",
      "There are 1 files for observation type BPM\n"
     ]
    }
   ],
   "source": [
    "all_meta = generate_filelists(data_path, obsid)\n",
    "\n",
    "for K,V in all_meta.items():\n",
    "    if len(V['file'])==0:\n",
    "        continue\n",
    "    print (f\"There are {len(V['file'])} files for observation type {K}\") "
   ]
  },
  {
   "cell_type": "code",
   "execution_count": 8,
   "id": "4f6e6545-92ae-4d5b-9316-620cc11bf8a6",
   "metadata": {},
   "outputs": [],
   "source": [
    "DF_object = pd.DataFrame(all_meta['OBJECT'])\n",
    "DF_bias = pd.DataFrame(all_meta['BIAS'])\n",
    "DF_flat = pd.DataFrame(all_meta['FLAT'])\n",
    "DF_arc = pd.DataFrame(all_meta['ARC'])\n",
    "DF_bpm = pd.DataFrame(all_meta['BPM'])"
   ]
  },
  {
   "cell_type": "code",
   "execution_count": 9,
   "id": "242f4abd-ce76-4b6a-b029-9fdd54bad1a5",
   "metadata": {},
   "outputs": [
    {
     "name": "stdout",
     "output_type": "stream",
     "text": [
      "There are 3 unique objects in this observation set, namely ['AT2020caa' 'LTT6248' 'Twilight']\n"
     ]
    }
   ],
   "source": [
    "print (f\"There are {len(np.unique(DF_object['object'].values))} unique objects in this observation set, namely {np.unique(DF_object['object'].values)}\")"
   ]
  },
  {
   "cell_type": "markdown",
   "id": "d43f1758-7d99-479e-b105-fbcaf347770b",
   "metadata": {},
   "source": [
    "## Results from grouping and using dataselect"
   ]
  },
  {
   "cell_type": "code",
   "execution_count": 13,
   "id": "f95bc282-a7d1-4246-bdf8-59dc229771b6",
   "metadata": {},
   "outputs": [
    {
     "name": "stdout",
     "output_type": "stream",
     "text": [
      "\n",
      "\n",
      "('GG455_6.5e-07_2_2_Normal_[\"\\'BI5-36-4k-2, 4\\':[1:512,1:4224]\", \"\\'BI5-36-4k-2, 3\\':[513:1024,1:4224]\", \"\\'BI5-36-4k-2, 2\\':[1025:1536,1:4224]\", \"\\'BI5-36-4k-2, 1\\':[1537:2048,1:4224]\", \"\\'BI11-33-4k-1, 4\\':[2049:2560,1:4224]\", \"\\'BI11-33-4k-1, 3\\':[2561:3072,1:4224]\", \"\\'BI11-33-4k-1, 2\\':[3073:3584,1:4224]\", \"\\'BI11-33-4k-1, 1\\':[3585:4096,1:4224]\", \"\\'BI12-34-4k-1, 4\\':[4097:4608,1:4224]\", \"\\'BI12-34-4k-1, 3\\':[4609:5120,1:4224]\", \"\\'BI12-34-4k-1, 2\\':[5121:5632,1:4224]\", \"\\'BI12-34-4k-1, 1\\':[5633:6144,1:4224]\"]_R400', 'Twilight') 1\n",
      "/Users/monika.soraisam/Desktop/tomdev/real_goats/goats_data/ZTF18acppvil/GEM/GS-2021A-DD-102-9/S20210218S0029.fits\n",
      "\n",
      "\n",
      "('GS-2021A-DD-102-5_GG455_6.5e-07_2_2_Normal_[\"\\'BI5-36-4k-2, 4\\':[1:512,1625:2648]\", \"\\'BI5-36-4k-2, 3\\':[513:1024,1625:2648]\", \"\\'BI5-36-4k-2, 2\\':[1025:1536,1625:2648]\", \"\\'BI5-36-4k-2, 1\\':[1537:2048,1625:2648]\", \"\\'BI11-33-4k-1, 4\\':[2049:2560,1625:2648]\", \"\\'BI11-33-4k-1, 3\\':[2561:3072,1625:2648]\", \"\\'BI11-33-4k-1, 2\\':[3073:3584,1625:2648]\", \"\\'BI11-33-4k-1, 1\\':[3585:4096,1625:2648]\", \"\\'BI12-34-4k-1, 4\\':[4097:4608,1625:2648]\", \"\\'BI12-34-4k-1, 3\\':[4609:5120,1625:2648]\", \"\\'BI12-34-4k-1, 2\\':[5121:5632,1625:2648]\", \"\\'BI12-34-4k-1, 1\\':[5633:6144,1625:2648]\"]_R400', 'LTT6248') 1\n",
      "/Users/monika.soraisam/Desktop/tomdev/real_goats/goats_data/ZTF18acppvil/GEM/GS-2021A-DD-102-9/S20210219S0084.fits\n",
      "\n",
      "\n",
      "('GS-2021A-DD-102-9_GG455_2_2_Normal_[\"\\'BI5-36-4k-2, 4\\':[1:512,1:4224]\", \"\\'BI5-36-4k-2, 3\\':[513:1024,1:4224]\", \"\\'BI5-36-4k-2, 2\\':[1025:1536,1:4224]\", \"\\'BI5-36-4k-2, 1\\':[1537:2048,1:4224]\", \"\\'BI11-33-4k-1, 4\\':[2049:2560,1:4224]\", \"\\'BI11-33-4k-1, 3\\':[2561:3072,1:4224]\", \"\\'BI11-33-4k-1, 2\\':[3073:3584,1:4224]\", \"\\'BI11-33-4k-1, 1\\':[3585:4096,1:4224]\", \"\\'BI12-34-4k-1, 4\\':[4097:4608,1:4224]\", \"\\'BI12-34-4k-1, 3\\':[4609:5120,1:4224]\", \"\\'BI12-34-4k-1, 2\\':[5121:5632,1:4224]\", \"\\'BI12-34-4k-1, 1\\':[5633:6144,1:4224]\"]_R400', 'AT2020caa') 3\n",
      "/Users/monika.soraisam/Desktop/tomdev/real_goats/goats_data/ZTF18acppvil/GEM/GS-2021A-DD-102-9/S20210219S0075.fits\n",
      "/Users/monika.soraisam/Desktop/tomdev/real_goats/goats_data/ZTF18acppvil/GEM/GS-2021A-DD-102-9/S20210219S0076.fits\n",
      "/Users/monika.soraisam/Desktop/tomdev/real_goats/goats_data/ZTF18acppvil/GEM/GS-2021A-DD-102-9/S20210219S0079.fits\n"
     ]
    }
   ],
   "source": [
    "for K, V in DF_object.groupby(['group_id','object']):\n",
    "    print (\"\\n\")\n",
    "    print(K,len(V))\n",
    "    for a in V['file'].values:\n",
    "        print (a)"
   ]
  },
  {
   "cell_type": "code",
   "execution_count": 17,
   "id": "2d4e2da5-2ffc-45ab-84e1-2195d9032e3b",
   "metadata": {},
   "outputs": [
    {
     "data": {
      "text/plain": [
       "['/Users/monika.soraisam/Desktop/tomdev/real_goats/goats_data/ZTF18acppvil/GEM/GS-2021A-DD-102-9/S20210218S0029.fits',\n",
       " '/Users/monika.soraisam/Desktop/tomdev/real_goats/goats_data/ZTF18acppvil/GEM/GS-2021A-DD-102-9/S20210219S0075.fits',\n",
       " '/Users/monika.soraisam/Desktop/tomdev/real_goats/goats_data/ZTF18acppvil/GEM/GS-2021A-DD-102-9/S20210219S0076.fits',\n",
       " '/Users/monika.soraisam/Desktop/tomdev/real_goats/goats_data/ZTF18acppvil/GEM/GS-2021A-DD-102-9/S20210219S0084.fits']"
      ]
     },
     "execution_count": 17,
     "metadata": {},
     "output_type": "execute_result"
    }
   ],
   "source": [
    "filtered = dataselect.select_data(list(DF_object['file'].values), [], [], dataselect.expr_parser('central_wavelength<6.6E-7'))\n",
    "filtered"
   ]
  },
  {
   "cell_type": "code",
   "execution_count": 39,
   "id": "736d898b-b40b-47ca-8714-6786c5de1107",
   "metadata": {},
   "outputs": [
    {
     "data": {
      "text/plain": [
       "['/Users/monika.soraisam/Desktop/tomdev/real_goats/goats_data/ZTF18acppvil/GEM/GS-2021A-DD-102-9/S20210219S0079.fits']"
      ]
     },
     "execution_count": 39,
     "metadata": {},
     "output_type": "execute_result"
    }
   ],
   "source": [
    "filtered = dataselect.select_data(list(DF_object['file'].values), [], [], dataselect.expr_parser('central_wavelength>6.5E-7'))\n",
    "filtered"
   ]
  },
  {
   "cell_type": "code",
   "execution_count": 40,
   "id": "58a3b89c-98d8-4a88-8d70-453ec87d66c7",
   "metadata": {},
   "outputs": [
    {
     "data": {
      "text/plain": [
       "['/Users/monika.soraisam/Desktop/tomdev/real_goats/goats_data/ZTF18acppvil/GEM/GS-2021A-DD-102-9/S20210218S0029.fits',\n",
       " '/Users/monika.soraisam/Desktop/tomdev/real_goats/goats_data/ZTF18acppvil/GEM/GS-2021A-DD-102-9/S20210219S0075.fits',\n",
       " '/Users/monika.soraisam/Desktop/tomdev/real_goats/goats_data/ZTF18acppvil/GEM/GS-2021A-DD-102-9/S20210219S0076.fits',\n",
       " '/Users/monika.soraisam/Desktop/tomdev/real_goats/goats_data/ZTF18acppvil/GEM/GS-2021A-DD-102-9/S20210219S0084.fits']"
      ]
     },
     "execution_count": 40,
     "metadata": {},
     "output_type": "execute_result"
    }
   ],
   "source": [
    "filtered = dataselect.select_data(list(DF_object['file'].values), [], [], dataselect.expr_parser('central_wavelength==6.5E-7'))\n",
    "filtered"
   ]
  },
  {
   "cell_type": "code",
   "execution_count": 41,
   "id": "1a68379c-4e8c-494a-919f-222cd815d6ef",
   "metadata": {},
   "outputs": [
    {
     "data": {
      "text/plain": [
       "['/Users/monika.soraisam/Desktop/tomdev/real_goats/goats_data/ZTF18acppvil/GEM/GS-2021A-DD-102-9/S20210219S0079.fits']"
      ]
     },
     "execution_count": 41,
     "metadata": {},
     "output_type": "execute_result"
    }
   ],
   "source": [
    "filtered = dataselect.select_data(list(DF_object['file'].values), [], [], dataselect.expr_parser('central_wavelength==6.6E-7'))\n",
    "filtered"
   ]
  },
  {
   "cell_type": "code",
   "execution_count": 44,
   "id": "3ca715b1-1519-48a3-8ca3-29af6ad91dc6",
   "metadata": {},
   "outputs": [
    {
     "name": "stdout",
     "output_type": "stream",
     "text": [
      "\n",
      "\n",
      "5.0 1\n",
      "/Users/monika.soraisam/Desktop/tomdev/real_goats/goats_data/ZTF18acppvil/GEM/GS-2021A-DD-102-9/S20210218S0029.fits\n",
      "\n",
      "\n",
      "60.0 1\n",
      "/Users/monika.soraisam/Desktop/tomdev/real_goats/goats_data/ZTF18acppvil/GEM/GS-2021A-DD-102-9/S20210219S0084.fits\n",
      "\n",
      "\n",
      "900.0 3\n",
      "/Users/monika.soraisam/Desktop/tomdev/real_goats/goats_data/ZTF18acppvil/GEM/GS-2021A-DD-102-9/S20210219S0075.fits\n",
      "/Users/monika.soraisam/Desktop/tomdev/real_goats/goats_data/ZTF18acppvil/GEM/GS-2021A-DD-102-9/S20210219S0076.fits\n",
      "/Users/monika.soraisam/Desktop/tomdev/real_goats/goats_data/ZTF18acppvil/GEM/GS-2021A-DD-102-9/S20210219S0079.fits\n"
     ]
    }
   ],
   "source": [
    "for K, V in DF_object.groupby('exp'):\n",
    "    print (\"\\n\")\n",
    "    print(K,len(V))\n",
    "    for a in V['file'].values:\n",
    "        print (a)"
   ]
  },
  {
   "cell_type": "code",
   "execution_count": 51,
   "id": "3186ad5c-3257-4e32-be93-743ef644f688",
   "metadata": {},
   "outputs": [
    {
     "data": {
      "text/plain": [
       "[]"
      ]
     },
     "execution_count": 51,
     "metadata": {},
     "output_type": "execute_result"
    }
   ],
   "source": [
    "filtered = dataselect.select_data(list(DF_object['file'].values), [], [], dataselect.expr_parser('exposure_time==900.01', strict=True))\n",
    "filtered"
   ]
  },
  {
   "cell_type": "code",
   "execution_count": 52,
   "id": "ee9096c2-31e3-4ed5-bb40-d89613ce8761",
   "metadata": {},
   "outputs": [
    {
     "data": {
      "text/plain": [
       "['/Users/monika.soraisam/Desktop/tomdev/real_goats/goats_data/ZTF18acppvil/GEM/GS-2021A-DD-102-9/S20210219S0075.fits',\n",
       " '/Users/monika.soraisam/Desktop/tomdev/real_goats/goats_data/ZTF18acppvil/GEM/GS-2021A-DD-102-9/S20210219S0076.fits',\n",
       " '/Users/monika.soraisam/Desktop/tomdev/real_goats/goats_data/ZTF18acppvil/GEM/GS-2021A-DD-102-9/S20210219S0079.fits']"
      ]
     },
     "execution_count": 52,
     "metadata": {},
     "output_type": "execute_result"
    }
   ],
   "source": [
    "filtered = dataselect.select_data(list(DF_object['file'].values), [], [], dataselect.expr_parser('exposure_time==900.01', strict=False))\n",
    "filtered"
   ]
  },
  {
   "cell_type": "code",
   "execution_count": 53,
   "id": "c693a952-33d0-4f40-9fed-b3f12cd47411",
   "metadata": {},
   "outputs": [
    {
     "data": {
      "text/plain": [
       "['/Users/monika.soraisam/Desktop/tomdev/real_goats/goats_data/ZTF18acppvil/GEM/GS-2021A-DD-102-9/S20210219S0075.fits',\n",
       " '/Users/monika.soraisam/Desktop/tomdev/real_goats/goats_data/ZTF18acppvil/GEM/GS-2021A-DD-102-9/S20210219S0076.fits',\n",
       " '/Users/monika.soraisam/Desktop/tomdev/real_goats/goats_data/ZTF18acppvil/GEM/GS-2021A-DD-102-9/S20210219S0079.fits']"
      ]
     },
     "execution_count": 53,
     "metadata": {},
     "output_type": "execute_result"
    }
   ],
   "source": [
    "filtered = dataselect.select_data(list(DF_object['file'].values), [], [], dataselect.expr_parser('exposure_time==900.0'))\n",
    "filtered"
   ]
  },
  {
   "cell_type": "code",
   "execution_count": 46,
   "id": "207cdbee-0edb-4622-b9ad-8190a88834f6",
   "metadata": {},
   "outputs": [
    {
     "name": "stdout",
     "output_type": "stream",
     "text": [
      "\n",
      "\n",
      "2_2_Normal_[\"'BI5-36-4k-2, 4':[1:512,1625:2648]\", \"'BI5-36-4k-2, 3':[513:1024,1625:2648]\", \"'BI5-36-4k-2, 2':[1025:1536,1625:2648]\", \"'BI5-36-4k-2, 1':[1537:2048,1625:2648]\", \"'BI11-33-4k-1, 4':[2049:2560,1625:2648]\", \"'BI11-33-4k-1, 3':[2561:3072,1625:2648]\", \"'BI11-33-4k-1, 2':[3073:3584,1625:2648]\", \"'BI11-33-4k-1, 1':[3585:4096,1625:2648]\", \"'BI12-34-4k-1, 4':[4097:4608,1625:2648]\", \"'BI12-34-4k-1, 3':[4609:5120,1625:2648]\", \"'BI12-34-4k-1, 2':[5121:5632,1625:2648]\", \"'BI12-34-4k-1, 1':[5633:6144,1625:2648]\"] 50\n",
      "/Users/monika.soraisam/Desktop/tomdev/real_goats/goats_data/ZTF18acppvil/GEM/GS-2021A-DD-102-9/S20210219S0165.fits\n",
      "/Users/monika.soraisam/Desktop/tomdev/real_goats/goats_data/ZTF18acppvil/GEM/GS-2021A-DD-102-9/S20210219S0166.fits\n",
      "/Users/monika.soraisam/Desktop/tomdev/real_goats/goats_data/ZTF18acppvil/GEM/GS-2021A-DD-102-9/S20210219S0167.fits\n",
      "/Users/monika.soraisam/Desktop/tomdev/real_goats/goats_data/ZTF18acppvil/GEM/GS-2021A-DD-102-9/S20210219S0168.fits\n",
      "/Users/monika.soraisam/Desktop/tomdev/real_goats/goats_data/ZTF18acppvil/GEM/GS-2021A-DD-102-9/S20210219S0169.fits\n",
      "\n",
      "\n",
      "2_2_Normal_[\"'BI5-36-4k-2, 4':[1:512,1:4224]\", \"'BI5-36-4k-2, 3':[513:1024,1:4224]\", \"'BI5-36-4k-2, 2':[1025:1536,1:4224]\", \"'BI5-36-4k-2, 1':[1537:2048,1:4224]\", \"'BI11-33-4k-1, 4':[2049:2560,1:4224]\", \"'BI11-33-4k-1, 3':[2561:3072,1:4224]\", \"'BI11-33-4k-1, 2':[3073:3584,1:4224]\", \"'BI11-33-4k-1, 1':[3585:4096,1:4224]\", \"'BI12-34-4k-1, 4':[4097:4608,1:4224]\", \"'BI12-34-4k-1, 3':[4609:5120,1:4224]\", \"'BI12-34-4k-1, 2':[5121:5632,1:4224]\", \"'BI12-34-4k-1, 1':[5633:6144,1:4224]\"] 50\n",
      "/Users/monika.soraisam/Desktop/tomdev/real_goats/goats_data/ZTF18acppvil/GEM/GS-2021A-DD-102-9/S20210219S0120.fits\n",
      "/Users/monika.soraisam/Desktop/tomdev/real_goats/goats_data/ZTF18acppvil/GEM/GS-2021A-DD-102-9/S20210219S0121.fits\n",
      "/Users/monika.soraisam/Desktop/tomdev/real_goats/goats_data/ZTF18acppvil/GEM/GS-2021A-DD-102-9/S20210219S0122.fits\n",
      "/Users/monika.soraisam/Desktop/tomdev/real_goats/goats_data/ZTF18acppvil/GEM/GS-2021A-DD-102-9/S20210219S0123.fits\n",
      "/Users/monika.soraisam/Desktop/tomdev/real_goats/goats_data/ZTF18acppvil/GEM/GS-2021A-DD-102-9/S20210219S0124.fits\n"
     ]
    }
   ],
   "source": [
    "# now let's also apply a filter to individual group\n",
    "for K, V in DF_bias.groupby('group_id'):\n",
    "    print (\"\\n\")\n",
    "    print(K,len(V))\n",
    "    filtered = dataselect.select_data(list(V['file'].values), [], [], dataselect.expr_parser('ut_date>\"2021-02-18\" and ut_date<\"2021-02-20\"'))\n",
    "    for a in filtered:\n",
    "        print (a)"
   ]
  },
  {
   "cell_type": "code",
   "execution_count": 16,
   "id": "64a2ab22-9081-4f98-8ab8-95e6a6b85d46",
   "metadata": {},
   "outputs": [
    {
     "name": "stdout",
     "output_type": "stream",
     "text": [
      "\n",
      "\n",
      "2_2_Normal_[\"'BI5-36-4k-2, 4':[1:512,1625:2648]\", \"'BI5-36-4k-2, 3':[513:1024,1625:2648]\", \"'BI5-36-4k-2, 2':[1025:1536,1625:2648]\", \"'BI5-36-4k-2, 1':[1537:2048,1625:2648]\", \"'BI11-33-4k-1, 4':[2049:2560,1625:2648]\", \"'BI11-33-4k-1, 3':[2561:3072,1625:2648]\", \"'BI11-33-4k-1, 2':[3073:3584,1625:2648]\", \"'BI11-33-4k-1, 1':[3585:4096,1625:2648]\", \"'BI12-34-4k-1, 4':[4097:4608,1625:2648]\", \"'BI12-34-4k-1, 3':[4609:5120,1625:2648]\", \"'BI12-34-4k-1, 2':[5121:5632,1625:2648]\", \"'BI12-34-4k-1, 1':[5633:6144,1625:2648]\"] 50\n",
      "\n",
      "\n",
      "2_2_Normal_[\"'BI5-36-4k-2, 4':[1:512,1:4224]\", \"'BI5-36-4k-2, 3':[513:1024,1:4224]\", \"'BI5-36-4k-2, 2':[1025:1536,1:4224]\", \"'BI5-36-4k-2, 1':[1537:2048,1:4224]\", \"'BI11-33-4k-1, 4':[2049:2560,1:4224]\", \"'BI11-33-4k-1, 3':[2561:3072,1:4224]\", \"'BI11-33-4k-1, 2':[3073:3584,1:4224]\", \"'BI11-33-4k-1, 1':[3585:4096,1:4224]\", \"'BI12-34-4k-1, 4':[4097:4608,1:4224]\", \"'BI12-34-4k-1, 3':[4609:5120,1:4224]\", \"'BI12-34-4k-1, 2':[5121:5632,1:4224]\", \"'BI12-34-4k-1, 1':[5633:6144,1:4224]\"] 50\n",
      "/Users/monika.soraisam/Desktop/tomdev/real_goats/goats_data/ZTF18acppvil/GEM/GS-2021A-DD-102-9/S20210219S0120.fits\n",
      "/Users/monika.soraisam/Desktop/tomdev/real_goats/goats_data/ZTF18acppvil/GEM/GS-2021A-DD-102-9/S20210219S0121.fits\n",
      "/Users/monika.soraisam/Desktop/tomdev/real_goats/goats_data/ZTF18acppvil/GEM/GS-2021A-DD-102-9/S20210219S0122.fits\n",
      "/Users/monika.soraisam/Desktop/tomdev/real_goats/goats_data/ZTF18acppvil/GEM/GS-2021A-DD-102-9/S20210219S0123.fits\n",
      "/Users/monika.soraisam/Desktop/tomdev/real_goats/goats_data/ZTF18acppvil/GEM/GS-2021A-DD-102-9/S20210219S0124.fits\n"
     ]
    }
   ],
   "source": [
    "# now let's also apply a filter to individual group\n",
    "for K, V in DF_bias.groupby('group_id'):\n",
    "    print (\"\\n\")\n",
    "    print(K,len(V))\n",
    "    filtered = dataselect.select_data(list(V['file'].values), [], [], dataselect.expr_parser('ut_date>\"2021-02-18\" and ut_date<\"2021-02-20\" and detector_roi_setting==\"Full Frame\"'))\n",
    "    for a in filtered:\n",
    "        print (a)"
   ]
  },
  {
   "cell_type": "code",
   "execution_count": 21,
   "id": "4bc01380-4376-451b-aef7-61553833a703",
   "metadata": {},
   "outputs": [
    {
     "name": "stdout",
     "output_type": "stream",
     "text": [
      "\n",
      "\n",
      "2_2_Normal_[\"'BI5-36-4k-2, 4':[1:512,1625:2648]\", \"'BI5-36-4k-2, 3':[513:1024,1625:2648]\", \"'BI5-36-4k-2, 2':[1025:1536,1625:2648]\", \"'BI5-36-4k-2, 1':[1537:2048,1625:2648]\", \"'BI11-33-4k-1, 4':[2049:2560,1625:2648]\", \"'BI11-33-4k-1, 3':[2561:3072,1625:2648]\", \"'BI11-33-4k-1, 2':[3073:3584,1625:2648]\", \"'BI11-33-4k-1, 1':[3585:4096,1625:2648]\", \"'BI12-34-4k-1, 4':[4097:4608,1625:2648]\", \"'BI12-34-4k-1, 3':[4609:5120,1625:2648]\", \"'BI12-34-4k-1, 2':[5121:5632,1625:2648]\", \"'BI12-34-4k-1, 1':[5633:6144,1625:2648]\"] 50\n",
      "/Users/monika.soraisam/Desktop/tomdev/real_goats/goats_data/ZTF18acppvil/GEM/GS-2021A-DD-102-9/S20210219S0165.fits\n",
      "/Users/monika.soraisam/Desktop/tomdev/real_goats/goats_data/ZTF18acppvil/GEM/GS-2021A-DD-102-9/S20210219S0166.fits\n",
      "/Users/monika.soraisam/Desktop/tomdev/real_goats/goats_data/ZTF18acppvil/GEM/GS-2021A-DD-102-9/S20210219S0167.fits\n",
      "/Users/monika.soraisam/Desktop/tomdev/real_goats/goats_data/ZTF18acppvil/GEM/GS-2021A-DD-102-9/S20210219S0168.fits\n",
      "/Users/monika.soraisam/Desktop/tomdev/real_goats/goats_data/ZTF18acppvil/GEM/GS-2021A-DD-102-9/S20210219S0169.fits\n",
      "\n",
      "\n",
      "2_2_Normal_[\"'BI5-36-4k-2, 4':[1:512,1:4224]\", \"'BI5-36-4k-2, 3':[513:1024,1:4224]\", \"'BI5-36-4k-2, 2':[1025:1536,1:4224]\", \"'BI5-36-4k-2, 1':[1537:2048,1:4224]\", \"'BI11-33-4k-1, 4':[2049:2560,1:4224]\", \"'BI11-33-4k-1, 3':[2561:3072,1:4224]\", \"'BI11-33-4k-1, 2':[3073:3584,1:4224]\", \"'BI11-33-4k-1, 1':[3585:4096,1:4224]\", \"'BI12-34-4k-1, 4':[4097:4608,1:4224]\", \"'BI12-34-4k-1, 3':[4609:5120,1:4224]\", \"'BI12-34-4k-1, 2':[5121:5632,1:4224]\", \"'BI12-34-4k-1, 1':[5633:6144,1:4224]\"] 50\n"
     ]
    }
   ],
   "source": [
    "# now let's also apply a filter to individual group\n",
    "for K, V in DF_bias.groupby('group_id'):\n",
    "    print (\"\\n\")\n",
    "    print(K,len(V))\n",
    "    filtered = dataselect.select_data(list(V['file'].values), [], [], dataselect.expr_parser('ut_date>\"2021-02-18\" and ut_date<\"2021-02-20\" and detector_roi_setting==\"Central Spectrum\"'))\n",
    "    for a in filtered:\n",
    "        print (a)"
   ]
  },
  {
   "cell_type": "markdown",
   "id": "6a714e44-8a0a-40d1-88b9-4906c23bf9cd",
   "metadata": {},
   "source": [
    "# F2 imaging"
   ]
  },
  {
   "cell_type": "code",
   "execution_count": 22,
   "id": "a0c7d7d5-9759-4511-8e0b-ff0fbfbb3436",
   "metadata": {},
   "outputs": [
    {
     "name": "stdout",
     "output_type": "stream",
     "text": [
      "directory for dragons reduction created\n",
      "Current working directory is: /Users/monika.soraisam/Desktop/tomdev/real_goats/goats_data/ZTF18acppvil/GEM/GS-2015B-Q-46-59/reduction\n",
      "/Users/monika.soraisam/Desktop/tomdev/real_goats/goats_data/ZTF18acppvil/GEM/GS-2015B-Q-46-59/reduction/dragons_for_goats.db\n",
      "/Users/monika.soraisam/Desktop/tomdev/real_goats/goats_data/ZTF18acppvil/GEM/GS-2015B-Q-46-59/reduction/dragonsrc\n"
     ]
    }
   ],
   "source": [
    "data_path = \"/Users/monika.soraisam/Desktop/tomdev/real_goats/goats_data/ZTF18acppvil/GEM\"\n",
    "obsid = 'GS-2015B-Q-46-59'  \n",
    "dragons_rc, mydb_path = prep_reduction_folder(data_path, obsid)"
   ]
  },
  {
   "cell_type": "code",
   "execution_count": 23,
   "id": "f61f704d-429f-447d-b5b2-8b7f3fbbfb26",
   "metadata": {},
   "outputs": [
    {
     "name": "stdout",
     "output_type": "stream",
     "text": [
      "The total number of files for observation ID GS-2015B-Q-46-59 is 298\n",
      "There are 156 files for observation type OBJECT\n",
      "There are 110 files for observation type DARK\n",
      "There are 32 files for observation type FLAT\n"
     ]
    }
   ],
   "source": [
    "all_meta = generate_filelists(data_path, obsid)\n",
    "\n",
    "for K,V in all_meta.items():\n",
    "    if len(V['file'])==0:\n",
    "        continue\n",
    "    print (f\"There are {len(V['file'])} files for observation type {K}\") "
   ]
  },
  {
   "cell_type": "code",
   "execution_count": 24,
   "id": "d32e2436-799f-4096-8461-9d10e8e1dde0",
   "metadata": {},
   "outputs": [],
   "source": [
    "DF_object = pd.DataFrame(all_meta['OBJECT'])\n",
    "DF_dark = pd.DataFrame(all_meta['DARK'])\n",
    "DF_flat = pd.DataFrame(all_meta['FLAT'])"
   ]
  },
  {
   "cell_type": "code",
   "execution_count": 25,
   "id": "927a55ca-a4c0-4b45-a798-be92bd31e6c2",
   "metadata": {},
   "outputs": [
    {
     "name": "stdout",
     "output_type": "stream",
     "text": [
      "There are 2 unique objects in this observation set, namely ['NGC 2244' 'Rubin 149 (ukirt fs14)']\n"
     ]
    }
   ],
   "source": [
    "print (f\"There are {len(np.unique(DF_object['object'].values))} unique objects in this observation set, namely {np.unique(DF_object['object'].values)}\")"
   ]
  },
  {
   "cell_type": "markdown",
   "id": "a389b278-fe7c-44e8-a361-0865d5255a04",
   "metadata": {},
   "source": [
    "## Results from grouping and using dataselect"
   ]
  },
  {
   "cell_type": "code",
   "execution_count": 27,
   "id": "f7591692-e844-4d86-9c20-b1c69dc95642",
   "metadata": {},
   "outputs": [
    {
     "name": "stdout",
     "output_type": "stream",
     "text": [
      "\n",
      "\n",
      "(\"GS-2015B-Q-46-59_H_f/16_G5830_13.0_1_['[1:2048,1:2048]']\", 'NGC 2244') 128\n",
      "\n",
      "\n",
      "(\"GS-2015B-Q-46-59_Ks_f/16_G5830_15.0_1_['[1:2048,1:2048]']\", 'NGC 2244') 22\n",
      "/Users/monika.soraisam/Desktop/tomdev/real_goats/goats_data/ZTF18acppvil/GEM/GS-2015B-Q-46-59/S20151128S0369.fits\n",
      "/Users/monika.soraisam/Desktop/tomdev/real_goats/goats_data/ZTF18acppvil/GEM/GS-2015B-Q-46-59/S20151128S0370.fits\n",
      "/Users/monika.soraisam/Desktop/tomdev/real_goats/goats_data/ZTF18acppvil/GEM/GS-2015B-Q-46-59/S20151128S0371.fits\n",
      "/Users/monika.soraisam/Desktop/tomdev/real_goats/goats_data/ZTF18acppvil/GEM/GS-2015B-Q-46-59/S20151128S0372.fits\n",
      "/Users/monika.soraisam/Desktop/tomdev/real_goats/goats_data/ZTF18acppvil/GEM/GS-2015B-Q-46-59/S20151128S0373.fits\n",
      "/Users/monika.soraisam/Desktop/tomdev/real_goats/goats_data/ZTF18acppvil/GEM/GS-2015B-Q-46-59/S20151128S0374.fits\n",
      "/Users/monika.soraisam/Desktop/tomdev/real_goats/goats_data/ZTF18acppvil/GEM/GS-2015B-Q-46-59/S20151128S0375.fits\n",
      "/Users/monika.soraisam/Desktop/tomdev/real_goats/goats_data/ZTF18acppvil/GEM/GS-2015B-Q-46-59/S20151128S0376.fits\n",
      "/Users/monika.soraisam/Desktop/tomdev/real_goats/goats_data/ZTF18acppvil/GEM/GS-2015B-Q-46-59/S20151128S0377.fits\n",
      "/Users/monika.soraisam/Desktop/tomdev/real_goats/goats_data/ZTF18acppvil/GEM/GS-2015B-Q-46-59/S20151128S0378.fits\n",
      "/Users/monika.soraisam/Desktop/tomdev/real_goats/goats_data/ZTF18acppvil/GEM/GS-2015B-Q-46-59/S20151128S0379.fits\n",
      "/Users/monika.soraisam/Desktop/tomdev/real_goats/goats_data/ZTF18acppvil/GEM/GS-2015B-Q-46-59/S20151128S0380.fits\n",
      "/Users/monika.soraisam/Desktop/tomdev/real_goats/goats_data/ZTF18acppvil/GEM/GS-2015B-Q-46-59/S20151128S0381.fits\n",
      "/Users/monika.soraisam/Desktop/tomdev/real_goats/goats_data/ZTF18acppvil/GEM/GS-2015B-Q-46-59/S20151128S0382.fits\n",
      "/Users/monika.soraisam/Desktop/tomdev/real_goats/goats_data/ZTF18acppvil/GEM/GS-2015B-Q-46-59/S20151128S0383.fits\n",
      "/Users/monika.soraisam/Desktop/tomdev/real_goats/goats_data/ZTF18acppvil/GEM/GS-2015B-Q-46-59/S20151128S0384.fits\n",
      "/Users/monika.soraisam/Desktop/tomdev/real_goats/goats_data/ZTF18acppvil/GEM/GS-2015B-Q-46-59/S20151128S0385.fits\n",
      "/Users/monika.soraisam/Desktop/tomdev/real_goats/goats_data/ZTF18acppvil/GEM/GS-2015B-Q-46-59/S20151128S0386.fits\n",
      "/Users/monika.soraisam/Desktop/tomdev/real_goats/goats_data/ZTF18acppvil/GEM/GS-2015B-Q-46-59/S20151128S0387.fits\n",
      "/Users/monika.soraisam/Desktop/tomdev/real_goats/goats_data/ZTF18acppvil/GEM/GS-2015B-Q-46-59/S20151128S0388.fits\n",
      "/Users/monika.soraisam/Desktop/tomdev/real_goats/goats_data/ZTF18acppvil/GEM/GS-2015B-Q-46-59/S20151128S0389.fits\n",
      "/Users/monika.soraisam/Desktop/tomdev/real_goats/goats_data/ZTF18acppvil/GEM/GS-2015B-Q-46-59/S20151128S0390.fits\n",
      "\n",
      "\n",
      "(\"GS-2015B-SV-301-46_H_f/16_G5830_3.0_1_['[1:2048,1:2048]']\", 'Rubin 149 (ukirt fs14)') 3\n",
      "\n",
      "\n",
      "(\"GS-2015B-SV-301-46_Ks_f/16_G5830_3.0_1_['[1:2048,1:2048]']\", 'Rubin 149 (ukirt fs14)') 3\n",
      "/Users/monika.soraisam/Desktop/tomdev/real_goats/goats_data/ZTF18acppvil/GEM/GS-2015B-Q-46-59/S20151129S0095.fits\n",
      "/Users/monika.soraisam/Desktop/tomdev/real_goats/goats_data/ZTF18acppvil/GEM/GS-2015B-Q-46-59/S20151129S0096.fits\n",
      "/Users/monika.soraisam/Desktop/tomdev/real_goats/goats_data/ZTF18acppvil/GEM/GS-2015B-Q-46-59/S20151129S0097.fits\n"
     ]
    }
   ],
   "source": [
    "for K, V in DF_object.groupby(['group_id','object']):\n",
    "    print (\"\\n\")\n",
    "    print(K,len(V))\n",
    "    filtered = dataselect.select_data(list(V['file'].values), [], [], dataselect.expr_parser('filter_name==\"Ks\"'))\n",
    "    for a in filtered:\n",
    "        print (a)    "
   ]
  },
  {
   "cell_type": "code",
   "execution_count": 28,
   "id": "2e25389e-cdcf-473d-a539-0e36a391bb09",
   "metadata": {},
   "outputs": [
    {
     "data": {
      "text/plain": [
       "['/Users/monika.soraisam/Desktop/tomdev/real_goats/goats_data/ZTF18acppvil/GEM/GS-2015B-Q-46-59/S20151129S0092.fits',\n",
       " '/Users/monika.soraisam/Desktop/tomdev/real_goats/goats_data/ZTF18acppvil/GEM/GS-2015B-Q-46-59/S20151129S0093.fits',\n",
       " '/Users/monika.soraisam/Desktop/tomdev/real_goats/goats_data/ZTF18acppvil/GEM/GS-2015B-Q-46-59/S20151129S0094.fits']"
      ]
     },
     "execution_count": 28,
     "metadata": {},
     "output_type": "execute_result"
    }
   ],
   "source": [
    "filtered = dataselect.select_data(list(DF_object['file'].values), [], [], dataselect.expr_parser('filter_name==\"H\" and object==\"Rubin 149 (ukirt fs14)\"'))\n",
    "filtered"
   ]
  },
  {
   "cell_type": "code",
   "execution_count": 72,
   "id": "63f03282-51c7-46f2-8720-fb97001e5e79",
   "metadata": {},
   "outputs": [
    {
     "data": {
      "text/plain": [
       "['/Users/monika.soraisam/Desktop/tomdev/real_goats/goats_data/ZTF18acppvil/GEM/GS-2015B-Q-46-59/S20151129S0095.fits',\n",
       " '/Users/monika.soraisam/Desktop/tomdev/real_goats/goats_data/ZTF18acppvil/GEM/GS-2015B-Q-46-59/S20151129S0096.fits',\n",
       " '/Users/monika.soraisam/Desktop/tomdev/real_goats/goats_data/ZTF18acppvil/GEM/GS-2015B-Q-46-59/S20151129S0097.fits']"
      ]
     },
     "execution_count": 72,
     "metadata": {},
     "output_type": "execute_result"
    }
   ],
   "source": [
    "filtered = dataselect.select_data(list(DF_object['file'].values), [], [], dataselect.expr_parser('filter_name==\"Ks\" and object==\"Rubin 149 (ukirt fs14)\"'))\n",
    "filtered"
   ]
  },
  {
   "cell_type": "code",
   "execution_count": 67,
   "id": "9f71ab60-12cd-463b-8823-a40f8b875c1c",
   "metadata": {},
   "outputs": [
    {
     "data": {
      "text/plain": [
       "['/Users/monika.soraisam/Desktop/tomdev/real_goats/goats_data/ZTF18acppvil/GEM/GS-2015B-Q-46-59/S20151128S0511.fits',\n",
       " '/Users/monika.soraisam/Desktop/tomdev/real_goats/goats_data/ZTF18acppvil/GEM/GS-2015B-Q-46-59/S20151128S0512.fits',\n",
       " '/Users/monika.soraisam/Desktop/tomdev/real_goats/goats_data/ZTF18acppvil/GEM/GS-2015B-Q-46-59/S20151128S0513.fits',\n",
       " '/Users/monika.soraisam/Desktop/tomdev/real_goats/goats_data/ZTF18acppvil/GEM/GS-2015B-Q-46-59/S20151128S0514.fits',\n",
       " '/Users/monika.soraisam/Desktop/tomdev/real_goats/goats_data/ZTF18acppvil/GEM/GS-2015B-Q-46-59/S20151128S0515.fits',\n",
       " '/Users/monika.soraisam/Desktop/tomdev/real_goats/goats_data/ZTF18acppvil/GEM/GS-2015B-Q-46-59/S20151128S0516.fits',\n",
       " '/Users/monika.soraisam/Desktop/tomdev/real_goats/goats_data/ZTF18acppvil/GEM/GS-2015B-Q-46-59/S20151128S0517.fits']"
      ]
     },
     "execution_count": 67,
     "metadata": {},
     "output_type": "execute_result"
    }
   ],
   "source": [
    "filtered = dataselect.select_data(list(DF_dark['file'].values), [], [], dataselect.expr_parser('exposure_time==2.0'))\n",
    "filtered"
   ]
  },
  {
   "cell_type": "code",
   "execution_count": null,
   "id": "def38673-eee2-4067-80ae-ff64d28a5a5b",
   "metadata": {},
   "outputs": [],
   "source": []
  }
 ],
 "metadata": {
  "kernelspec": {
   "display_name": "Python 3 (ipykernel)",
   "language": "python",
   "name": "python3"
  },
  "language_info": {
   "codemirror_mode": {
    "name": "ipython",
    "version": 3
   },
   "file_extension": ".py",
   "mimetype": "text/x-python",
   "name": "python",
   "nbconvert_exporter": "python",
   "pygments_lexer": "ipython3",
   "version": "3.10.14"
  }
 },
 "nbformat": 4,
 "nbformat_minor": 5
}
