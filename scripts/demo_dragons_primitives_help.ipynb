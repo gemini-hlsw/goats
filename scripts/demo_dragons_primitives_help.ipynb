{
 "cells": [
  {
   "cell_type": "code",
   "execution_count": 1,
   "id": "d368cfd1-c39c-4179-a11d-0dbd5ac91a73",
   "metadata": {},
   "outputs": [],
   "source": [
    "__author__ = 'Monika Soraisam'\n",
    "__email__ = 'monika.soraisam@noirlab.edu'"
   ]
  },
  {
   "cell_type": "markdown",
   "id": "317e8eff-179f-4e80-8438-f01d7d03a5dc",
   "metadata": {},
   "source": [
    "# This notebook shows how one can obtain all the primitives for a given observation type and the arguments associated with that primitive"
   ]
  },
  {
   "cell_type": "code",
   "execution_count": 2,
   "id": "92d36363-dc86-4e83-b572-3bb72df31aa4",
   "metadata": {},
   "outputs": [],
   "source": [
    "import os\n",
    "from pathlib import Path\n",
    "import pandas as pd\n",
    "import numpy as np\n",
    "import inspect\n",
    "\n",
    "# for bokeh apps to load from the jupyter notebook on a different browser tab\n",
    "import nest_asyncio\n",
    "nest_asyncio.apply()"
   ]
  },
  {
   "cell_type": "code",
   "execution_count": 48,
   "id": "6ce6153f-36c4-481a-bc57-205fc0fa3838",
   "metadata": {},
   "outputs": [],
   "source": [
    "# Now import the DRAGONS libraries \n",
    "import astrodata\n",
    "import gemini_instruments\n",
    "\n",
    "from gempy.scripts import showpars\n",
    "from gempy.utils.showrecipes import showrecipes\n",
    "from gempy.utils.showrecipes import showprims\n",
    "\n",
    "from recipe_system.mappers.primitiveMapper import PrimitiveMapper\n",
    "from recipe_system.mappers.recipeMapper import RecipeMapper\n",
    "\n",
    "import textwrap"
   ]
  },
  {
   "cell_type": "code",
   "execution_count": 4,
   "id": "9249d408-fb8e-461b-a3e2-a1b16ae815cc",
   "metadata": {},
   "outputs": [],
   "source": [
    "from recipe_system.reduction.coreReduce import Reduce\n",
    "from recipe_system import cal_service\n",
    "from gempy.adlibrary import dataselect\n",
    "from gempy.utils import logutils"
   ]
  },
  {
   "cell_type": "code",
   "execution_count": 5,
   "id": "5dc8c250-1708-4a3e-800c-e352785d14dd",
   "metadata": {},
   "outputs": [],
   "source": [
    "## prep the reduction folder\n",
    "def prep_reduction_folder(data_root, obsid):\n",
    "    reduction_path = Path(f\"{data_root}/{obsid}/reduction\")\n",
    "\n",
    "    if not reduction_path.exists():\n",
    "        os.mkdir(reduction_path.as_posix())\n",
    "        print (f\"directory for dragons reduction created\")\n",
    "    \n",
    "    ## change the cwd to the reduction folder\n",
    "    os.chdir(reduction_path.as_posix())\n",
    "    print(f\"Current working directory is: {os.getcwd()}\")\n",
    "\n",
    "    ## write the configuration file \n",
    "    mydb = \"dragons_for_goats.db\" \n",
    "    mydb_path = reduction_path.as_posix() + '/' + mydb\n",
    "    print (mydb_path)\n",
    "    \n",
    "    dragons_rc = reduction_path.as_posix() + '/dragonsrc'\n",
    "    print (dragons_rc)\n",
    "    \n",
    "    with open(dragons_rc, \"w\") as f:\n",
    "        f.write(\"[calibs]\\ndatabases = {0} get store\".format(mydb_path))\n",
    "\n",
    "    return dragons_rc, mydb_path\n"
   ]
  },
  {
   "cell_type": "markdown",
   "id": "5b1ab82d-c693-48e5-868b-26ef004d0393",
   "metadata": {},
   "source": [
    "# GMOS longslit example"
   ]
  },
  {
   "cell_type": "code",
   "execution_count": 6,
   "id": "14ea5d3e-ff06-465c-8d50-8a93685ac3ca",
   "metadata": {},
   "outputs": [
    {
     "name": "stdout",
     "output_type": "stream",
     "text": [
      "Current working directory is: /Users/monika.soraisam/Desktop/tomdev/real_goats/goats_data/ZTF18aabfthf/GEM/GS-2021A-DD-102-9/reduction\n",
      "/Users/monika.soraisam/Desktop/tomdev/real_goats/goats_data/ZTF18aabfthf/GEM/GS-2021A-DD-102-9/reduction/dragons_for_goats.db\n",
      "/Users/monika.soraisam/Desktop/tomdev/real_goats/goats_data/ZTF18aabfthf/GEM/GS-2021A-DD-102-9/reduction/dragonsrc\n"
     ]
    }
   ],
   "source": [
    "#data_path = \"/data/goats_dev_data/example_data/data/ZTF18acppavh/GEM\" ## linux machine \n",
    "data_path = \"/Users/monika.soraisam/Desktop/tomdev/real_goats/goats_data/ZTF18aabfthf/GEM\" ## mac \n",
    "obsid = 'GS-2021A-DD-102-9'\n",
    "dragons_rc, mydb_path = prep_reduction_folder(data_path, obsid)"
   ]
  },
  {
   "cell_type": "code",
   "execution_count": 7,
   "id": "d2ddb6ce-8d24-4202-a845-33e37b7341be",
   "metadata": {},
   "outputs": [],
   "source": [
    "# initialize the calibration database and complete the set-up \n",
    "caldb = cal_service.LocalDB(mydb_path, force_init=True) # \n"
   ]
  },
  {
   "cell_type": "code",
   "execution_count": 8,
   "id": "a9f05f7a-9aa4-4171-9a60-1874e07e6571",
   "metadata": {},
   "outputs": [],
   "source": [
    "logutils.config(file_name='gmos_data_reduction.log') # logger"
   ]
  },
  {
   "cell_type": "markdown",
   "id": "c26ddbd9-f124-47e1-9dc3-5027dc437fe7",
   "metadata": {},
   "source": [
    "### Generate filelist for the data reduction"
   ]
  },
  {
   "cell_type": "code",
   "execution_count": 9,
   "id": "e513307a-3e6e-4940-ae8d-f842b45b71fc",
   "metadata": {},
   "outputs": [],
   "source": [
    "def generate_filelists(location, obsid):\n",
    "    \"\"\"\n",
    "    Parameters\n",
    "    ----------\n",
    "    location: str\n",
    "        Root folder where the Gemini data for a given target is located\n",
    "    obsid: str\n",
    "        Gemini observation ID \n",
    "    \"\"\"\n",
    "\n",
    "    \n",
    "    all_files = [str(pp) for pp in list(Path(location+\"/\"+obsid).glob('*.fits'))]\n",
    "    all_files.sort()\n",
    "    print (f'The total number of files for observation ID {obsid} is {len(all_files)}')\n",
    "\n",
    "    cal_file_tags = ['BIAS','DARK','FLAT','ARC','PINHOLE','RONCHI','FRINGE'] #fetched from Obs Type search field on GOA, which is relevant for DRAGONS\n",
    "\n",
    "    meta_keys = cal_file_tags + ['BPM','standard','object','unknown']\n",
    "    all_meta = {}\n",
    "\n",
    "    for K in meta_keys:\n",
    "        all_meta[K] = {'file':[],\n",
    "                        'group_id':[],\n",
    "                        'exp':[],\n",
    "                        'objname':[],\n",
    "                        'wave':[],\n",
    "                        'waveband':[],\n",
    "                        'date':[],\n",
    "                        'roi':[],\n",
    "                        }\n",
    "\n",
    "    object_files = []\n",
    "    for i,F in enumerate(all_files):\n",
    "        ad = astrodata.open(F)\n",
    "\n",
    "        K = \"unknown\"\n",
    "        if \"BPM\" in ad.tags:\n",
    "            K = \"BPM\"\n",
    "        elif \"PREPARED\" in ad.tags:\n",
    "            continue\n",
    "        elif (\"STANDARD\" in ad.tags or ad.observation_class()==\"partnerCal\" or ad.observation_class()==\"progCal\") and (\"UNPREPARED\" in ad.tags) and (ad.observation_type()==\"OBJECT\"):\n",
    "            K = \"standard\"            \n",
    "        elif \"CAL\" in ad.tags and \"UNPREPARED\" in ad.tags:\n",
    "            for tag in cal_file_tags:\n",
    "                if tag in ad.tags:\n",
    "                    K = tag\n",
    "        elif ad.observation_class()==\"science\" and \"UNPREPARED\" in ad.tags:\n",
    "            K = \"object\"\n",
    "            \n",
    "        all_meta[K]['file'].append(F)\n",
    "        # group_id seems to be not implemented for GNIRS yet\n",
    "        if \"GNIRS\" in ad.instrument():\n",
    "            all_meta[K]['group_id'].append(None)\n",
    "        else:\n",
    "            all_meta[K]['group_id'].append(ad.group_id())\n",
    "        all_meta[K]['exp'].append(ad.exposure_time())\n",
    "        all_meta[K]['objname'].append(ad.object())\n",
    "        all_meta[K]['wave'].append(ad.central_wavelength())\n",
    "        all_meta[K]['waveband'].append(ad.wavelength_band())\n",
    "        all_meta[K]['date'].append(ad.ut_date())\n",
    "        all_meta[K]['roi'].append(ad.detector_roi_setting()) \n",
    "        #print (F.split('/')[-1], ad.object(), ad.tags)\n",
    "    \n",
    "    return all_meta\n"
   ]
  },
  {
   "cell_type": "code",
   "execution_count": 10,
   "id": "f1c76241-a601-4bb1-bc33-032ae9177951",
   "metadata": {},
   "outputs": [
    {
     "name": "stdout",
     "output_type": "stream",
     "text": [
      "The total number of files for observation ID GS-2021A-DD-102-9 is 58\n",
      "There are 50 files for observation type BIAS\n",
      "There are 2 files for observation type FLAT\n",
      "There are 2 files for observation type ARC\n",
      "There are 3 files for observation type object\n",
      "There are 1 files for observation type unknown\n"
     ]
    }
   ],
   "source": [
    "all_meta = generate_filelists(data_path, obsid)\n",
    "\n",
    "for K,V in all_meta.items():\n",
    "    if len(V['file'])==0:\n",
    "        continue\n",
    "    print (f\"There are {len(V['file'])} files for observation type {K}\")\n"
   ]
  },
  {
   "cell_type": "code",
   "execution_count": 11,
   "id": "5065a92e-43af-4519-adfd-8e3dd0003443",
   "metadata": {},
   "outputs": [],
   "source": [
    "DF_bias = pd.DataFrame(all_meta['BIAS'])\n",
    "DF_flat = pd.DataFrame(all_meta['FLAT'])\n",
    "#DF_bpm = pd.DataFrame(all_meta['BPM'])\n",
    "DF_arc = pd.DataFrame(all_meta['ARC'])\n",
    "DF_object = pd.DataFrame(all_meta['object'])\n"
   ]
  },
  {
   "cell_type": "code",
   "execution_count": 12,
   "id": "dc93bd51-0f55-4599-922f-e79fbe85a56e",
   "metadata": {},
   "outputs": [],
   "source": [
    "## add BPM to the calibration database (the BPM is already processed)\n",
    "for F in caldb.list_files():\n",
    "    print (F)\n",
    "\n",
    "# for F in DF_bpm['file'].values:\n",
    "#     caldb.add_cal(F)\n",
    "\n",
    "for F in caldb.list_files():\n",
    "    print (F)"
   ]
  },
  {
   "cell_type": "markdown",
   "id": "e995f860-318e-40b7-a979-9a47d730d31a",
   "metadata": {},
   "source": [
    "# Let's consider the observation type Flat\n"
   ]
  },
  {
   "cell_type": "code",
   "execution_count": 20,
   "id": "63fd7c61-e471-43d8-a7f7-1cca808e47c5",
   "metadata": {},
   "outputs": [
    {
     "name": "stdout",
     "output_type": "stream",
     "text": [
      "Instrument package is gmos and tags are {'SIDEREAL', 'UNPREPARED', 'GEMINI', 'GMOS', 'CAL', 'RAW', 'SPECT', 'LS', 'SOUTH', 'GCALFLAT', 'FLAT'}\n"
     ]
    }
   ],
   "source": [
    "ad = astrodata.open(DF_flat['file'].values[0]) ## choose any file from this observation type, here I chose the first file\n",
    "tags = ad.tags\n",
    "instpkg = ad.instrument(generic=True).lower()\n",
    "print (f\"Instrument package is {instpkg} and tags are {tags}\")"
   ]
  },
  {
   "cell_type": "code",
   "execution_count": 23,
   "id": "a660b9f0-6abc-49fe-bf61-32e63bce2b52",
   "metadata": {},
   "outputs": [],
   "source": [
    "# instantiate the PrimitiveMapper class\n",
    "pmapper = PrimitiveMapper(tags, instpkg)\n",
    "\n",
    "# get the primitive \"class\" appropriate for the given instrument and tags\n",
    "pclass = pmapper.get_applicable_primitives() "
   ]
  },
  {
   "cell_type": "code",
   "execution_count": 24,
   "id": "edec99ae-3baf-4a96-9e98-fe1d91254053",
   "metadata": {},
   "outputs": [
    {
     "data": {
      "text/plain": [
       "\u001b[0;31mInit signature:\u001b[0m \u001b[0mpclass\u001b[0m\u001b[0;34m(\u001b[0m\u001b[0madinputs\u001b[0m\u001b[0;34m,\u001b[0m \u001b[0;34m**\u001b[0m\u001b[0mkwargs\u001b[0m\u001b[0;34m)\u001b[0m\u001b[0;34m\u001b[0m\u001b[0;34m\u001b[0m\u001b[0m\n",
       "\u001b[0;31mDocstring:\u001b[0m      \"Magic\" class to provide the correct class for N&S and classic data\n",
       "\u001b[0;31mFile:\u001b[0m           /opt/anaconda3/envs/goats-env/lib/python3.10/site-packages/geminidr/gmos/primitives_gmos_longslit.py\n",
       "\u001b[0;31mType:\u001b[0m           type\n",
       "\u001b[0;31mSubclasses:\u001b[0m     "
      ]
     },
     "metadata": {},
     "output_type": "display_data"
    }
   ],
   "source": [
    "pclass?"
   ]
  },
  {
   "cell_type": "code",
   "execution_count": 26,
   "id": "6e02b771-a2f4-421e-9b05-517f294c5353",
   "metadata": {},
   "outputs": [
    {
     "name": "stdout",
     "output_type": "stream",
     "text": [
      "ADUToElectrons\n",
      "Dataset tagged as {'SIDEREAL', 'UNPREPARED', 'GEMINI', 'GMOS', 'CAL', 'RAW', 'SPECT', 'LS', 'SOUTH', 'GCALFLAT', 'FLAT'}\n",
      "\n",
      "Settable parameters on 'ADUToElectrons':\n",
      "========================================\n",
      "Name                 Current setting      Description\n",
      "\n",
      "suffix               '_ADUToElectrons'    Filename suffix\n",
      "\n",
      "Docstring for 'ADUToElectrons':\n",
      "========================================\n",
      "\n",
      "This primitive will convert the units of the pixel data extensions\n",
      "of the input AstroData object from ADU to electrons by multiplying\n",
      "by the gain. The gain keyword in each extension is then set to 1.0\n",
      "to represent the new conversion factor.\n",
      "\n",
      "Parameters\n",
      "----------\n",
      "suffix: str/None\n",
      "    suffix to be added to output filenames\n",
      "\n",
      "None\n"
     ]
    }
   ],
   "source": [
    "# initialize pclass with the list of astrodata of the observation type above to retrieve all the relevant primitives  \n",
    "ad_input_list = []\n",
    "for F in DF_flat['file'].values:\n",
    "    ad_input_list.append(astrodata.open(F))\n",
    "\n",
    "p = pclass(ad_input_list, config_file=dragons_rc)\n",
    "\n",
    "# now show the primitive and its associated arguments\n",
    "for item in dir(p):\n",
    "   if not item.startswith('_') and inspect.ismethod(getattr(p, item)):\n",
    "       print (item)\n",
    "       print (showpars.showpars(p, item, tags, show_docstring=True)) ## note that this will crash if the primitive doesn't have a docstring\n",
    "       break"
   ]
  },
  {
   "cell_type": "markdown",
   "id": "9983d20d-7fb9-4527-af57-0e80d142f4c9",
   "metadata": {},
   "source": [
    "## Let's inspect the code for showpars to adapt it for our needs"
   ]
  },
  {
   "cell_type": "code",
   "execution_count": 40,
   "id": "5a61d797-2875-4a83-998f-6c1da1c30515",
   "metadata": {},
   "outputs": [
    {
     "data": {
      "text/plain": [
       "\u001b[0;31mSignature:\u001b[0m \u001b[0mshowpars\u001b[0m\u001b[0;34m.\u001b[0m\u001b[0mshowpars\u001b[0m\u001b[0;34m(\u001b[0m\u001b[0mpobj\u001b[0m\u001b[0;34m,\u001b[0m \u001b[0mprimname\u001b[0m\u001b[0;34m,\u001b[0m \u001b[0mtags\u001b[0m\u001b[0;34m,\u001b[0m \u001b[0mshow_docstring\u001b[0m\u001b[0;34m)\u001b[0m\u001b[0;34m\u001b[0m\u001b[0;34m\u001b[0m\u001b[0m\n",
       "\u001b[0;31mDocstring:\u001b[0m <no docstring>\n",
       "\u001b[0;31mSource:\u001b[0m   \n",
       "\u001b[0;32mdef\u001b[0m \u001b[0mshowpars\u001b[0m\u001b[0;34m(\u001b[0m\u001b[0mpobj\u001b[0m\u001b[0;34m,\u001b[0m \u001b[0mprimname\u001b[0m\u001b[0;34m,\u001b[0m \u001b[0mtags\u001b[0m\u001b[0;34m,\u001b[0m \u001b[0mshow_docstring\u001b[0m\u001b[0;34m)\u001b[0m\u001b[0;34m:\u001b[0m\u001b[0;34m\u001b[0m\n",
       "\u001b[0;34m\u001b[0m    \u001b[0mprint\u001b[0m\u001b[0;34m(\u001b[0m\u001b[0;34mf\"Dataset tagged as {tags}\\n\"\u001b[0m\u001b[0;34m)\u001b[0m\u001b[0;34m\u001b[0m\n",
       "\u001b[0;34m\u001b[0m    \u001b[0;32mif\u001b[0m \u001b[0mprimname\u001b[0m \u001b[0;32mnot\u001b[0m \u001b[0;32min\u001b[0m \u001b[0mpobj\u001b[0m\u001b[0;34m.\u001b[0m\u001b[0mparams\u001b[0m\u001b[0;34m:\u001b[0m\u001b[0;34m\u001b[0m\n",
       "\u001b[0;34m\u001b[0m        \u001b[0;32mraise\u001b[0m \u001b[0mKeyError\u001b[0m\u001b[0;34m(\u001b[0m\u001b[0;34mf\"{primname} doesn't exist for \"\u001b[0m\u001b[0;34m\u001b[0m\n",
       "\u001b[0;34m\u001b[0m                       \u001b[0;34m\"this data type.\"\u001b[0m\u001b[0;34m)\u001b[0m\u001b[0;34m\u001b[0m\n",
       "\u001b[0;34m\u001b[0m\u001b[0;34m\u001b[0m\n",
       "\u001b[0;34m\u001b[0m    \u001b[0mprint\u001b[0m\u001b[0;34m(\u001b[0m\u001b[0;34mf\"Settable parameters on '{primname}':\"\u001b[0m\u001b[0;34m)\u001b[0m\u001b[0;34m\u001b[0m\n",
       "\u001b[0;34m\u001b[0m    \u001b[0mprint\u001b[0m\u001b[0;34m(\u001b[0m\u001b[0;34m\"=\"\u001b[0m \u001b[0;34m*\u001b[0m \u001b[0;36m40\u001b[0m\u001b[0;34m)\u001b[0m\u001b[0;34m\u001b[0m\n",
       "\u001b[0;34m\u001b[0m    \u001b[0mprint\u001b[0m\u001b[0;34m(\u001b[0m\u001b[0;34mf\"{'Name':20s} {'Current setting':20s} Description\\n\"\u001b[0m\u001b[0;34m)\u001b[0m\u001b[0;34m\u001b[0m\n",
       "\u001b[0;34m\u001b[0m\u001b[0;34m\u001b[0m\n",
       "\u001b[0;34m\u001b[0m    \u001b[0mparams\u001b[0m \u001b[0;34m=\u001b[0m \u001b[0mpobj\u001b[0m\u001b[0;34m.\u001b[0m\u001b[0mparams\u001b[0m\u001b[0;34m[\u001b[0m\u001b[0mprimname\u001b[0m\u001b[0;34m]\u001b[0m\u001b[0;34m\u001b[0m\n",
       "\u001b[0;34m\u001b[0m    \u001b[0;32mfor\u001b[0m \u001b[0mk\u001b[0m\u001b[0;34m,\u001b[0m \u001b[0mv\u001b[0m \u001b[0;32min\u001b[0m \u001b[0mparams\u001b[0m\u001b[0;34m.\u001b[0m\u001b[0mitems\u001b[0m\u001b[0;34m(\u001b[0m\u001b[0;34m)\u001b[0m\u001b[0;34m:\u001b[0m\u001b[0;34m\u001b[0m\n",
       "\u001b[0;34m\u001b[0m        \u001b[0;32mif\u001b[0m \u001b[0;32mnot\u001b[0m \u001b[0mk\u001b[0m\u001b[0;34m.\u001b[0m\u001b[0mstartswith\u001b[0m\u001b[0;34m(\u001b[0m\u001b[0;34m\"debug\"\u001b[0m\u001b[0;34m)\u001b[0m\u001b[0;34m:\u001b[0m\u001b[0;34m\u001b[0m\n",
       "\u001b[0;34m\u001b[0m            \u001b[0mprint\u001b[0m\u001b[0;34m(\u001b[0m\u001b[0;34mf\"{k:20s} {v!r:20s} {params.doc(k)}\"\u001b[0m\u001b[0;34m)\u001b[0m\u001b[0;34m\u001b[0m\n",
       "\u001b[0;34m\u001b[0m\u001b[0;34m\u001b[0m\n",
       "\u001b[0;34m\u001b[0m    \u001b[0;32mif\u001b[0m \u001b[0mshow_docstring\u001b[0m\u001b[0;34m:\u001b[0m\u001b[0;34m\u001b[0m\n",
       "\u001b[0;34m\u001b[0m        \u001b[0mprint\u001b[0m\u001b[0;34m(\u001b[0m\u001b[0;34mf\"\\nDocstring for '{primname}':\"\u001b[0m\u001b[0;34m)\u001b[0m\u001b[0;34m\u001b[0m\n",
       "\u001b[0;34m\u001b[0m        \u001b[0mprint\u001b[0m\u001b[0;34m(\u001b[0m\u001b[0;34m\"=\"\u001b[0m \u001b[0;34m*\u001b[0m \u001b[0;36m40\u001b[0m\u001b[0;34m)\u001b[0m\u001b[0;34m\u001b[0m\n",
       "\u001b[0;34m\u001b[0m        \u001b[0mprint\u001b[0m\u001b[0;34m(\u001b[0m\u001b[0mtextwrap\u001b[0m\u001b[0;34m.\u001b[0m\u001b[0mdedent\u001b[0m\u001b[0;34m(\u001b[0m\u001b[0mgetattr\u001b[0m\u001b[0;34m(\u001b[0m\u001b[0mpobj\u001b[0m\u001b[0;34m,\u001b[0m \u001b[0mprimname\u001b[0m\u001b[0;34m)\u001b[0m\u001b[0;34m.\u001b[0m\u001b[0m__doc__\u001b[0m\u001b[0;34m)\u001b[0m\u001b[0;34m)\u001b[0m\u001b[0;34m\u001b[0m\u001b[0;34m\u001b[0m\u001b[0m\n",
       "\u001b[0;31mFile:\u001b[0m      /opt/anaconda3/envs/goats-env/lib/python3.10/site-packages/gempy/scripts/showpars.py\n",
       "\u001b[0;31mType:\u001b[0m      function"
      ]
     },
     "metadata": {},
     "output_type": "display_data"
    }
   ],
   "source": [
    "showpars.showpars??"
   ]
  },
  {
   "cell_type": "code",
   "execution_count": 53,
   "id": "c0108be9-3d83-4a76-9a65-ffb7ef9d6db2",
   "metadata": {
    "scrolled": true
   },
   "outputs": [
    {
     "name": "stdout",
     "output_type": "stream",
     "text": [
      "ADUToElectrons\n",
      "Settable parameters on 'ADUToElectrons':\n",
      "========================================\n",
      "Name                 Current setting      Description\n",
      "\n",
      "suffix               '_ADUToElectrons'    Filename suffix\n",
      "\n",
      "Docstring for 'ADUToElectrons':\n",
      "========================================\n",
      "\n",
      "This primitive will convert the units of the pixel data extensions\n",
      "of the input AstroData object from ADU to electrons by multiplying\n",
      "by the gain. The gain keyword in each extension is then set to 1.0\n",
      "to represent the new conversion factor.\n",
      "\n",
      "\n"
     ]
    }
   ],
   "source": [
    "## let's wrap the showpars part in try...except... t avoid the crash and trim off the docstring, if it exists, before the Parameters portion\n",
    "for item in dir(p):\n",
    "   if not item.startswith('_') and inspect.ismethod(getattr(p, item)):\n",
    "       print (item)\n",
    "\n",
    "       print(f\"Settable parameters on '{item}':\")\n",
    "       print(\"=\" * 40)\n",
    "       print(f\"{'Name':20s} {'Current setting':20s} Description\\n\")\n",
    "       params = p.params[item]\n",
    "       for k, v in params.items():\n",
    "           if not k.startswith(\"debug\"):\n",
    "               print(f\"{k:20s} {v!r:20s} {params.doc(k)}\")\n",
    "       try:\n",
    "           print(f\"\\nDocstring for '{item}':\")\n",
    "           print(\"=\" * 40)\n",
    "           X = (getattr(p, item).__doc__)\n",
    "           print(textwrap.dedent(X.split('Parameters')[0]))\n",
    "       except Exception as e:\n",
    "           pass\n",
    "\n",
    "       break"
   ]
  },
  {
   "cell_type": "code",
   "execution_count": null,
   "id": "f4cf86e9-fa04-47ea-9477-f5bffb837537",
   "metadata": {},
   "outputs": [],
   "source": []
  }
 ],
 "metadata": {
  "kernelspec": {
   "display_name": "Python 3 (ipykernel)",
   "language": "python",
   "name": "python3"
  },
  "language_info": {
   "codemirror_mode": {
    "name": "ipython",
    "version": 3
   },
   "file_extension": ".py",
   "mimetype": "text/x-python",
   "name": "python",
   "nbconvert_exporter": "python",
   "pygments_lexer": "ipython3",
   "version": "3.10.14"
  }
 },
 "nbformat": 4,
 "nbformat_minor": 5
}
