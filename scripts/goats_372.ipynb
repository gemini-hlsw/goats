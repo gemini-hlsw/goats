{
 "cells": [
  {
   "cell_type": "code",
   "execution_count": 1,
   "id": "9fdeee2b-8e99-4050-8d88-63cc59d6a13c",
   "metadata": {},
   "outputs": [],
   "source": [
    "__author__ = 'Monika Soraisam'\n",
    "__email__ = 'monika.soraisam@noirlab.edu'"
   ]
  },
  {
   "cell_type": "markdown",
   "id": "e8d8db90-d368-4d17-a630-89cadf701c9b",
   "metadata": {},
   "source": [
    "# This notebook is meant for generating trimmed files for unit testing for Dan (https://noirlab.atlassian.net/jira/software/projects/GOATS/boards/57?selectedIssue=GOATS-372)"
   ]
  },
  {
   "cell_type": "code",
   "execution_count": 2,
   "id": "186d641b-19c0-4a3b-ac16-bb618ac3879b",
   "metadata": {},
   "outputs": [],
   "source": [
    "import os\n",
    "import sys\n",
    "from pathlib import Path\n",
    "import pandas as pd\n",
    "%matplotlib inline\n",
    "import matplotlib.pyplot as plt\n",
    "import numpy as np\n",
    "import datetime\n",
    "import types"
   ]
  },
  {
   "cell_type": "code",
   "execution_count": 3,
   "id": "0def4a53-7f83-42ad-8395-67ae0e955b0a",
   "metadata": {},
   "outputs": [],
   "source": [
    "# Now import the DRAGONS libraries \n",
    "import astrodata\n",
    "import gemini_instruments\n",
    "from recipe_system import cal_service\n",
    "from gempy.adlibrary import dataselect\n",
    "from gempy.utils import logutils\n",
    "\n",
    "from recipe_system.reduction.coreReduce import Reduce\n",
    "from gempy.scripts import showpars\n",
    "from gempy.utils.showrecipes import showrecipes\n",
    "from gempy.utils.showrecipes import showprims"
   ]
  },
  {
   "cell_type": "code",
   "execution_count": 4,
   "id": "bcfaf348-caed-4345-a659-b668edc6cebb",
   "metadata": {},
   "outputs": [],
   "source": [
    "## prep the reduction folder\n",
    "def prep_reduction_folder(data_root, obsid):\n",
    "    reduction_path = Path(f\"{data_root}/{obsid}/reduction\")\n",
    "\n",
    "    if not reduction_path.exists():\n",
    "        os.mkdir(reduction_path.as_posix())\n",
    "        print (f\"directory for dragons reduction created\")\n",
    "    \n",
    "    ## change the cwd to the reduction folder\n",
    "    os.chdir(reduction_path.as_posix())\n",
    "    print(f\"Current working directory is: {os.getcwd()}\")\n",
    "\n",
    "    ## write the configuration file \n",
    "    mydb = \"dragons_for_goats.db\" \n",
    "    mydb_path = reduction_path.as_posix() + '/' + mydb\n",
    "    print (mydb_path)\n",
    "    \n",
    "    dragons_rc = reduction_path.as_posix() + '/dragonsrc'\n",
    "    print (dragons_rc)\n",
    "    \n",
    "    with open(dragons_rc, \"w\") as f:\n",
    "        f.write(\"[calibs]\\ndatabases = {0} get store\".format(mydb_path))\n",
    "\n",
    "    return dragons_rc, mydb_path\n"
   ]
  },
  {
   "cell_type": "code",
   "execution_count": 5,
   "id": "3eef1a68-936f-4e8e-9f74-e4997b0ddd40",
   "metadata": {},
   "outputs": [
    {
     "name": "stdout",
     "output_type": "stream",
     "text": [
      "Current working directory is: /Users/monika.soraisam/Desktop/tomdev/real_goats/GS-2021A-DD-102-9/reduction\n",
      "/Users/monika.soraisam/Desktop/tomdev/real_goats/GS-2021A-DD-102-9/reduction/dragons_for_goats.db\n",
      "/Users/monika.soraisam/Desktop/tomdev/real_goats/GS-2021A-DD-102-9/reduction/dragonsrc\n"
     ]
    }
   ],
   "source": [
    "data_path = \"/Users/monika.soraisam/Desktop/tomdev/real_goats\"\n",
    "obsid = 'GS-2021A-DD-102-9'  # GMOS longslit example \n",
    "dragons_rc, mydb_path = prep_reduction_folder(data_path, obsid)\n"
   ]
  },
  {
   "cell_type": "code",
   "execution_count": 6,
   "id": "4c6fcd16-ecd2-4d6a-8570-87729c02841f",
   "metadata": {},
   "outputs": [],
   "source": [
    "def generate_filelists(location, obsid):\n",
    "    \"\"\"\n",
    "    Parameters\n",
    "    ----------\n",
    "    location: str\n",
    "        Root folder where the Gemini data for a given target is located\n",
    "    obsid: str\n",
    "        Gemini observation ID \n",
    "    \"\"\"\n",
    "\n",
    "    \n",
    "    all_files = [str(pp) for pp in list(Path(location+\"/\"+obsid).glob('*.fits'))]\n",
    "    all_files.sort()\n",
    "    print (f'The total number of files for observation ID {obsid} is {len(all_files)}')\n",
    "\n",
    "    obs_types = ['OBJECT','BIAS','DARK','FLAT','ARC','PINHOLE','RONCHI','CAL','FRINGE','MOS MASK', 'BPM'] #fetched from Obs Type search field on GOA, which is relevant for DRAGONS\n",
    "\n",
    "    all_meta = {}\n",
    "\n",
    "    # Note that even if a few keywords are extracted below, thiis is just meant for demonstration purposes. \n",
    "    # If onyl these keywords are extracted in production, it will not align with  \n",
    "    # implementation of item (2), allowing users to group/select preferred header keywords\n",
    "    for K in obs_types:\n",
    "        all_meta[K] = {'file':[],\n",
    "                        'obs_class':[],\n",
    "                        'group_id':[],\n",
    "                        'exp':[],\n",
    "                        'object':[],\n",
    "                        'wave':[],\n",
    "                        'waveband':[],\n",
    "                        'date':[],\n",
    "                        'roi':[],\n",
    "                        }\n",
    "\n",
    "    object_files = []\n",
    "    for i,F in enumerate(all_files):\n",
    "        ad = astrodata.open(F)\n",
    "\n",
    "        if \"BPM\" in ad.tags or \"UNPREPARED\" in ad.tags: ## want only raw, i.e., \"unprepared\" files, but BPM is an exception, which is processed/prepared \n",
    "            K = ad.observation_type() ## astrodata header also has the observation type, which should match what's in the archive drop-down menu\n",
    "        \n",
    "        elif \"PREPARED\" in ad.tags or \"PROCESSED\" in ad.tags: ## skip all \"prepared\"/\"processed\" files\n",
    "            continue\n",
    "            \n",
    "        all_meta[K]['file'].append(F)\n",
    "        all_meta[K]['obs_class'].append(ad.observation_class())\n",
    "        \n",
    "        # group_id seems to be not implemented for GNIRS spectroscopy yet\n",
    "        if \"GNIRS\" in ad.instrument():\n",
    "            all_meta[K]['group_id'].append(None)\n",
    "        else:\n",
    "            all_meta[K]['group_id'].append(ad.group_id())\n",
    "        all_meta[K]['exp'].append(ad.exposure_time())\n",
    "        all_meta[K]['object'].append(ad.object())\n",
    "        all_meta[K]['wave'].append(ad.central_wavelength())\n",
    "        all_meta[K]['waveband'].append(ad.wavelength_band())\n",
    "        all_meta[K]['date'].append(ad.ut_date())\n",
    "        all_meta[K]['roi'].append(ad.detector_roi_setting()) \n",
    "        #print (F.split('/')[-1], ad.object(), ad.tags)\n",
    "    \n",
    "    return all_meta\n"
   ]
  },
  {
   "cell_type": "code",
   "execution_count": 7,
   "id": "1b3a6a2a-d577-4a54-846d-21e132c017c4",
   "metadata": {},
   "outputs": [
    {
     "name": "stdout",
     "output_type": "stream",
     "text": [
      "The total number of files for observation ID GS-2021A-DD-102-9 is 59\n",
      "There are 4 files for observation type OBJECT\n",
      "There are 50 files for observation type BIAS\n",
      "There are 2 files for observation type FLAT\n",
      "There are 2 files for observation type ARC\n",
      "There are 1 files for observation type BPM\n"
     ]
    }
   ],
   "source": [
    "all_meta = generate_filelists(data_path, obsid)\n",
    "\n",
    "for K,V in all_meta.items():\n",
    "    if len(V['file'])==0:\n",
    "        continue\n",
    "    print (f\"There are {len(V['file'])} files for observation type {K}\") "
   ]
  },
  {
   "cell_type": "code",
   "execution_count": 8,
   "id": "4f6e6545-92ae-4d5b-9316-620cc11bf8a6",
   "metadata": {},
   "outputs": [],
   "source": [
    "DF_bias = pd.DataFrame(all_meta['BIAS'])\n",
    "DF_flat = pd.DataFrame(all_meta['FLAT'])\n",
    "DF_bpm = pd.DataFrame(all_meta['BPM'])\n",
    "DF_object = pd.DataFrame(all_meta['OBJECT'])\n",
    "DF_arc = pd.DataFrame(all_meta['ARC'])"
   ]
  },
  {
   "cell_type": "code",
   "execution_count": 9,
   "id": "242f4abd-ce76-4b6a-b029-9fdd54bad1a5",
   "metadata": {},
   "outputs": [
    {
     "name": "stdout",
     "output_type": "stream",
     "text": [
      "There are 2 science targets in this observation set, namely ['AT2020caa' 'Twilight']\n"
     ]
    }
   ],
   "source": [
    "print (f\"There are {len(np.unique(DF_object['object'].values))} science targets in this observation set, namely {np.unique(DF_object['object'].values)}\")"
   ]
  },
  {
   "cell_type": "markdown",
   "id": "9c3bf364-ea70-42c2-952d-73aac56d9691",
   "metadata": {},
   "source": [
    "## We will use astrodata to \"write\" the trimmed arrary files for each observation type but retaining the same header info. "
   ]
  },
  {
   "cell_type": "code",
   "execution_count": 12,
   "id": "beabfe60-ca16-4e3f-8efc-668a5e212ccc",
   "metadata": {},
   "outputs": [
    {
     "name": "stdout",
     "output_type": "stream",
     "text": [
      "Filename: /Users/monika.soraisam/Desktop/tomdev/real_goats/GS-2021A-DD-102-9/S20210211S0068.fits\n",
      "Tags: AT_ZENITH AZEL_TARGET BIAS CAL GEMINI GMOS NON_SIDEREAL RAW SOUTH\n",
      "    UNPREPARED\n",
      "\n",
      "Pixels Extensions\n",
      "Index  Content                  Type              Dimensions     Format\n",
      "[ 0]   science                  NDAstroData       (2112, 288)    uint16\n",
      "[ 1]   science                  NDAstroData       (2112, 288)    uint16\n",
      "[ 2]   science                  NDAstroData       (2112, 288)    uint16\n",
      "[ 3]   science                  NDAstroData       (2112, 288)    uint16\n",
      "[ 4]   science                  NDAstroData       (2112, 288)    uint16\n",
      "[ 5]   science                  NDAstroData       (2112, 288)    uint16\n",
      "[ 6]   science                  NDAstroData       (2112, 288)    uint16\n",
      "[ 7]   science                  NDAstroData       (2112, 288)    uint16\n",
      "[ 8]   science                  NDAstroData       (2112, 288)    uint16\n",
      "[ 9]   science                  NDAstroData       (2112, 288)    uint16\n",
      "[10]   science                  NDAstroData       (2112, 288)    uint16\n",
      "[11]   science                  NDAstroData       (2112, 288)    uint16\n"
     ]
    }
   ],
   "source": [
    "## for bias\n",
    "\n",
    "ad = astrodata.open(DF_bias['file'].values[0])\n",
    "ad.info()"
   ]
  },
  {
   "cell_type": "code",
   "execution_count": 21,
   "id": "b98e28cd-c4b0-413b-868d-890a932c3426",
   "metadata": {},
   "outputs": [],
   "source": [
    "# Let's reduce the data array size by a factor 8\n",
    "for i in range(12):\n",
    "    temp = ad[i].data\n",
    "    ad[i].data = temp[0:int(temp.shape[0]/8), 0:int(temp.shape[1]/8)]"
   ]
  },
  {
   "cell_type": "code",
   "execution_count": 26,
   "id": "25ade72a-72bf-4d80-a574-c31e372da7d9",
   "metadata": {},
   "outputs": [],
   "source": [
    "# write it to a test file\n",
    "ad.write('../test_files/gmos_longslit_bias.fits', overwrite=True)"
   ]
  },
  {
   "cell_type": "code",
   "execution_count": 28,
   "id": "c7aea129-0a89-4e7c-813a-53817ca373f2",
   "metadata": {},
   "outputs": [
    {
     "name": "stdout",
     "output_type": "stream",
     "text": [
      "Filename: ../test_files/gmos_longslit_bias.fits\n",
      "Tags: AT_ZENITH AZEL_TARGET BIAS CAL GEMINI GMOS NON_SIDEREAL RAW SOUTH\n",
      "    UNPREPARED\n",
      "\n",
      "Pixels Extensions\n",
      "Index  Content                  Type              Dimensions     Format\n",
      "[ 0]   science                  NDAstroData       (264, 36)      uint16\n",
      "[ 1]   science                  NDAstroData       (264, 36)      uint16\n",
      "[ 2]   science                  NDAstroData       (264, 36)      uint16\n",
      "[ 3]   science                  NDAstroData       (264, 36)      uint16\n",
      "[ 4]   science                  NDAstroData       (264, 36)      uint16\n",
      "[ 5]   science                  NDAstroData       (264, 36)      uint16\n",
      "[ 6]   science                  NDAstroData       (264, 36)      uint16\n",
      "[ 7]   science                  NDAstroData       (264, 36)      uint16\n",
      "[ 8]   science                  NDAstroData       (264, 36)      uint16\n",
      "[ 9]   science                  NDAstroData       (264, 36)      uint16\n",
      "[10]   science                  NDAstroData       (264, 36)      uint16\n",
      "[11]   science                  NDAstroData       (264, 36)      uint16\n"
     ]
    }
   ],
   "source": [
    "# check the header is all good\n",
    "AD = astrodata.open('../test_files/gmos_longslit_bias.fits')\n",
    "AD.info()"
   ]
  },
  {
   "cell_type": "code",
   "execution_count": 29,
   "id": "12722b3f-3ab5-4c9a-ac96-5570be1a6b95",
   "metadata": {},
   "outputs": [
    {
     "name": "stdout",
     "output_type": "stream",
     "text": [
      "Filename: /Users/monika.soraisam/Desktop/tomdev/real_goats/GS-2021A-DD-102-9/S20210219S0077.fits\n",
      "Tags: CAL FLAT GCALFLAT GEMINI GMOS LS RAW SIDEREAL SOUTH SPECT UNPREPARED\n",
      "\n",
      "Pixels Extensions\n",
      "Index  Content                  Type              Dimensions     Format\n",
      "[ 0]   science                  NDAstroData       (2112, 288)    uint16\n",
      "[ 1]   science                  NDAstroData       (2112, 288)    uint16\n",
      "[ 2]   science                  NDAstroData       (2112, 288)    uint16\n",
      "[ 3]   science                  NDAstroData       (2112, 288)    uint16\n",
      "[ 4]   science                  NDAstroData       (2112, 288)    uint16\n",
      "[ 5]   science                  NDAstroData       (2112, 288)    uint16\n",
      "[ 6]   science                  NDAstroData       (2112, 288)    uint16\n",
      "[ 7]   science                  NDAstroData       (2112, 288)    uint16\n",
      "[ 8]   science                  NDAstroData       (2112, 288)    uint16\n",
      "[ 9]   science                  NDAstroData       (2112, 288)    uint16\n",
      "[10]   science                  NDAstroData       (2112, 288)    uint16\n",
      "[11]   science                  NDAstroData       (2112, 288)    uint16\n"
     ]
    }
   ],
   "source": [
    "## for flat\n",
    "ad = astrodata.open(DF_flat['file'].values[0])\n",
    "ad.info()"
   ]
  },
  {
   "cell_type": "code",
   "execution_count": 30,
   "id": "a32385b1-ea83-41a2-900c-9d144f9b2a9b",
   "metadata": {},
   "outputs": [
    {
     "name": "stdout",
     "output_type": "stream",
     "text": [
      "Filename: ../test_files/gmos_longslit_flat.fits\n",
      "Tags: CAL FLAT GCALFLAT GEMINI GMOS LS RAW SIDEREAL SOUTH SPECT UNPREPARED\n",
      "\n",
      "Pixels Extensions\n",
      "Index  Content                  Type              Dimensions     Format\n",
      "[ 0]   science                  NDAstroData       (264, 36)      uint16\n",
      "[ 1]   science                  NDAstroData       (264, 36)      uint16\n",
      "[ 2]   science                  NDAstroData       (264, 36)      uint16\n",
      "[ 3]   science                  NDAstroData       (264, 36)      uint16\n",
      "[ 4]   science                  NDAstroData       (264, 36)      uint16\n",
      "[ 5]   science                  NDAstroData       (264, 36)      uint16\n",
      "[ 6]   science                  NDAstroData       (264, 36)      uint16\n",
      "[ 7]   science                  NDAstroData       (264, 36)      uint16\n",
      "[ 8]   science                  NDAstroData       (264, 36)      uint16\n",
      "[ 9]   science                  NDAstroData       (264, 36)      uint16\n",
      "[10]   science                  NDAstroData       (264, 36)      uint16\n",
      "[11]   science                  NDAstroData       (264, 36)      uint16\n"
     ]
    }
   ],
   "source": [
    "for i in ad.indices:\n",
    "    temp = ad[i].data\n",
    "    ad[i].data = temp[0:int(temp.shape[0]/8), 0:int(temp.shape[1]/8)]\n",
    "# write it to a test file\n",
    "ad.write('../test_files/gmos_longslit_flat.fits', overwrite=True)\n",
    "# check the header is all good\n",
    "AD = astrodata.open('../test_files/gmos_longslit_flat.fits')\n",
    "AD.info()"
   ]
  },
  {
   "cell_type": "code",
   "execution_count": 31,
   "id": "ea11f4b0-0ad8-42b3-b42c-15f16ffd57b1",
   "metadata": {},
   "outputs": [
    {
     "name": "stdout",
     "output_type": "stream",
     "text": [
      "Filename: /Users/monika.soraisam/Desktop/tomdev/real_goats/GS-2021A-DD-102-9/S20210219S0101.fits\n",
      "Tags: ARC CAL GEMINI GMOS LS RAW SOUTH SPECT UNPREPARED\n",
      "\n",
      "Pixels Extensions\n",
      "Index  Content                  Type              Dimensions     Format\n",
      "[ 0]   science                  NDAstroData       (2112, 288)    uint16\n",
      "[ 1]   science                  NDAstroData       (2112, 288)    uint16\n",
      "[ 2]   science                  NDAstroData       (2112, 288)    uint16\n",
      "[ 3]   science                  NDAstroData       (2112, 288)    uint16\n",
      "[ 4]   science                  NDAstroData       (2112, 288)    uint16\n",
      "[ 5]   science                  NDAstroData       (2112, 288)    uint16\n",
      "[ 6]   science                  NDAstroData       (2112, 288)    uint16\n",
      "[ 7]   science                  NDAstroData       (2112, 288)    uint16\n",
      "[ 8]   science                  NDAstroData       (2112, 288)    uint16\n",
      "[ 9]   science                  NDAstroData       (2112, 288)    uint16\n",
      "[10]   science                  NDAstroData       (2112, 288)    uint16\n",
      "[11]   science                  NDAstroData       (2112, 288)    uint16\n"
     ]
    }
   ],
   "source": [
    "## for arc\n",
    "ad = astrodata.open(DF_arc['file'].values[0])\n",
    "ad.info()"
   ]
  },
  {
   "cell_type": "code",
   "execution_count": 32,
   "id": "9f9ab6ca-f529-4d9b-96a3-8e0dcd702a70",
   "metadata": {},
   "outputs": [
    {
     "name": "stdout",
     "output_type": "stream",
     "text": [
      "Filename: ../test_files/gmos_longslit_arc.fits\n",
      "Tags: ARC CAL GEMINI GMOS LS RAW SOUTH SPECT UNPREPARED\n",
      "\n",
      "Pixels Extensions\n",
      "Index  Content                  Type              Dimensions     Format\n",
      "[ 0]   science                  NDAstroData       (264, 36)      uint16\n",
      "[ 1]   science                  NDAstroData       (264, 36)      uint16\n",
      "[ 2]   science                  NDAstroData       (264, 36)      uint16\n",
      "[ 3]   science                  NDAstroData       (264, 36)      uint16\n",
      "[ 4]   science                  NDAstroData       (264, 36)      uint16\n",
      "[ 5]   science                  NDAstroData       (264, 36)      uint16\n",
      "[ 6]   science                  NDAstroData       (264, 36)      uint16\n",
      "[ 7]   science                  NDAstroData       (264, 36)      uint16\n",
      "[ 8]   science                  NDAstroData       (264, 36)      uint16\n",
      "[ 9]   science                  NDAstroData       (264, 36)      uint16\n",
      "[10]   science                  NDAstroData       (264, 36)      uint16\n",
      "[11]   science                  NDAstroData       (264, 36)      uint16\n"
     ]
    }
   ],
   "source": [
    "for i in ad.indices:\n",
    "    temp = ad[i].data\n",
    "    ad[i].data = temp[0:int(temp.shape[0]/8), 0:int(temp.shape[1]/8)]\n",
    "# write it to a test file\n",
    "ad.write('../test_files/gmos_longslit_arc.fits', overwrite=True)\n",
    "# check the header is all good\n",
    "AD = astrodata.open('../test_files/gmos_longslit_arc.fits')\n",
    "AD.info()"
   ]
  },
  {
   "cell_type": "code",
   "execution_count": 36,
   "id": "84394465-c899-46b2-8047-bf34efe2f61f",
   "metadata": {},
   "outputs": [
    {
     "name": "stdout",
     "output_type": "stream",
     "text": [
      "Filename: /Users/monika.soraisam/Desktop/tomdev/real_goats/GS-2021A-DD-102-9/bpm_20140601_gmos-s_Ham_22_full_12amp.fits\n",
      "Tags: BPM CAL GEMINI GMOS PREPARED PROCESSED RAW SOUTH\n",
      "\n",
      "Pixels Extensions\n",
      "Index  Content                  Type              Dimensions     Format\n",
      "[ 0]   science                  NDAstroData       (2112, 256)    uint16\n",
      "[ 1]   science                  NDAstroData       (2112, 256)    uint16\n",
      "[ 2]   science                  NDAstroData       (2112, 256)    uint16\n",
      "[ 3]   science                  NDAstroData       (2112, 256)    uint16\n",
      "[ 4]   science                  NDAstroData       (2112, 256)    uint16\n",
      "[ 5]   science                  NDAstroData       (2112, 256)    uint16\n",
      "[ 6]   science                  NDAstroData       (2112, 256)    uint16\n",
      "[ 7]   science                  NDAstroData       (2112, 256)    uint16\n",
      "[ 8]   science                  NDAstroData       (2112, 256)    uint16\n",
      "[ 9]   science                  NDAstroData       (2112, 256)    uint16\n",
      "[10]   science                  NDAstroData       (2112, 256)    uint16\n",
      "[11]   science                  NDAstroData       (2112, 256)    uint16\n"
     ]
    }
   ],
   "source": [
    "## for bpm\n",
    "ad = astrodata.open(DF_bpm['file'].values[0])\n",
    "ad.info()"
   ]
  },
  {
   "cell_type": "code",
   "execution_count": 38,
   "id": "f5a53f42-533f-4d63-ab40-3245af68249d",
   "metadata": {},
   "outputs": [
    {
     "name": "stdout",
     "output_type": "stream",
     "text": [
      "Filename: ../test_files/gmos_longslit_bpm.fits\n",
      "Tags: BPM CAL GEMINI GMOS PREPARED PROCESSED RAW SOUTH\n",
      "\n",
      "Pixels Extensions\n",
      "Index  Content                  Type              Dimensions     Format\n",
      "[ 0]   science                  NDAstroData       (264, 32)      uint16\n",
      "[ 1]   science                  NDAstroData       (264, 32)      uint16\n",
      "[ 2]   science                  NDAstroData       (264, 32)      uint16\n",
      "[ 3]   science                  NDAstroData       (264, 32)      uint16\n",
      "[ 4]   science                  NDAstroData       (264, 32)      uint16\n",
      "[ 5]   science                  NDAstroData       (264, 32)      uint16\n",
      "[ 6]   science                  NDAstroData       (264, 32)      uint16\n",
      "[ 7]   science                  NDAstroData       (264, 32)      uint16\n",
      "[ 8]   science                  NDAstroData       (264, 32)      uint16\n",
      "[ 9]   science                  NDAstroData       (264, 32)      uint16\n",
      "[10]   science                  NDAstroData       (264, 32)      uint16\n",
      "[11]   science                  NDAstroData       (264, 32)      uint16\n"
     ]
    }
   ],
   "source": [
    "for i in ad.indices:\n",
    "    temp = ad[i].data\n",
    "    ad[i].data = temp[0:int(temp.shape[0]/8), 0:int(temp.shape[1]/8)]\n",
    "# write it to a test file\n",
    "ad.write('../test_files/gmos_longslit_bpm.fits', overwrite=True)\n",
    "# check the header is all good\n",
    "AD = astrodata.open('../test_files/gmos_longslit_bpm.fits')\n",
    "AD.info()"
   ]
  },
  {
   "cell_type": "code",
   "execution_count": 42,
   "id": "f8496d1c-df02-4d54-b6b5-b7443e5d63e1",
   "metadata": {},
   "outputs": [
    {
     "name": "stdout",
     "output_type": "stream",
     "text": [
      "Object is Twilight\n",
      "Filename: /Users/monika.soraisam/Desktop/tomdev/real_goats/GS-2021A-DD-102-9/S20210218S0029.fits\n",
      "Tags: CAL GEMINI GMOS LS RAW SIDEREAL SLITILLUM SOUTH SPECT TWILIGHT UNPREPARED\n",
      "\n",
      "Pixels Extensions\n",
      "Index  Content                  Type              Dimensions     Format\n",
      "[ 0]   science                  NDAstroData       (2112, 288)    uint16\n",
      "[ 1]   science                  NDAstroData       (2112, 288)    uint16\n",
      "[ 2]   science                  NDAstroData       (2112, 288)    uint16\n",
      "[ 3]   science                  NDAstroData       (2112, 288)    uint16\n",
      "[ 4]   science                  NDAstroData       (2112, 288)    uint16\n",
      "[ 5]   science                  NDAstroData       (2112, 288)    uint16\n",
      "[ 6]   science                  NDAstroData       (2112, 288)    uint16\n",
      "[ 7]   science                  NDAstroData       (2112, 288)    uint16\n",
      "[ 8]   science                  NDAstroData       (2112, 288)    uint16\n",
      "[ 9]   science                  NDAstroData       (2112, 288)    uint16\n",
      "[10]   science                  NDAstroData       (2112, 288)    uint16\n",
      "[11]   science                  NDAstroData       (2112, 288)    uint16\n"
     ]
    }
   ],
   "source": [
    "## for object\n",
    "ad = astrodata.open(DF_object['file'].values[0])\n",
    "print (f\"Object is {ad.object()}\")\n",
    "ad.info()\n"
   ]
  },
  {
   "cell_type": "code",
   "execution_count": 43,
   "id": "89611694-b67d-441d-9b08-63d879b41449",
   "metadata": {},
   "outputs": [
    {
     "name": "stdout",
     "output_type": "stream",
     "text": [
      "Filename: ../test_files/gmos_longslit_object_twilight.fits\n",
      "Tags: CAL GEMINI GMOS LS RAW SIDEREAL SLITILLUM SOUTH SPECT TWILIGHT UNPREPARED\n",
      "\n",
      "Pixels Extensions\n",
      "Index  Content                  Type              Dimensions     Format\n",
      "[ 0]   science                  NDAstroData       (264, 36)      uint16\n",
      "[ 1]   science                  NDAstroData       (264, 36)      uint16\n",
      "[ 2]   science                  NDAstroData       (264, 36)      uint16\n",
      "[ 3]   science                  NDAstroData       (264, 36)      uint16\n",
      "[ 4]   science                  NDAstroData       (264, 36)      uint16\n",
      "[ 5]   science                  NDAstroData       (264, 36)      uint16\n",
      "[ 6]   science                  NDAstroData       (264, 36)      uint16\n",
      "[ 7]   science                  NDAstroData       (264, 36)      uint16\n",
      "[ 8]   science                  NDAstroData       (264, 36)      uint16\n",
      "[ 9]   science                  NDAstroData       (264, 36)      uint16\n",
      "[10]   science                  NDAstroData       (264, 36)      uint16\n",
      "[11]   science                  NDAstroData       (264, 36)      uint16\n"
     ]
    }
   ],
   "source": [
    "for i in ad.indices:\n",
    "    temp = ad[i].data\n",
    "    ad[i].data = temp[0:int(temp.shape[0]/8), 0:int(temp.shape[1]/8)]\n",
    "# write it to a test file\n",
    "ad.write('../test_files/gmos_longslit_object_twilight.fits', overwrite=True)\n",
    "# check the header is all good\n",
    "AD = astrodata.open('../test_files/gmos_longslit_object_twilight.fits')\n",
    "AD.info()"
   ]
  },
  {
   "cell_type": "code",
   "execution_count": 44,
   "id": "3d5cff93-fa0e-4758-a786-834f766af552",
   "metadata": {},
   "outputs": [
    {
     "name": "stdout",
     "output_type": "stream",
     "text": [
      "Object is AT2020caa\n",
      "Filename: /Users/monika.soraisam/Desktop/tomdev/real_goats/GS-2021A-DD-102-9/S20210219S0075.fits\n",
      "Tags: GEMINI GMOS LS RAW SIDEREAL SOUTH SPECT UNPREPARED\n",
      "\n",
      "Pixels Extensions\n",
      "Index  Content                  Type              Dimensions     Format\n",
      "[ 0]   science                  NDAstroData       (2112, 288)    uint16\n",
      "[ 1]   science                  NDAstroData       (2112, 288)    uint16\n",
      "[ 2]   science                  NDAstroData       (2112, 288)    uint16\n",
      "[ 3]   science                  NDAstroData       (2112, 288)    uint16\n",
      "[ 4]   science                  NDAstroData       (2112, 288)    uint16\n",
      "[ 5]   science                  NDAstroData       (2112, 288)    uint16\n",
      "[ 6]   science                  NDAstroData       (2112, 288)    uint16\n",
      "[ 7]   science                  NDAstroData       (2112, 288)    uint16\n",
      "[ 8]   science                  NDAstroData       (2112, 288)    uint16\n",
      "[ 9]   science                  NDAstroData       (2112, 288)    uint16\n",
      "[10]   science                  NDAstroData       (2112, 288)    uint16\n",
      "[11]   science                  NDAstroData       (2112, 288)    uint16\n"
     ]
    }
   ],
   "source": [
    "## for object\n",
    "ad = astrodata.open(DF_object['file'].values[1])\n",
    "print (f\"Object is {ad.object()}\")\n",
    "ad.info()\n"
   ]
  },
  {
   "cell_type": "code",
   "execution_count": 45,
   "id": "dc208b92-d350-4d5f-a3e0-c9be85424bce",
   "metadata": {},
   "outputs": [
    {
     "name": "stdout",
     "output_type": "stream",
     "text": [
      "Filename: ../test_files/gmos_longslit_object_at2020caa.fits\n",
      "Tags: GEMINI GMOS LS RAW SIDEREAL SOUTH SPECT UNPREPARED\n",
      "\n",
      "Pixels Extensions\n",
      "Index  Content                  Type              Dimensions     Format\n",
      "[ 0]   science                  NDAstroData       (264, 36)      uint16\n",
      "[ 1]   science                  NDAstroData       (264, 36)      uint16\n",
      "[ 2]   science                  NDAstroData       (264, 36)      uint16\n",
      "[ 3]   science                  NDAstroData       (264, 36)      uint16\n",
      "[ 4]   science                  NDAstroData       (264, 36)      uint16\n",
      "[ 5]   science                  NDAstroData       (264, 36)      uint16\n",
      "[ 6]   science                  NDAstroData       (264, 36)      uint16\n",
      "[ 7]   science                  NDAstroData       (264, 36)      uint16\n",
      "[ 8]   science                  NDAstroData       (264, 36)      uint16\n",
      "[ 9]   science                  NDAstroData       (264, 36)      uint16\n",
      "[10]   science                  NDAstroData       (264, 36)      uint16\n",
      "[11]   science                  NDAstroData       (264, 36)      uint16\n"
     ]
    }
   ],
   "source": [
    "for i in ad.indices:\n",
    "    temp = ad[i].data\n",
    "    ad[i].data = temp[0:int(temp.shape[0]/8), 0:int(temp.shape[1]/8)]\n",
    "# write it to a test file\n",
    "ad.write('../test_files/gmos_longslit_object_at2020caa.fits', overwrite=True)\n",
    "# check the header is all good\n",
    "AD = astrodata.open('../test_files/gmos_longslit_object_at2020caa.fits')\n",
    "AD.info()"
   ]
  },
  {
   "cell_type": "code",
   "execution_count": null,
   "id": "e9d9ba4a-0cdb-489d-81a5-629bcfad5261",
   "metadata": {},
   "outputs": [],
   "source": []
  }
 ],
 "metadata": {
  "kernelspec": {
   "display_name": "Python 3 (ipykernel)",
   "language": "python",
   "name": "python3"
  },
  "language_info": {
   "codemirror_mode": {
    "name": "ipython",
    "version": 3
   },
   "file_extension": ".py",
   "mimetype": "text/x-python",
   "name": "python",
   "nbconvert_exporter": "python",
   "pygments_lexer": "ipython3",
   "version": "3.10.14"
  }
 },
 "nbformat": 4,
 "nbformat_minor": 5
}
