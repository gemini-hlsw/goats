{
 "cells": [
  {
   "cell_type": "markdown",
   "id": "f823c4f2-4953-41a7-9afc-a0683d1034b8",
   "metadata": {},
   "source": [
    "## This notebook relates to ticket https://noirlab.atlassian.net/browse/GOATS-481"
   ]
  },
  {
   "cell_type": "code",
   "execution_count": 1,
   "id": "d4f2baf5-eba3-4314-a90b-ed2b395bf057",
   "metadata": {},
   "outputs": [],
   "source": [
    "## folowing imports copied from https://github.com/TOMToolkit/tom_base/blob/dev/tom_dataproducts/processors/spectroscopy_processor.py \n",
    "import mimetypes\n",
    "import numpy as np\n",
    "\n",
    "from datetime import datetime\n",
    "\n",
    "from astropy import units\n",
    "from astropy.io import fits, ascii as astropy_ascii\n",
    "from astropy.time import Time\n",
    "from astropy.wcs import WCS\n",
    "from specutils import Spectrum1D\n",
    "\n",
    "# from tom_dataproducts.data_processor import DataProcessor\n",
    "# from tom_dataproducts.exceptions import InvalidFileFormatException\n",
    "# from tom_dataproducts.processors.data_serializers import SpectrumSerializer\n",
    "#from tom_observations.facility import get_service_class, get_service_classes"
   ]
  },
  {
   "cell_type": "code",
   "execution_count": 2,
   "id": "296cfa9b-b210-4180-a795-e84a540f5f23",
   "metadata": {},
   "outputs": [],
   "source": [
    "# import other libraries\n",
    "import astrodata\n",
    "import gemini_instruments\n",
    "%matplotlib inline\n",
    "import matplotlib.pyplot as plt\n",
    "import astropy.units as u"
   ]
  },
  {
   "cell_type": "markdown",
   "id": "cf6459ff-1266-48ac-a275-fd1da64bc432",
   "metadata": {},
   "source": [
    "### Let's open a DRAGONS reduced 1D spectrum from GMOS"
   ]
  },
  {
   "cell_type": "code",
   "execution_count": 6,
   "id": "a90cd049-395c-4769-b517-8ff5b76f55fa",
   "metadata": {},
   "outputs": [],
   "source": [
    "ad = astrodata.open(\"../../goats_data/ZTF18aaaritk/GEM/GS-2021A-DD-102-9/run-20241003010205/S20210219S0075_1D.fits\")"
   ]
  },
  {
   "cell_type": "code",
   "execution_count": 7,
   "id": "6113e925-f52e-4d84-bb61-6b99ad4e43b4",
   "metadata": {},
   "outputs": [],
   "source": [
    "flux, header = fits.getdata(\"../../goats_data/ZTF18aaaritk/GEM/GS-2021A-DD-102-9/run-20241003010205/S20210219S0075_1D.fits\", header=True)"
   ]
  },
  {
   "cell_type": "code",
   "execution_count": 8,
   "id": "f2376c69-1184-4eeb-b5ec-a46dddb37f17",
   "metadata": {
    "scrolled": true
   },
   "outputs": [
    {
     "data": {
      "text/plain": [
       "XTENSION= 'IMAGE   '           / Image extension                                \n",
       "BITPIX  =                  -64 / array data type                                \n",
       "NAXIS   =                    1 / number of array dimensions                     \n",
       "NAXIS1  =                 3200                                                  \n",
       "PCOUNT  =                    0 / number of parameters                           \n",
       "GCOUNT  =                    1 / number of groups                               \n",
       "INHERIT =                    F / inherit the primary header                     \n",
       "DATATYPE= 'Intensity'          / Type of Data                                   \n",
       "EQUINOX =                2000. / Equinox of coordinate system                   \n",
       "MJD-OBS =     59264.3438821785 / MJD of start of obseration                     \n",
       "CCDNAME = 'BI5-36-4k-2,BI11-33-4k-1,BI12-34-4k-1' / CCD chip name(s)            \n",
       "GAIN    =                  1.0 / Gain [electrons/data value]                    \n",
       "RDNOISE =                 4.24 / Estimated read noise [electrons]               \n",
       "CCDSUM  = '2 2     '           / CCD sum                                        \n",
       "DATASEC = '[1:3200]'           / Data section(s)                                \n",
       "EXTVER  =                    1 / Added by AstroData                             \n",
       "EXTNAME = 'SCI     '           / Added by AstroData                             \n",
       "BUNIT   = 'W m-2 nm-1'         / Physical units of the array values             \n",
       "RADESYS = 'FK5     '           / R.A./DEC. coordinate system reference          \n",
       "PIXSCALE=                 0.16 / Pixel scale [arcsec/pixel]                     \n",
       "GAINSET = 'low     '           / Gain setting (low / high)                      \n",
       "NONLINEA=   242596.80709574287 / Non-linear regime [electron]                   \n",
       "SATLEVEL=   125502.74552288819 / Saturation level [electron]                    \n",
       "DISPAXIS=                    1 / Dispersion axis                                \n",
       "RAWBIAS =                609.0 / Estimated raw bias level [ADU]                 \n",
       "VARNOISE= 'read, Poisson'      / Types of noise included in VAR plane           \n",
       "APERTURE=                    1                                                  \n",
       "XTRACTED=   1076.1873416857877 / Spectrum extracted from row 1076               \n",
       "XTRACTLO=   -4.754376959377851 / Aperture lower limit                           \n",
       "XTRACTHI=    8.468002152790177 / Aperture upper limit                           \n",
       "XTRACTRA=   214.82747473517705 / RA of extracted spectrum                       \n",
       "XTRACTDE=  0.05830709278870305 / DEC of extracted spectrum                      \n",
       "WCSAXES =                    1                                                  \n",
       "WCSDIM  =                    1                                                  \n",
       "CD1_1   =  0.14931235344677357                                                  \n",
       "CRVAL1  =                650.0                                                  \n",
       "CTYPE1  = 'AWAV    '                                                            \n",
       "CRPIX1  =   1545.2976225295597                                                  \n",
       "CUNIT1  = 'nm      '                                                            \n",
       "                                                                                \n",
       "                                                                                \n",
       "                                                                                \n",
       "                                                                                \n",
       "                                                                                \n",
       "                                                                                \n",
       "                                                                                \n",
       "                                                                                \n",
       "                                                                                \n",
       "                                                                                \n",
       "                                                                                \n",
       "                                                                                \n",
       "                                                                                \n",
       "                                                                                \n",
       "                                                                                \n",
       "                                                                                \n",
       "                                                                                \n",
       "                                                                                \n",
       "                                                                                \n",
       "                                                                                \n",
       "                                                                                \n",
       "                                                                                \n",
       "                                                                                \n",
       "                                                                                \n",
       "                                                                                \n",
       "                                                                                \n",
       "                                                                                \n",
       "                                                                                \n",
       "                                                                                \n",
       "                                                                                \n",
       "                                                                                \n",
       "                                                                                \n",
       "                                                                                \n",
       "                                                                                \n",
       "                                                                                \n",
       "                                                                                \n",
       "                                                                                \n",
       "                                                                                \n",
       "                                                                                \n",
       "                                                                                \n",
       "                                                                                \n",
       "                                                                                \n",
       "                                                                                \n",
       "                                                                                \n",
       "                                                                                \n",
       "                                                                                \n",
       "                                                                                \n",
       "                                                                                \n",
       "                                                                                \n",
       "                                                                                \n",
       "                                                                                \n",
       "                                                                                \n",
       "                                                                                \n",
       "                                                                                \n",
       "                                                                                \n",
       "                                                                                \n",
       "                                                                                \n",
       "                                                                                \n",
       "                                                                                \n",
       "                                                                                \n",
       "                                                                                \n",
       "                                                                                \n",
       "                                                                                \n",
       "                                                                                \n",
       "                                                                                \n",
       "                                                                                \n",
       "                                                                                \n",
       "                                                                                \n",
       "                                                                                \n",
       "                                                                                \n",
       "                                                                                \n",
       "                                                                                \n",
       "                                                                                \n",
       "                                                                                \n",
       "                                                                                \n",
       "                                                                                \n",
       "                                                                                \n",
       "                                                                                \n",
       "                                                                                \n",
       "                                                                                \n",
       "                                                                                \n",
       "                                                                                \n",
       "                                                                                \n",
       "                                                                                \n",
       "                                                                                \n",
       "                                                                                \n",
       "                                                                                \n",
       "                                                                                \n",
       "                                                                                \n",
       "                                                                                \n",
       "                                                                                \n",
       "                                                                                \n",
       "                                                                                \n",
       "                                                                                \n",
       "                                                                                \n",
       "                                                                                \n",
       "                                                                                \n",
       "                                                                                \n",
       "                                                                                \n",
       "                                                                                \n",
       "                                                                                \n",
       "                                                                                \n",
       "                                                                                \n",
       "                                                                                \n",
       "                                                                                \n",
       "                                                                                \n",
       "                                                                                \n",
       "                                                                                "
      ]
     },
     "execution_count": 8,
     "metadata": {},
     "output_type": "execute_result"
    }
   ],
   "source": [
    "header"
   ]
  },
  {
   "cell_type": "code",
   "execution_count": 9,
   "id": "e2db3943-90ab-4a81-8229-8b13bf868e61",
   "metadata": {},
   "outputs": [
    {
     "data": {
      "text/plain": [
       "array([ 0.00000000e+00, -5.14769974e-10,  2.68357433e-10, ...,\n",
       "        1.82725993e-19,  1.49662875e-19,  0.00000000e+00], dtype='>f8')"
      ]
     },
     "execution_count": 9,
     "metadata": {},
     "output_type": "execute_result"
    }
   ],
   "source": [
    "flux"
   ]
  },
  {
   "cell_type": "code",
   "execution_count": 10,
   "id": "528bcfcb-9a86-4b93-85d0-b9ab744c0866",
   "metadata": {},
   "outputs": [
    {
     "data": {
      "text/plain": [
       "(3200,)"
      ]
     },
     "execution_count": 10,
     "metadata": {},
     "output_type": "execute_result"
    }
   ],
   "source": [
    "flux.shape"
   ]
  },
  {
   "cell_type": "code",
   "execution_count": 13,
   "id": "b66a7efb-c583-4a71-b9cd-3300d71577ab",
   "metadata": {},
   "outputs": [
    {
     "data": {
      "text/plain": [
       "'W m-2 nm-1'"
      ]
     },
     "execution_count": 13,
     "metadata": {},
     "output_type": "execute_result"
    }
   ],
   "source": [
    "wcs = WCS(header=header, naxis=1)\n",
    "## flux unit\n",
    "flux_unit = header['BUNIT']\n",
    "flux_unit"
   ]
  },
  {
   "cell_type": "code",
   "execution_count": 18,
   "id": "fea60b0b-c1ec-4fb8-b0dc-0043d5614551",
   "metadata": {},
   "outputs": [
    {
     "data": {
      "text/plain": [
       "(Unit(\"W / (nm m2)\"), astropy.units.core.CompositeUnit)"
      ]
     },
     "execution_count": 18,
     "metadata": {},
     "output_type": "execute_result"
    }
   ],
   "source": [
    "## convert the flux_unit into astropy unit, required for creating Spectrum1D object\n",
    "flux_unit_astropy = u.Unit(flux_unit) # plays the role of flux_constant in https://github.com/TOMToolkit/tom_base/blob/af15325e5f9a9af6f60194387323384ad1b33f25/tom_dataproducts/processors/spectroscopy_processor.py#L84\n",
    "flux_unit_astropy, type(flux_unit_astropy)"
   ]
  },
  {
   "cell_type": "code",
   "execution_count": 36,
   "id": "4c25afd2-bf39-446b-9bc0-5b33e95fb514",
   "metadata": {},
   "outputs": [],
   "source": [
    "spectrum = Spectrum1D(flux=flux*flux_unit_astropy, wcs=wcs) ## with the wcs inout, the wavelength unit will be automatically  "
   ]
  },
  {
   "cell_type": "code",
   "execution_count": 37,
   "id": "af6e2860-bb8d-4eaf-b3b6-ba1b0882979e",
   "metadata": {},
   "outputs": [
    {
     "data": {
      "text/plain": [
       "<Spectrum1D(flux=<Quantity [ 0.00000000e+00, -5.14769974e-10,  2.68357433e-10, ...,\n",
       "            1.82725993e-19,  1.49662875e-19,  0.00000000e+00] W / (nm m2)>, spectral_axis=<SpectralAxis \n",
       "   (observer to target:\n",
       "      radial_velocity=0.0 km / s\n",
       "      redshift=0.0)\n",
       "  [4.19417288e-07, 4.19566600e-07, 4.19715912e-07, ..., 8.96768882e-07,\n",
       "   8.96918194e-07, 8.97067506e-07] m>)>"
      ]
     },
     "execution_count": 37,
     "metadata": {},
     "output_type": "execute_result"
    }
   ],
   "source": [
    "spectrum "
   ]
  },
  {
   "cell_type": "code",
   "execution_count": 39,
   "id": "d657bff0-5943-447b-8470-e30054e00ecd",
   "metadata": {},
   "outputs": [
    {
     "name": "stdout",
     "output_type": "stream",
     "text": [
      "[4.19417288e-07 4.19566600e-07 4.19715912e-07 ... 8.96768882e-07\n",
      " 8.96918194e-07 8.97067506e-07] m\n",
      "[4.19417288e-07 4.19566600e-07 4.19715912e-07 ... 8.96768882e-07\n",
      " 8.96918194e-07 8.97067506e-07]\n",
      "[ 0.00000000e+00 -5.14769974e-10  2.68357433e-10 ...  1.82725993e-19\n",
      "  1.49662875e-19  0.00000000e+00] W / (nm m2)\n",
      "[ 0.00000000e+00 -5.14769974e-10  2.68357433e-10 ...  1.82725993e-19\n",
      "  1.49662875e-19  0.00000000e+00]\n"
     ]
    }
   ],
   "source": [
    "print (spectrum.spectral_axis) # wavelength with unit  \n",
    "print (spectrum.spectral_axis.value) # wavelength without unit\n",
    "print (spectrum.flux) # flux with unit \n",
    "print (spectrum.flux.value) # flux without unit"
   ]
  },
  {
   "cell_type": "code",
   "execution_count": 40,
   "id": "8f838d16-1686-463e-acdb-68ec58a5ec2a",
   "metadata": {},
   "outputs": [
    {
     "data": {
      "image/png": "[encoded data removed]",
      "text/plain": [
       "<Figure size 640x480 with 1 Axes>"
      ]
     },
     "metadata": {},
     "output_type": "display_data"
    }
   ],
   "source": [
    "## Let's plot it with mapltolib\n",
    "\n",
    "plt.close('all')\n",
    "fig, ax = plt.subplots()\n",
    "ax.plot(spectrum.spectral_axis, spectrum.flux)\n",
    "ax.set_xlabel(f'{spectrum.spectral_axis.unit}')\n",
    "\n",
    "ax.set_ylabel(f'{spectrum.flux.unit}')\n",
    "plt.show()"
   ]
  },
  {
   "cell_type": "code",
   "execution_count": null,
   "id": "c09d47a2-90ea-4853-8be0-663191e0ada8",
   "metadata": {},
   "outputs": [],
   "source": []
  }
 ],
 "metadata": {
  "kernelspec": {
   "display_name": "Python 3 (ipykernel)",
   "language": "python",
   "name": "python3"
  },
  "language_info": {
   "codemirror_mode": {
    "name": "ipython",
    "version": 3
   },
   "file_extension": ".py",
   "mimetype": "text/x-python",
   "name": "python",
   "nbconvert_exporter": "python",
   "pygments_lexer": "ipython3",
   "version": "3.10.14"
  }
 },
 "nbformat": 4,
 "nbformat_minor": 5
}
