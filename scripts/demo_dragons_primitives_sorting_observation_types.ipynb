{
 "cells": [
  {
   "cell_type": "code",
   "execution_count": 1,
   "id": "d368cfd1-c39c-4179-a11d-0dbd5ac91a73",
   "metadata": {},
   "outputs": [],
   "source": [
    "__author__ = 'Monika Soraisam'\n",
    "__email__ = 'monika.soraisam@noirlab.edu'"
   ]
  },
  {
   "cell_type": "markdown",
   "id": "317e8eff-179f-4e80-8438-f01d7d03a5dc",
   "metadata": {},
   "source": [
    "# This notebook is for investigating how one can meaningfully<br> 1) sort the files into observation types,<br> 2) group/select the files for a given observation type on GOATS' dragons page.<br> \n",
    "\n",
    "Implementing a generalized sorting mechanism is a necessity for GOATS application. This will ensure users can properly manage observations, especially when there are, say data taken with multiple filters or multiple science targets within the same observation ID.    "
   ]
  },
  {
   "cell_type": "code",
   "execution_count": 2,
   "id": "92d36363-dc86-4e83-b572-3bb72df31aa4",
   "metadata": {},
   "outputs": [],
   "source": [
    "import os\n",
    "from pathlib import Path\n",
    "import pandas as pd\n",
    "import numpy as np\n",
    "import inspect\n",
    "\n",
    "# for bokeh apps to load from the jupyter notebook on a different browser tab\n",
    "import nest_asyncio\n",
    "nest_asyncio.apply()"
   ]
  },
  {
   "cell_type": "code",
   "execution_count": 3,
   "id": "6ce6153f-36c4-481a-bc57-205fc0fa3838",
   "metadata": {},
   "outputs": [],
   "source": [
    "# Now import the DRAGONS libraries \n",
    "import astrodata\n",
    "import gemini_instruments\n",
    "\n",
    "from gempy.scripts import showpars\n",
    "from gempy.utils.showrecipes import showrecipes\n",
    "from gempy.utils.showrecipes import showprims\n",
    "\n",
    "from recipe_system.mappers.primitiveMapper import PrimitiveMapper\n",
    "from recipe_system.mappers.recipeMapper import RecipeMapper\n",
    "\n",
    "import textwrap"
   ]
  },
  {
   "cell_type": "code",
   "execution_count": 4,
   "id": "9249d408-fb8e-461b-a3e2-a1b16ae815cc",
   "metadata": {},
   "outputs": [],
   "source": [
    "from recipe_system.reduction.coreReduce import Reduce\n",
    "from recipe_system import cal_service\n",
    "from gempy.adlibrary import dataselect\n",
    "from gempy.utils import logutils"
   ]
  },
  {
   "cell_type": "markdown",
   "id": "53bbd3c1-9a30-4e06-b734-16e44a0cfab4",
   "metadata": {},
   "source": [
    "## Modifying the filelist generation to be generic"
   ]
  },
  {
   "cell_type": "code",
   "execution_count": 5,
   "id": "95d4dd07-ee73-4f39-8743-6d92e2014b8c",
   "metadata": {},
   "outputs": [],
   "source": [
    "def generate_filelists(location, obsid):\n",
    "    \"\"\"\n",
    "    Parameters\n",
    "    ----------\n",
    "    location: str\n",
    "        Root folder where the Gemini data for a given target is located\n",
    "    obsid: str\n",
    "        Gemini observation ID \n",
    "    \"\"\"\n",
    "\n",
    "    \n",
    "    all_files = [str(pp) for pp in list(Path(location+\"/\"+obsid).glob('*.fits'))]\n",
    "    all_files.sort()\n",
    "    print (f'The total number of files for observation ID {obsid} is {len(all_files)}')\n",
    "\n",
    "    obs_types = ['OBJECT','BIAS','DARK','FLAT','ARC','PINHOLE','RONCHI','CAL','FRINGE','MOS MASK', 'BPM'] #fetched from Obs Type search field on GOA, which is relevant for DRAGONS\n",
    "\n",
    "    all_meta = {}\n",
    "\n",
    "    # Note that even if a few keywords are extracted below, thiis is just meant for demonstration puporses. \n",
    "    # If onyl these keywords are extracted in production, it will not align with  \n",
    "    # implementation of item (2), allowing users to group/select preferred header keywords\n",
    "    for K in obs_types:\n",
    "        all_meta[K] = {'file':[],\n",
    "                        'obs_class':[],\n",
    "                        'group_id':[],\n",
    "                        'exp':[],\n",
    "                        'object':[],\n",
    "                        'wave':[],\n",
    "                        'waveband':[],\n",
    "                        'date':[],\n",
    "                        'roi':[],\n",
    "                        }\n",
    "\n",
    "    object_files = []\n",
    "    for i,F in enumerate(all_files):\n",
    "        ad = astrodata.open(F)\n",
    "\n",
    "        if \"BPM\" in ad.tags or \"UNPREPARED\" in ad.tags: ## want only raw, i.e., \"unprepared\" files, but BPM is an exception, which is processed/prepared \n",
    "            K = ad.observation_type() ## astrodata header also has the observation type, which should match what's in the archive drop-down menu\n",
    "        \n",
    "        if \"PREPARED\" in ad.tags or \"PROCESSED\" in ad.tags: ## skip all \"prepared\"/\"processed\" files\n",
    "            continue\n",
    "            \n",
    "        all_meta[K]['file'].append(F)\n",
    "        all_meta[K]['obs_class'].append(ad.observation_class())\n",
    "        \n",
    "        # group_id seems to be not implemented for GNIRS spectroscopy yet\n",
    "        if \"GNIRS\" in ad.instrument():\n",
    "            all_meta[K]['group_id'].append(None)\n",
    "        else:\n",
    "            all_meta[K]['group_id'].append(ad.group_id())\n",
    "        all_meta[K]['exp'].append(ad.exposure_time())\n",
    "        all_meta[K]['object'].append(ad.object())\n",
    "        all_meta[K]['wave'].append(ad.central_wavelength())\n",
    "        all_meta[K]['waveband'].append(ad.wavelength_band())\n",
    "        all_meta[K]['date'].append(ad.ut_date())\n",
    "        all_meta[K]['roi'].append(ad.detector_roi_setting()) \n",
    "        #print (F.split('/')[-1], ad.object(), ad.tags)\n",
    "    \n",
    "    return all_meta\n"
   ]
  },
  {
   "cell_type": "markdown",
   "id": "5b1ab82d-c693-48e5-868b-26ef004d0393",
   "metadata": {},
   "source": [
    "# GMOS longslit example"
   ]
  },
  {
   "cell_type": "code",
   "execution_count": 6,
   "id": "14ea5d3e-ff06-465c-8d50-8a93685ac3ca",
   "metadata": {},
   "outputs": [],
   "source": [
    "# data_path = \"/data/goats_dev_data/example_data/data/ZTF18acppavh/GEM\" ## linux machine \n",
    "# #data_path = \"/Users/monika.soraisam/Desktop/tomdev/real_goats/goats_data/ZTF18aabfthf/GEM\" ## mac \n",
    "data_path = \"/Users/monika.soraisam/Desktop/tomdev/real_goats\" ## mac\n",
    "obsid = 'GS-2021A-DD-102-9'"
   ]
  },
  {
   "cell_type": "code",
   "execution_count": 7,
   "id": "f1c76241-a601-4bb1-bc33-032ae9177951",
   "metadata": {},
   "outputs": [
    {
     "name": "stdout",
     "output_type": "stream",
     "text": [
      "The total number of files for observation ID GS-2021A-DD-102-9 is 59\n",
      "There are 4 files for observation type OBJECT\n",
      "There are 50 files for observation type BIAS\n",
      "There are 2 files for observation type FLAT\n",
      "There are 2 files for observation type ARC\n",
      "There are 1 files for observation type BPM\n"
     ]
    }
   ],
   "source": [
    "all_meta = generate_filelists(data_path, obsid)\n",
    "observation_type = []\n",
    "\n",
    "for K,V in all_meta.items():\n",
    "    if len(V['file'])==0:\n",
    "        continue\n",
    "    print (f\"There are {len(V['file'])} files for observation type {K}\")\n",
    "    observation_type.append(K)\n"
   ]
  },
  {
   "cell_type": "markdown",
   "id": "1eb7f04c-9021-4f06-862d-1835496ee7a9",
   "metadata": {},
   "source": [
    "## Let's create a separate pandas dataframe for each observation type"
   ]
  },
  {
   "cell_type": "code",
   "execution_count": 8,
   "id": "533c4443-82c9-4074-9b33-d086e4cee388",
   "metadata": {},
   "outputs": [],
   "source": [
    "DF_object = pd.DataFrame(all_meta['OBJECT'])\n",
    "DF_bias = pd.DataFrame(all_meta['BIAS'])\n",
    "DF_flat = pd.DataFrame(all_meta['FLAT'])\n",
    "DF_arc = pd.DataFrame(all_meta['ARC'])\n",
    "DF_bpm = pd.DataFrame(all_meta['BPM'])\n"
   ]
  },
  {
   "cell_type": "markdown",
   "id": "ff2f9fe8-af35-499e-820f-b3769edd6904",
   "metadata": {},
   "source": [
    "## Let's examine the \"unique\" object names (not to be confused with the OBJECT observation type; this refers to the header keyword here) "
   ]
  },
  {
   "cell_type": "code",
   "execution_count": 9,
   "id": "e2211879-b8c6-4070-97a0-1cd85b8709e8",
   "metadata": {},
   "outputs": [
    {
     "name": "stdout",
     "output_type": "stream",
     "text": [
      "['AT2020caa' 'Twilight']\n"
     ]
    }
   ],
   "source": [
    "print (np.unique(DF_object['object'].values))"
   ]
  },
  {
   "cell_type": "code",
   "execution_count": 10,
   "id": "cf286864-6c21-4c35-90df-005d8757070f",
   "metadata": {},
   "outputs": [
    {
     "name": "stdout",
     "output_type": "stream",
     "text": [
      "['Bias']\n"
     ]
    }
   ],
   "source": [
    "print (np.unique(DF_bias['object'].values))"
   ]
  },
  {
   "cell_type": "code",
   "execution_count": 11,
   "id": "3cf3c290-00d8-41a1-a3bd-f09c4c965119",
   "metadata": {},
   "outputs": [
    {
     "name": "stdout",
     "output_type": "stream",
     "text": [
      "['GCALflat']\n"
     ]
    }
   ],
   "source": [
    "print (np.unique(DF_flat['object'].values))"
   ]
  },
  {
   "cell_type": "code",
   "execution_count": 12,
   "id": "fa56260b-5162-43cd-99f3-b9186072e531",
   "metadata": {},
   "outputs": [
    {
     "name": "stdout",
     "output_type": "stream",
     "text": [
      "['CuAr']\n"
     ]
    }
   ],
   "source": [
    "print (np.unique(DF_arc['object'].values))"
   ]
  },
  {
   "cell_type": "code",
   "execution_count": 13,
   "id": "b01492bb-eb14-46e9-908d-5c96b6d52bbd",
   "metadata": {},
   "outputs": [
    {
     "name": "stdout",
     "output_type": "stream",
     "text": [
      "['BPM']\n"
     ]
    }
   ],
   "source": [
    "print (np.unique(DF_bpm['object'].values))"
   ]
  },
  {
   "cell_type": "markdown",
   "id": "197e0db8-72c5-4d8e-8b20-965800bf127d",
   "metadata": {},
   "source": [
    "**Conclusion: we Do NOT expect observation types other than `OBJECT` to have different \"object names\" (again, referring to header keyword). Hence, only the `OBJECT` observation type should be separated based on the unique object names when listing the files on the GOATS frontend.** "
   ]
  },
  {
   "cell_type": "markdown",
   "id": "fb2e73b5-d1bc-47ee-a467-ccc23ef3ff26",
   "metadata": {},
   "source": [
    "#"
   ]
  },
  {
   "cell_type": "markdown",
   "id": "af862d15-1afe-472d-a51b-994c9916dab7",
   "metadata": {},
   "source": [
    "# About feature to \"group\"/\"select\" by keyword"
   ]
  },
  {
   "cell_type": "markdown",
   "id": "fa21fd8e-ce78-4903-a50a-599ad248bf7e",
   "metadata": {},
   "source": [
    "## One possibility is to group the files for a given observation type using the descriptor `group_id` -- pretty ugly-looking string (see below). This descriptor so defined in the DRAGONS codebase is meant to group \"compatible\" observations for a given instrument, mode of observation, data type, etc. However, for some instrumet+mode combination, it may not yet exist, e.g., GNIRS spectroscopy."
   ]
  },
  {
   "cell_type": "code",
   "execution_count": 10,
   "id": "5065a92e-43af-4519-adfd-8e3dd0003443",
   "metadata": {
    "scrolled": true
   },
   "outputs": [
    {
     "name": "stdout",
     "output_type": "stream",
     "text": [
      "\n",
      "observation type BIAS\n",
      "Group ID is: 2_2_Normal_[\"'BI5-36-4k-2, 4':[1:512,1:4224]\", \"'BI5-36-4k-2, 3':[513:1024,1:4224]\", \"'BI5-36-4k-2, 2':[1025:1536,1:4224]\", \"'BI5-36-4k-2, 1':[1537:2048,1:4224]\", \"'BI11-33-4k-1, 4':[2049:2560,1:4224]\", \"'BI11-33-4k-1, 3':[2561:3072,1:4224]\", \"'BI11-33-4k-1, 2':[3073:3584,1:4224]\", \"'BI11-33-4k-1, 1':[3585:4096,1:4224]\", \"'BI12-34-4k-1, 4':[4097:4608,1:4224]\", \"'BI12-34-4k-1, 3':[4609:5120,1:4224]\", \"'BI12-34-4k-1, 2':[5121:5632,1:4224]\", \"'BI12-34-4k-1, 1':[5633:6144,1:4224]\"]\n",
      "No. of files for this group ID: 50\n",
      "\n",
      "observation type FLAT\n",
      "Group ID is: GG455_6.5e-07_2_2_Normal_[\"'BI5-36-4k-2, 4':[1:512,1:4224]\", \"'BI5-36-4k-2, 3':[513:1024,1:4224]\", \"'BI5-36-4k-2, 2':[1025:1536,1:4224]\", \"'BI5-36-4k-2, 1':[1537:2048,1:4224]\", \"'BI11-33-4k-1, 4':[2049:2560,1:4224]\", \"'BI11-33-4k-1, 3':[2561:3072,1:4224]\", \"'BI11-33-4k-1, 2':[3073:3584,1:4224]\", \"'BI11-33-4k-1, 1':[3585:4096,1:4224]\", \"'BI12-34-4k-1, 4':[4097:4608,1:4224]\", \"'BI12-34-4k-1, 3':[4609:5120,1:4224]\", \"'BI12-34-4k-1, 2':[5121:5632,1:4224]\", \"'BI12-34-4k-1, 1':[5633:6144,1:4224]\"]_R400\n",
      "No. of files for this group ID: 1\n",
      "Group ID is: GG455_6.6e-07_2_2_Normal_[\"'BI5-36-4k-2, 4':[1:512,1:4224]\", \"'BI5-36-4k-2, 3':[513:1024,1:4224]\", \"'BI5-36-4k-2, 2':[1025:1536,1:4224]\", \"'BI5-36-4k-2, 1':[1537:2048,1:4224]\", \"'BI11-33-4k-1, 4':[2049:2560,1:4224]\", \"'BI11-33-4k-1, 3':[2561:3072,1:4224]\", \"'BI11-33-4k-1, 2':[3073:3584,1:4224]\", \"'BI11-33-4k-1, 1':[3585:4096,1:4224]\", \"'BI12-34-4k-1, 4':[4097:4608,1:4224]\", \"'BI12-34-4k-1, 3':[4609:5120,1:4224]\", \"'BI12-34-4k-1, 2':[5121:5632,1:4224]\", \"'BI12-34-4k-1, 1':[5633:6144,1:4224]\"]_R400\n",
      "No. of files for this group ID: 1\n",
      "\n",
      "observation type ARC\n",
      "Group ID is: GG455_6.5e-07_2_2_Normal_[\"'BI5-36-4k-2, 4':[1:512,1:4224]\", \"'BI5-36-4k-2, 3':[513:1024,1:4224]\", \"'BI5-36-4k-2, 2':[1025:1536,1:4224]\", \"'BI5-36-4k-2, 1':[1537:2048,1:4224]\", \"'BI11-33-4k-1, 4':[2049:2560,1:4224]\", \"'BI11-33-4k-1, 3':[2561:3072,1:4224]\", \"'BI11-33-4k-1, 2':[3073:3584,1:4224]\", \"'BI11-33-4k-1, 1':[3585:4096,1:4224]\", \"'BI12-34-4k-1, 4':[4097:4608,1:4224]\", \"'BI12-34-4k-1, 3':[4609:5120,1:4224]\", \"'BI12-34-4k-1, 2':[5121:5632,1:4224]\", \"'BI12-34-4k-1, 1':[5633:6144,1:4224]\"]_R400\n",
      "No. of files for this group ID: 1\n",
      "Group ID is: GG455_6.6e-07_2_2_Normal_[\"'BI5-36-4k-2, 4':[1:512,1:4224]\", \"'BI5-36-4k-2, 3':[513:1024,1:4224]\", \"'BI5-36-4k-2, 2':[1025:1536,1:4224]\", \"'BI5-36-4k-2, 1':[1537:2048,1:4224]\", \"'BI11-33-4k-1, 4':[2049:2560,1:4224]\", \"'BI11-33-4k-1, 3':[2561:3072,1:4224]\", \"'BI11-33-4k-1, 2':[3073:3584,1:4224]\", \"'BI11-33-4k-1, 1':[3585:4096,1:4224]\", \"'BI12-34-4k-1, 4':[4097:4608,1:4224]\", \"'BI12-34-4k-1, 3':[4609:5120,1:4224]\", \"'BI12-34-4k-1, 2':[5121:5632,1:4224]\", \"'BI12-34-4k-1, 1':[5633:6144,1:4224]\"]_R400\n",
      "No. of files for this group ID: 1\n",
      "\n",
      "observation type BPM\n",
      "Group ID is: GS-CAL20191231-3_i_2_2_Normal_[\"'BI5-36-4k-2, 4':[1:512,1:4224]\", \"'BI5-36-4k-2, 3':[513:1024,1:4224]\", \"'BI5-36-4k-2, 2':[1025:1536,1:4224]\", \"'BI5-36-4k-2, 1':[1537:2048,1:4224]\", \"'BI11-33-4k-1, 4':[2049:2560,1:4224]\", \"'BI11-33-4k-1, 3':[2561:3072,1:4224]\", \"'BI11-33-4k-1, 2':[3073:3584,1:4224]\", \"'BI11-33-4k-1, 1':[3585:4096,1:4224]\", \"'BI12-34-4k-1, 4':[4097:4608,1:4224]\", \"'BI12-34-4k-1, 3':[4609:5120,1:4224]\", \"'BI12-34-4k-1, 2':[5121:5632,1:4224]\", \"'BI12-34-4k-1, 1':[5633:6144,1:4224]\"]\n",
      "No. of files for this group ID: 1\n",
      "\n",
      "observation type object\n",
      "Group ID is: GS-2021A-DD-102-9_GG455_2_2_Normal_[\"'BI5-36-4k-2, 4':[1:512,1:4224]\", \"'BI5-36-4k-2, 3':[513:1024,1:4224]\", \"'BI5-36-4k-2, 2':[1025:1536,1:4224]\", \"'BI5-36-4k-2, 1':[1537:2048,1:4224]\", \"'BI11-33-4k-1, 4':[2049:2560,1:4224]\", \"'BI11-33-4k-1, 3':[2561:3072,1:4224]\", \"'BI11-33-4k-1, 2':[3073:3584,1:4224]\", \"'BI11-33-4k-1, 1':[3585:4096,1:4224]\", \"'BI12-34-4k-1, 4':[4097:4608,1:4224]\", \"'BI12-34-4k-1, 3':[4609:5120,1:4224]\", \"'BI12-34-4k-1, 2':[5121:5632,1:4224]\", \"'BI12-34-4k-1, 1':[5633:6144,1:4224]\"]_R400\n",
      "No. of files for this group ID: 3\n",
      "\n",
      "observation type unknown\n",
      "Group ID is: GG455_6.5e-07_2_2_Normal_[\"'BI5-36-4k-2, 4':[1:512,1:4224]\", \"'BI5-36-4k-2, 3':[513:1024,1:4224]\", \"'BI5-36-4k-2, 2':[1025:1536,1:4224]\", \"'BI5-36-4k-2, 1':[1537:2048,1:4224]\", \"'BI11-33-4k-1, 4':[2049:2560,1:4224]\", \"'BI11-33-4k-1, 3':[2561:3072,1:4224]\", \"'BI11-33-4k-1, 2':[3073:3584,1:4224]\", \"'BI11-33-4k-1, 1':[3585:4096,1:4224]\", \"'BI12-34-4k-1, 4':[4097:4608,1:4224]\", \"'BI12-34-4k-1, 3':[4609:5120,1:4224]\", \"'BI12-34-4k-1, 2':[5121:5632,1:4224]\", \"'BI12-34-4k-1, 1':[5633:6144,1:4224]\"]_R400\n",
      "No. of files for this group ID: 1\n"
     ]
    }
   ],
   "source": [
    "for K in observation_type:\n",
    "    print (f\"\\nobservation type {K}\")\n",
    "    DF = pd.DataFrame(all_meta[K])\n",
    "\n",
    "    for kk, vv in DF.groupby('group_id'):\n",
    "        print (f\"Group ID is: {kk}\")\n",
    "        print (f\"No. of files for this group ID: {len(vv)}\")\n"
   ]
  },
  {
   "cell_type": "markdown",
   "id": "2ad47953-c60a-47ba-8e94-1652aff46390",
   "metadata": {},
   "source": [
    "## F2 imaging example -- containing observations (same observation ID) taken with multiple filters "
   ]
  },
  {
   "cell_type": "code",
   "execution_count": 11,
   "id": "42f700e7-dd3f-4567-a6de-7ab8a9c18c67",
   "metadata": {},
   "outputs": [],
   "source": [
    "data_path = \"/data/goats_dev_data/example_data/data/ZTF18acppavh/GEM\" ## linux machine \n",
    "obsid = 'GS-2015B-Q-46-59'"
   ]
  },
  {
   "cell_type": "code",
   "execution_count": 13,
   "id": "f36665a0-76a1-402f-86f0-e4d86d691dad",
   "metadata": {},
   "outputs": [
    {
     "name": "stdout",
     "output_type": "stream",
     "text": [
      "The total number of files for observation ID GS-2015B-Q-46-59 is 235\n",
      "There are 47 files for observation type DARK\n",
      "There are 32 files for observation type FLAT\n",
      "There are 6 files for observation type standard\n",
      "There are 150 files for observation type object\n"
     ]
    }
   ],
   "source": [
    "all_meta = generate_filelists(data_path, obsid)\n",
    "observation_type = []\n",
    "\n",
    "for K,V in all_meta.items():\n",
    "    if len(V['file'])==0:\n",
    "        continue\n",
    "    print (f\"There are {len(V['file'])} files for observation type {K}\")\n",
    "    observation_type.append(K)\n"
   ]
  },
  {
   "cell_type": "code",
   "execution_count": 14,
   "id": "46908b29-6fda-44f8-a110-5b22084c52fb",
   "metadata": {
    "scrolled": true
   },
   "outputs": [
    {
     "name": "stdout",
     "output_type": "stream",
     "text": [
      "\n",
      "observation type DARK\n",
      "Group ID is: 13.0_1_1_['[1:2048,1:2048]']\n",
      "No. of files for this group ID: 10\n",
      "Group ID is: 15.0_1_1_['[1:2048,1:2048]']\n",
      "No. of files for this group ID: 10\n",
      "Group ID is: 2.0_1_1_['[1:2048,1:2048]']\n",
      "No. of files for this group ID: 7\n",
      "Group ID is: 3.0_1_1_['[1:2048,1:2048]']\n",
      "No. of files for this group ID: 10\n",
      "Group ID is: 8.0_1_1_['[1:2048,1:2048]']\n",
      "No. of files for this group ID: 10\n",
      "\n",
      "observation type FLAT\n",
      "Group ID is: H_f/16_G5830_3.0_GS-2015B-Q-46-60_1_['[1:2048,1:2048]']_F2_IMAGE_FLAT\n",
      "No. of files for this group ID: 10\n",
      "Group ID is: H_f/16_G5830_3.0_GS-2015B-Q-46-62_1_['[1:2048,1:2048]']_F2_IMAGE_FLAT\n",
      "No. of files for this group ID: 10\n",
      "Group ID is: Ks_f/16_G5830_8.0_GS-2015B-Q-46-60_1_['[1:2048,1:2048]']_F2_IMAGE_FLAT\n",
      "No. of files for this group ID: 6\n",
      "Group ID is: Ks_f/16_G5830_8.0_GS-2015B-Q-46-62_1_['[1:2048,1:2048]']_F2_IMAGE_FLAT\n",
      "No. of files for this group ID: 6\n",
      "\n",
      "observation type standard\n",
      "Group ID is: GS-2015B-SV-301-46_H_f/16_G5830_3.0_1_['[1:2048,1:2048]']\n",
      "No. of files for this group ID: 3\n",
      "Group ID is: GS-2015B-SV-301-46_Ks_f/16_G5830_3.0_1_['[1:2048,1:2048]']\n",
      "No. of files for this group ID: 3\n",
      "\n",
      "observation type object\n",
      "Group ID is: GS-2015B-Q-46-59_H_f/16_G5830_13.0_1_['[1:2048,1:2048]']\n",
      "No. of files for this group ID: 128\n",
      "Group ID is: GS-2015B-Q-46-59_Ks_f/16_G5830_15.0_1_['[1:2048,1:2048]']\n",
      "No. of files for this group ID: 22\n"
     ]
    }
   ],
   "source": [
    "for K in observation_type:\n",
    "    print (f\"\\nobservation type {K}\")\n",
    "    DF = pd.DataFrame(all_meta[K])\n",
    "\n",
    "    for kk, vv in DF.groupby('group_id'):\n",
    "        print (f\"Group ID is: {kk}\")\n",
    "        print (f\"No. of files for this group ID: {len(vv)}\")\n"
   ]
  },
  {
   "cell_type": "markdown",
   "id": "7a0c3037-8167-4f5e-9ad5-d84b501b966a",
   "metadata": {},
   "source": [
    "## What if the users wants a separate grouping? If we resort to using the `group_id` descriptor only, this will limit a more flexible grouping mechannism on GOATS. "
   ]
  },
  {
   "cell_type": "markdown",
   "id": "7f02b6c4-89c5-46e6-9e9d-263dd0b4c414",
   "metadata": {},
   "source": [
    "## We already display the `astrodata` generated descriptors (which tend to be self-explanatory as well) on the GOATS dragons page. Best way forward, offering the maximum flexibility, is to allow users to choose the descriptors to group the files themselves.   "
   ]
  },
  {
   "cell_type": "markdown",
   "id": "8e08cec5-def2-4fa1-b5dd-e3f9d01e5f5f",
   "metadata": {},
   "source": [
    "**E.g., Let's try to choose a bunch of descriptors to group the flats for the above F2 imaging observation ID. I'm using pandas dataframe for this.**"
   ]
  },
  {
   "cell_type": "code",
   "execution_count": 15,
   "id": "54dfd6f9-6bfa-4185-bdca-e8e0ae538ff7",
   "metadata": {},
   "outputs": [],
   "source": [
    "df_flat = pd.DataFrame(all_meta['FLAT'])"
   ]
  },
  {
   "cell_type": "code",
   "execution_count": 17,
   "id": "3cb50a98-4898-4624-8b39-015d3919dd33",
   "metadata": {},
   "outputs": [],
   "source": [
    "AD = astrodata.open(df_flat['file'].values[0])"
   ]
  },
  {
   "cell_type": "code",
   "execution_count": 18,
   "id": "d84180e9-16ec-4d25-867a-76d1442e2929",
   "metadata": {
    "scrolled": true
   },
   "outputs": [
    {
     "data": {
      "text/plain": [
       "('airmass',\n",
       " 'amp_read_area',\n",
       " 'ao_seeing',\n",
       " 'array_name',\n",
       " 'array_section',\n",
       " 'azimuth',\n",
       " 'binning',\n",
       " 'calibration_key',\n",
       " 'cass_rotator_pa',\n",
       " 'central_wavelength',\n",
       " 'coadds',\n",
       " 'data_label',\n",
       " 'data_section',\n",
       " 'dec',\n",
       " 'decker',\n",
       " 'detector_name',\n",
       " 'detector_roi_setting',\n",
       " 'detector_rois_requested',\n",
       " 'detector_section',\n",
       " 'detector_x_bin',\n",
       " 'detector_x_offset',\n",
       " 'detector_y_bin',\n",
       " 'detector_y_offset',\n",
       " 'disperser',\n",
       " 'dispersion',\n",
       " 'dispersion_axis',\n",
       " 'effective_wavelength',\n",
       " 'elevation',\n",
       " 'exposure_time',\n",
       " 'filter_name',\n",
       " 'focal_plane_mask',\n",
       " 'gain_setting',\n",
       " 'gcal_lamp',\n",
       " 'group_id',\n",
       " 'instrument',\n",
       " 'is_ao',\n",
       " 'is_coadds_summed',\n",
       " 'is_in_adu',\n",
       " 'local_time',\n",
       " 'lyot_stop',\n",
       " 'mdf_row_id',\n",
       " 'nominal_atmospheric_extinction',\n",
       " 'nominal_photometric_zeropoint',\n",
       " 'object',\n",
       " 'observation_class',\n",
       " 'observation_epoch',\n",
       " 'observation_id',\n",
       " 'observation_type',\n",
       " 'overscan_section',\n",
       " 'pixel_scale',\n",
       " 'position_angle',\n",
       " 'program_id',\n",
       " 'pupil_mask',\n",
       " 'qa_state',\n",
       " 'ra',\n",
       " 'raw_bg',\n",
       " 'raw_cc',\n",
       " 'raw_iq',\n",
       " 'raw_wv',\n",
       " 'read_mode',\n",
       " 'read_speed_setting',\n",
       " 'requested_bg',\n",
       " 'requested_cc',\n",
       " 'requested_iq',\n",
       " 'requested_wv',\n",
       " 'slit',\n",
       " 'slit_width',\n",
       " 'target_dec',\n",
       " 'target_ra',\n",
       " 'telescope',\n",
       " 'telescope_x_offset',\n",
       " 'telescope_y_offset',\n",
       " 'ut_date',\n",
       " 'ut_datetime',\n",
       " 'ut_time',\n",
       " 'wavefront_sensor',\n",
       " 'wavelength_band',\n",
       " 'wcs_dec',\n",
       " 'wcs_ra',\n",
       " 'well_depth_setting')"
      ]
     },
     "execution_count": 18,
     "metadata": {},
     "output_type": "execute_result"
    }
   ],
   "source": [
    "AD.descriptors"
   ]
  },
  {
   "cell_type": "markdown",
   "id": "bd35b831-5385-4c8b-b0eb-bbc596c9083c",
   "metadata": {},
   "source": [
    "**Let's make a pandas dataframe containing all the descriptors for each flat file**"
   ]
  },
  {
   "cell_type": "code",
   "execution_count": 32,
   "id": "a7cbe68a-0636-474d-b858-1ece04d62246",
   "metadata": {},
   "outputs": [],
   "source": [
    "TEMP = {}\n",
    "for i, K in enumerate(df_flat['file'].values):\n",
    "    temp = {}\n",
    "    temp['file'] = K\n",
    "    ad = astrodata.open(K)\n",
    "    for X in ad.descriptors:\n",
    "        result = getattr(ad, X)\n",
    "        temp[X] = result()\n",
    "    TEMP[i] = temp  "
   ]
  },
  {
   "cell_type": "code",
   "execution_count": 33,
   "id": "bcfdba3b-9815-4420-b04f-d8a36a2b4a3a",
   "metadata": {
    "scrolled": true
   },
   "outputs": [],
   "source": [
    "descriptor_DF = pd.DataFrame.from_dict(TEMP).transpose()"
   ]
  },
  {
   "cell_type": "code",
   "execution_count": 34,
   "id": "3dc3f010-3431-4b20-8907-b28d0585089a",
   "metadata": {},
   "outputs": [
    {
     "data": {
      "text/html": [
       "<div>\n",
       "<style scoped>\n",
       "    .dataframe tbody tr th:only-of-type {\n",
       "        vertical-align: middle;\n",
       "    }\n",
       "\n",
       "    .dataframe tbody tr th {\n",
       "        vertical-align: top;\n",
       "    }\n",
       "\n",
       "    .dataframe thead th {\n",
       "        text-align: right;\n",
       "    }\n",
       "</style>\n",
       "<table border=\"1\" class=\"dataframe\">\n",
       "  <thead>\n",
       "    <tr style=\"text-align: right;\">\n",
       "      <th></th>\n",
       "      <th>file</th>\n",
       "      <th>airmass</th>\n",
       "      <th>amp_read_area</th>\n",
       "      <th>ao_seeing</th>\n",
       "      <th>array_name</th>\n",
       "      <th>array_section</th>\n",
       "      <th>azimuth</th>\n",
       "      <th>binning</th>\n",
       "      <th>calibration_key</th>\n",
       "      <th>cass_rotator_pa</th>\n",
       "      <th>...</th>\n",
       "      <th>telescope_x_offset</th>\n",
       "      <th>telescope_y_offset</th>\n",
       "      <th>ut_date</th>\n",
       "      <th>ut_datetime</th>\n",
       "      <th>ut_time</th>\n",
       "      <th>wavefront_sensor</th>\n",
       "      <th>wavelength_band</th>\n",
       "      <th>wcs_dec</th>\n",
       "      <th>wcs_ra</th>\n",
       "      <th>well_depth_setting</th>\n",
       "    </tr>\n",
       "  </thead>\n",
       "  <tbody>\n",
       "    <tr>\n",
       "      <th>0</th>\n",
       "      <td>/data/goats_dev_data/example_data/data/ZTF18ac...</td>\n",
       "      <td>1.0</td>\n",
       "      <td>[None]</td>\n",
       "      <td>None</td>\n",
       "      <td>[None]</td>\n",
       "      <td>[(0, 2048, 0, 2048)]</td>\n",
       "      <td>146.999983</td>\n",
       "      <td>1x1</td>\n",
       "      <td>GS-2015B-Q-46-60-001</td>\n",
       "      <td>175.10997</td>\n",
       "      <td>...</td>\n",
       "      <td>-0.0</td>\n",
       "      <td>-0.0</td>\n",
       "      <td>2015-11-28</td>\n",
       "      <td>2015-11-28 11:31:33.400000</td>\n",
       "      <td>11:31:33.400000</td>\n",
       "      <td>None</td>\n",
       "      <td>H</td>\n",
       "      <td>-30.144968</td>\n",
       "      <td>168.897162</td>\n",
       "      <td>None</td>\n",
       "    </tr>\n",
       "    <tr>\n",
       "      <th>1</th>\n",
       "      <td>/data/goats_dev_data/example_data/data/ZTF18ac...</td>\n",
       "      <td>1.0</td>\n",
       "      <td>[None]</td>\n",
       "      <td>None</td>\n",
       "      <td>[None]</td>\n",
       "      <td>[(0, 2048, 0, 2048)]</td>\n",
       "      <td>146.999983</td>\n",
       "      <td>1x1</td>\n",
       "      <td>GS-2015B-Q-46-60-002</td>\n",
       "      <td>175.10997</td>\n",
       "      <td>...</td>\n",
       "      <td>-0.0</td>\n",
       "      <td>-0.0</td>\n",
       "      <td>2015-11-28</td>\n",
       "      <td>2015-11-28 11:31:56.900000</td>\n",
       "      <td>11:31:56.900000</td>\n",
       "      <td>None</td>\n",
       "      <td>H</td>\n",
       "      <td>-30.144843</td>\n",
       "      <td>168.995078</td>\n",
       "      <td>None</td>\n",
       "    </tr>\n",
       "    <tr>\n",
       "      <th>2</th>\n",
       "      <td>/data/goats_dev_data/example_data/data/ZTF18ac...</td>\n",
       "      <td>1.0</td>\n",
       "      <td>[None]</td>\n",
       "      <td>None</td>\n",
       "      <td>[None]</td>\n",
       "      <td>[(0, 2048, 0, 2048)]</td>\n",
       "      <td>146.999983</td>\n",
       "      <td>1x1</td>\n",
       "      <td>GS-2015B-Q-46-60-003</td>\n",
       "      <td>175.10997</td>\n",
       "      <td>...</td>\n",
       "      <td>-0.0</td>\n",
       "      <td>-0.0</td>\n",
       "      <td>2015-11-28</td>\n",
       "      <td>2015-11-28 11:32:19.900000</td>\n",
       "      <td>11:32:19.900000</td>\n",
       "      <td>None</td>\n",
       "      <td>H</td>\n",
       "      <td>-30.144718</td>\n",
       "      <td>169.091012</td>\n",
       "      <td>None</td>\n",
       "    </tr>\n",
       "    <tr>\n",
       "      <th>3</th>\n",
       "      <td>/data/goats_dev_data/example_data/data/ZTF18ac...</td>\n",
       "      <td>1.0</td>\n",
       "      <td>[None]</td>\n",
       "      <td>None</td>\n",
       "      <td>[None]</td>\n",
       "      <td>[(0, 2048, 0, 2048)]</td>\n",
       "      <td>146.999983</td>\n",
       "      <td>1x1</td>\n",
       "      <td>GS-2015B-Q-46-60-004</td>\n",
       "      <td>175.10997</td>\n",
       "      <td>...</td>\n",
       "      <td>-0.0</td>\n",
       "      <td>-0.0</td>\n",
       "      <td>2015-11-28</td>\n",
       "      <td>2015-11-28 11:32:42.400000</td>\n",
       "      <td>11:32:42.400000</td>\n",
       "      <td>None</td>\n",
       "      <td>H</td>\n",
       "      <td>-30.144595</td>\n",
       "      <td>169.183942</td>\n",
       "      <td>None</td>\n",
       "    </tr>\n",
       "    <tr>\n",
       "      <th>4</th>\n",
       "      <td>/data/goats_dev_data/example_data/data/ZTF18ac...</td>\n",
       "      <td>1.0</td>\n",
       "      <td>[None]</td>\n",
       "      <td>None</td>\n",
       "      <td>[None]</td>\n",
       "      <td>[(0, 2048, 0, 2048)]</td>\n",
       "      <td>146.999983</td>\n",
       "      <td>1x1</td>\n",
       "      <td>GS-2015B-Q-46-60-005</td>\n",
       "      <td>175.10997</td>\n",
       "      <td>...</td>\n",
       "      <td>-0.0</td>\n",
       "      <td>-0.0</td>\n",
       "      <td>2015-11-28</td>\n",
       "      <td>2015-11-28 11:33:04.400000</td>\n",
       "      <td>11:33:04.400000</td>\n",
       "      <td>None</td>\n",
       "      <td>H</td>\n",
       "      <td>-30.144473</td>\n",
       "      <td>169.276857</td>\n",
       "      <td>None</td>\n",
       "    </tr>\n",
       "  </tbody>\n",
       "</table>\n",
       "<p>5 rows × 81 columns</p>\n",
       "</div>"
      ],
      "text/plain": [
       "                                                file airmass amp_read_area  \\\n",
       "0  /data/goats_dev_data/example_data/data/ZTF18ac...     1.0        [None]   \n",
       "1  /data/goats_dev_data/example_data/data/ZTF18ac...     1.0        [None]   \n",
       "2  /data/goats_dev_data/example_data/data/ZTF18ac...     1.0        [None]   \n",
       "3  /data/goats_dev_data/example_data/data/ZTF18ac...     1.0        [None]   \n",
       "4  /data/goats_dev_data/example_data/data/ZTF18ac...     1.0        [None]   \n",
       "\n",
       "  ao_seeing array_name         array_section     azimuth binning  \\\n",
       "0      None     [None]  [(0, 2048, 0, 2048)]  146.999983     1x1   \n",
       "1      None     [None]  [(0, 2048, 0, 2048)]  146.999983     1x1   \n",
       "2      None     [None]  [(0, 2048, 0, 2048)]  146.999983     1x1   \n",
       "3      None     [None]  [(0, 2048, 0, 2048)]  146.999983     1x1   \n",
       "4      None     [None]  [(0, 2048, 0, 2048)]  146.999983     1x1   \n",
       "\n",
       "        calibration_key cass_rotator_pa  ... telescope_x_offset  \\\n",
       "0  GS-2015B-Q-46-60-001       175.10997  ...               -0.0   \n",
       "1  GS-2015B-Q-46-60-002       175.10997  ...               -0.0   \n",
       "2  GS-2015B-Q-46-60-003       175.10997  ...               -0.0   \n",
       "3  GS-2015B-Q-46-60-004       175.10997  ...               -0.0   \n",
       "4  GS-2015B-Q-46-60-005       175.10997  ...               -0.0   \n",
       "\n",
       "  telescope_y_offset     ut_date                 ut_datetime          ut_time  \\\n",
       "0               -0.0  2015-11-28  2015-11-28 11:31:33.400000  11:31:33.400000   \n",
       "1               -0.0  2015-11-28  2015-11-28 11:31:56.900000  11:31:56.900000   \n",
       "2               -0.0  2015-11-28  2015-11-28 11:32:19.900000  11:32:19.900000   \n",
       "3               -0.0  2015-11-28  2015-11-28 11:32:42.400000  11:32:42.400000   \n",
       "4               -0.0  2015-11-28  2015-11-28 11:33:04.400000  11:33:04.400000   \n",
       "\n",
       "  wavefront_sensor wavelength_band    wcs_dec      wcs_ra well_depth_setting  \n",
       "0             None               H -30.144968  168.897162               None  \n",
       "1             None               H -30.144843  168.995078               None  \n",
       "2             None               H -30.144718  169.091012               None  \n",
       "3             None               H -30.144595  169.183942               None  \n",
       "4             None               H -30.144473  169.276857               None  \n",
       "\n",
       "[5 rows x 81 columns]"
      ]
     },
     "execution_count": 34,
     "metadata": {},
     "output_type": "execute_result"
    }
   ],
   "source": [
    "descriptor_DF.head()"
   ]
  },
  {
   "cell_type": "markdown",
   "id": "ff543199-24f3-44b9-b20a-2a08bd251063",
   "metadata": {},
   "source": [
    "**Suppose the user wants to group by binning and wavelength_band, i.e., make subgroups of files, which have the same values for the two parameters binning and wavelength_band**"
   ]
  },
  {
   "cell_type": "code",
   "execution_count": 39,
   "id": "921cc869-77cb-494b-91c9-7cfcf94872e8",
   "metadata": {},
   "outputs": [
    {
     "name": "stdout",
     "output_type": "stream",
     "text": [
      "('1x1', 'H') 20\n",
      "('1x1', 'K') 12\n"
     ]
    }
   ],
   "source": [
    "for K, V in descriptor_DF.groupby(['binning','wavelength_band']):\n",
    "    print (K, len(V))"
   ]
  },
  {
   "cell_type": "markdown",
   "id": "66342e89-3d9c-4651-9bc4-84ca4d9ae6da",
   "metadata": {},
   "source": [
    "## We can also consider allowing users to fine-tune their selection of files, beyond simply checking the button on and off. For that let's follow what IPAC has https://irsa.ipac.caltech.edu/onlinehelp/ztf/<br>We allow the following six logical operators:\n",
    "\n",
    "-  = which means 'equal to' (exactly!), e.g., the parameter on which you are querying (the column headers as shown) is exactly equal to this value you are specifying.\n",
    "-  \\> which means 'greater than'\n",
    "- < which mean 'less than'\n",
    "- != which means 'not equal to' (exactly!)\n",
    "- \\>= which means 'greater than or equal to'\n",
    "- <= which means 'less than or equal to'"
   ]
  },
  {
   "cell_type": "code",
   "execution_count": 40,
   "id": "9652bd7e-0d0b-466f-8cd5-15de497716cf",
   "metadata": {
    "scrolled": true
   },
   "outputs": [
    {
     "data": {
      "text/plain": [
       "Index(['file', 'airmass', 'amp_read_area', 'ao_seeing', 'array_name',\n",
       "       'array_section', 'azimuth', 'binning', 'calibration_key',\n",
       "       'cass_rotator_pa', 'central_wavelength', 'coadds', 'data_label',\n",
       "       'data_section', 'dec', 'decker', 'detector_name',\n",
       "       'detector_roi_setting', 'detector_rois_requested', 'detector_section',\n",
       "       'detector_x_bin', 'detector_x_offset', 'detector_y_bin',\n",
       "       'detector_y_offset', 'disperser', 'dispersion', 'dispersion_axis',\n",
       "       'effective_wavelength', 'elevation', 'exposure_time', 'filter_name',\n",
       "       'focal_plane_mask', 'gain_setting', 'gcal_lamp', 'group_id',\n",
       "       'instrument', 'is_ao', 'is_coadds_summed', 'is_in_adu', 'local_time',\n",
       "       'lyot_stop', 'mdf_row_id', 'nominal_atmospheric_extinction',\n",
       "       'nominal_photometric_zeropoint', 'object', 'observation_class',\n",
       "       'observation_epoch', 'observation_id', 'observation_type',\n",
       "       'overscan_section', 'pixel_scale', 'position_angle', 'program_id',\n",
       "       'pupil_mask', 'qa_state', 'ra', 'raw_bg', 'raw_cc', 'raw_iq', 'raw_wv',\n",
       "       'read_mode', 'read_speed_setting', 'requested_bg', 'requested_cc',\n",
       "       'requested_iq', 'requested_wv', 'slit', 'slit_width', 'target_dec',\n",
       "       'target_ra', 'telescope', 'telescope_x_offset', 'telescope_y_offset',\n",
       "       'ut_date', 'ut_datetime', 'ut_time', 'wavefront_sensor',\n",
       "       'wavelength_band', 'wcs_dec', 'wcs_ra', 'well_depth_setting'],\n",
       "      dtype='object')"
      ]
     },
     "execution_count": 40,
     "metadata": {},
     "output_type": "execute_result"
    }
   ],
   "source": [
    "descriptor_DF.columns"
   ]
  },
  {
   "cell_type": "markdown",
   "id": "886d442e-c223-4465-b191-edf8e601442d",
   "metadata": {},
   "source": [
    "**Let's select flat files based on exposure_time**"
   ]
  },
  {
   "cell_type": "code",
   "execution_count": 45,
   "id": "7ce4b0f1-4398-4e4e-a06a-e9ce2475738e",
   "metadata": {},
   "outputs": [
    {
     "name": "stdout",
     "output_type": "stream",
     "text": [
      "Total number of selected files is 20\n"
     ]
    }
   ],
   "source": [
    "mask = descriptor_DF['exposure_time']<5.0 ## exposure time less than 5 seconds\n",
    "selected1 = descriptor_DF[mask]\n",
    "print (f\"Total number of selected files is {len(selected1)}\")"
   ]
  }
 ],
 "metadata": {
  "kernelspec": {
   "display_name": "Python 3 (ipykernel)",
   "language": "python",
   "name": "python3"
  },
  "language_info": {
   "codemirror_mode": {
    "name": "ipython",
    "version": 3
   },
   "file_extension": ".py",
   "mimetype": "text/x-python",
   "name": "python",
   "nbconvert_exporter": "python",
   "pygments_lexer": "ipython3",
   "version": "3.10.14"
  }
 },
 "nbformat": 4,
 "nbformat_minor": 5
}
